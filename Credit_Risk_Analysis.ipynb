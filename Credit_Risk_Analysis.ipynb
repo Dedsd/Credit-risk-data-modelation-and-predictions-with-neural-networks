{
 "cells": [
  {
   "cell_type": "markdown",
   "source": [
    "## Import of libs"
   ],
   "metadata": {}
  },
  {
   "cell_type": "code",
   "execution_count": 1,
   "source": [
    "import pandas as pd\n",
    "import matplotlib.pyplot as plt\n",
    "import seaborn as sns"
   ],
   "outputs": [],
   "metadata": {}
  },
  {
   "cell_type": "markdown",
   "source": [
    "## Loading data"
   ],
   "metadata": {}
  },
  {
   "cell_type": "code",
   "execution_count": 2,
   "source": [
    "credit_risk = pd.read_csv('databases/credit_risk_dataset.csv')"
   ],
   "outputs": [],
   "metadata": {}
  },
  {
   "cell_type": "markdown",
   "source": [
    "## Visualizing data"
   ],
   "metadata": {}
  },
  {
   "cell_type": "code",
   "execution_count": 3,
   "source": [
    "credit_risk"
   ],
   "outputs": [
    {
     "output_type": "execute_result",
     "data": {
      "text/plain": [
       "      clientid        income        age         loan  default\n",
       "0            1  66155.925095  59.017015  8106.532131        0\n",
       "1            2  34415.153966  48.117153  6564.745018        0\n",
       "2            3  57317.170063  63.108049  8020.953296        0\n",
       "3            4  42709.534201  45.751972  6103.642260        0\n",
       "4            5  66952.688845  18.584336  8770.099235        1\n",
       "...        ...           ...        ...          ...      ...\n",
       "1995      1996  59221.044874  48.518179  1926.729397        0\n",
       "1996      1997  69516.127573  23.162104  3503.176156        0\n",
       "1997      1998  44311.449262  28.017167  5522.786693        1\n",
       "1998      1999  43756.056605  63.971796  1622.722598        0\n",
       "1999      2000  69436.579552  56.152617  7378.833599        0\n",
       "\n",
       "[2000 rows x 5 columns]"
      ],
      "text/html": [
       "<div>\n",
       "<style scoped>\n",
       "    .dataframe tbody tr th:only-of-type {\n",
       "        vertical-align: middle;\n",
       "    }\n",
       "\n",
       "    .dataframe tbody tr th {\n",
       "        vertical-align: top;\n",
       "    }\n",
       "\n",
       "    .dataframe thead th {\n",
       "        text-align: right;\n",
       "    }\n",
       "</style>\n",
       "<table border=\"1\" class=\"dataframe\">\n",
       "  <thead>\n",
       "    <tr style=\"text-align: right;\">\n",
       "      <th></th>\n",
       "      <th>clientid</th>\n",
       "      <th>income</th>\n",
       "      <th>age</th>\n",
       "      <th>loan</th>\n",
       "      <th>default</th>\n",
       "    </tr>\n",
       "  </thead>\n",
       "  <tbody>\n",
       "    <tr>\n",
       "      <th>0</th>\n",
       "      <td>1</td>\n",
       "      <td>66155.925095</td>\n",
       "      <td>59.017015</td>\n",
       "      <td>8106.532131</td>\n",
       "      <td>0</td>\n",
       "    </tr>\n",
       "    <tr>\n",
       "      <th>1</th>\n",
       "      <td>2</td>\n",
       "      <td>34415.153966</td>\n",
       "      <td>48.117153</td>\n",
       "      <td>6564.745018</td>\n",
       "      <td>0</td>\n",
       "    </tr>\n",
       "    <tr>\n",
       "      <th>2</th>\n",
       "      <td>3</td>\n",
       "      <td>57317.170063</td>\n",
       "      <td>63.108049</td>\n",
       "      <td>8020.953296</td>\n",
       "      <td>0</td>\n",
       "    </tr>\n",
       "    <tr>\n",
       "      <th>3</th>\n",
       "      <td>4</td>\n",
       "      <td>42709.534201</td>\n",
       "      <td>45.751972</td>\n",
       "      <td>6103.642260</td>\n",
       "      <td>0</td>\n",
       "    </tr>\n",
       "    <tr>\n",
       "      <th>4</th>\n",
       "      <td>5</td>\n",
       "      <td>66952.688845</td>\n",
       "      <td>18.584336</td>\n",
       "      <td>8770.099235</td>\n",
       "      <td>1</td>\n",
       "    </tr>\n",
       "    <tr>\n",
       "      <th>...</th>\n",
       "      <td>...</td>\n",
       "      <td>...</td>\n",
       "      <td>...</td>\n",
       "      <td>...</td>\n",
       "      <td>...</td>\n",
       "    </tr>\n",
       "    <tr>\n",
       "      <th>1995</th>\n",
       "      <td>1996</td>\n",
       "      <td>59221.044874</td>\n",
       "      <td>48.518179</td>\n",
       "      <td>1926.729397</td>\n",
       "      <td>0</td>\n",
       "    </tr>\n",
       "    <tr>\n",
       "      <th>1996</th>\n",
       "      <td>1997</td>\n",
       "      <td>69516.127573</td>\n",
       "      <td>23.162104</td>\n",
       "      <td>3503.176156</td>\n",
       "      <td>0</td>\n",
       "    </tr>\n",
       "    <tr>\n",
       "      <th>1997</th>\n",
       "      <td>1998</td>\n",
       "      <td>44311.449262</td>\n",
       "      <td>28.017167</td>\n",
       "      <td>5522.786693</td>\n",
       "      <td>1</td>\n",
       "    </tr>\n",
       "    <tr>\n",
       "      <th>1998</th>\n",
       "      <td>1999</td>\n",
       "      <td>43756.056605</td>\n",
       "      <td>63.971796</td>\n",
       "      <td>1622.722598</td>\n",
       "      <td>0</td>\n",
       "    </tr>\n",
       "    <tr>\n",
       "      <th>1999</th>\n",
       "      <td>2000</td>\n",
       "      <td>69436.579552</td>\n",
       "      <td>56.152617</td>\n",
       "      <td>7378.833599</td>\n",
       "      <td>0</td>\n",
       "    </tr>\n",
       "  </tbody>\n",
       "</table>\n",
       "<p>2000 rows × 5 columns</p>\n",
       "</div>"
      ]
     },
     "metadata": {},
     "execution_count": 3
    }
   ],
   "metadata": {}
  },
  {
   "cell_type": "code",
   "execution_count": 4,
   "source": [
    "credit_risk.describe()"
   ],
   "outputs": [
    {
     "output_type": "execute_result",
     "data": {
      "text/plain": [
       "          clientid        income          age          loan      default\n",
       "count  2000.000000   2000.000000  1997.000000   2000.000000  2000.000000\n",
       "mean   1000.500000  45331.600018    40.807559   4444.369695     0.141500\n",
       "std     577.494589  14326.327119    13.624469   3045.410024     0.348624\n",
       "min       1.000000  20014.489470   -52.423280      1.377630     0.000000\n",
       "25%     500.750000  32796.459717    28.990415   1939.708847     0.000000\n",
       "50%    1000.500000  45789.117313    41.317159   3974.719419     0.000000\n",
       "75%    1500.250000  57791.281668    52.587040   6432.410625     0.000000\n",
       "max    2000.000000  69995.685578    63.971796  13766.051239     1.000000"
      ],
      "text/html": [
       "<div>\n",
       "<style scoped>\n",
       "    .dataframe tbody tr th:only-of-type {\n",
       "        vertical-align: middle;\n",
       "    }\n",
       "\n",
       "    .dataframe tbody tr th {\n",
       "        vertical-align: top;\n",
       "    }\n",
       "\n",
       "    .dataframe thead th {\n",
       "        text-align: right;\n",
       "    }\n",
       "</style>\n",
       "<table border=\"1\" class=\"dataframe\">\n",
       "  <thead>\n",
       "    <tr style=\"text-align: right;\">\n",
       "      <th></th>\n",
       "      <th>clientid</th>\n",
       "      <th>income</th>\n",
       "      <th>age</th>\n",
       "      <th>loan</th>\n",
       "      <th>default</th>\n",
       "    </tr>\n",
       "  </thead>\n",
       "  <tbody>\n",
       "    <tr>\n",
       "      <th>count</th>\n",
       "      <td>2000.000000</td>\n",
       "      <td>2000.000000</td>\n",
       "      <td>1997.000000</td>\n",
       "      <td>2000.000000</td>\n",
       "      <td>2000.000000</td>\n",
       "    </tr>\n",
       "    <tr>\n",
       "      <th>mean</th>\n",
       "      <td>1000.500000</td>\n",
       "      <td>45331.600018</td>\n",
       "      <td>40.807559</td>\n",
       "      <td>4444.369695</td>\n",
       "      <td>0.141500</td>\n",
       "    </tr>\n",
       "    <tr>\n",
       "      <th>std</th>\n",
       "      <td>577.494589</td>\n",
       "      <td>14326.327119</td>\n",
       "      <td>13.624469</td>\n",
       "      <td>3045.410024</td>\n",
       "      <td>0.348624</td>\n",
       "    </tr>\n",
       "    <tr>\n",
       "      <th>min</th>\n",
       "      <td>1.000000</td>\n",
       "      <td>20014.489470</td>\n",
       "      <td>-52.423280</td>\n",
       "      <td>1.377630</td>\n",
       "      <td>0.000000</td>\n",
       "    </tr>\n",
       "    <tr>\n",
       "      <th>25%</th>\n",
       "      <td>500.750000</td>\n",
       "      <td>32796.459717</td>\n",
       "      <td>28.990415</td>\n",
       "      <td>1939.708847</td>\n",
       "      <td>0.000000</td>\n",
       "    </tr>\n",
       "    <tr>\n",
       "      <th>50%</th>\n",
       "      <td>1000.500000</td>\n",
       "      <td>45789.117313</td>\n",
       "      <td>41.317159</td>\n",
       "      <td>3974.719419</td>\n",
       "      <td>0.000000</td>\n",
       "    </tr>\n",
       "    <tr>\n",
       "      <th>75%</th>\n",
       "      <td>1500.250000</td>\n",
       "      <td>57791.281668</td>\n",
       "      <td>52.587040</td>\n",
       "      <td>6432.410625</td>\n",
       "      <td>0.000000</td>\n",
       "    </tr>\n",
       "    <tr>\n",
       "      <th>max</th>\n",
       "      <td>2000.000000</td>\n",
       "      <td>69995.685578</td>\n",
       "      <td>63.971796</td>\n",
       "      <td>13766.051239</td>\n",
       "      <td>1.000000</td>\n",
       "    </tr>\n",
       "  </tbody>\n",
       "</table>\n",
       "</div>"
      ]
     },
     "metadata": {},
     "execution_count": 4
    }
   ],
   "metadata": {}
  },
  {
   "cell_type": "code",
   "execution_count": 5,
   "source": [
    "plt.hist(x = credit_risk['age']);"
   ],
   "outputs": [
    {
     "output_type": "display_data",
     "data": {
      "text/plain": [
       "<Figure size 432x288 with 1 Axes>"
      ],
      "image/svg+xml": "<?xml version=\"1.0\" encoding=\"utf-8\" standalone=\"no\"?>\n<!DOCTYPE svg PUBLIC \"-//W3C//DTD SVG 1.1//EN\"\n  \"http://www.w3.org/Graphics/SVG/1.1/DTD/svg11.dtd\">\n<svg height=\"248.518125pt\" version=\"1.1\" viewBox=\"0 0 375.2875 248.518125\" width=\"375.2875pt\" xmlns=\"http://www.w3.org/2000/svg\" xmlns:xlink=\"http://www.w3.org/1999/xlink\">\n <metadata>\n  <rdf:RDF xmlns:cc=\"http://creativecommons.org/ns#\" xmlns:dc=\"http://purl.org/dc/elements/1.1/\" xmlns:rdf=\"http://www.w3.org/1999/02/22-rdf-syntax-ns#\">\n   <cc:Work>\n    <dc:type rdf:resource=\"http://purl.org/dc/dcmitype/StillImage\"/>\n    <dc:date>2021-10-11T22:47:53.108692</dc:date>\n    <dc:format>image/svg+xml</dc:format>\n    <dc:creator>\n     <cc:Agent>\n      <dc:title>Matplotlib v3.4.3, https://matplotlib.org/</dc:title>\n     </cc:Agent>\n    </dc:creator>\n   </cc:Work>\n  </rdf:RDF>\n </metadata>\n <defs>\n  <style type=\"text/css\">*{stroke-linecap:butt;stroke-linejoin:round;}</style>\n </defs>\n <g id=\"figure_1\">\n  <g id=\"patch_1\">\n   <path d=\"M 0 248.518125 \nL 375.2875 248.518125 \nL 375.2875 0 \nL 0 0 \nz\n\" style=\"fill:none;\"/>\n  </g>\n  <g id=\"axes_1\">\n   <g id=\"patch_2\">\n    <path d=\"M 33.2875 224.64 \nL 368.0875 224.64 \nL 368.0875 7.2 \nL 33.2875 7.2 \nz\n\" style=\"fill:#ffffff;\"/>\n   </g>\n   <g id=\"patch_3\">\n    <path clip-path=\"url(#pe3ce657fca)\" d=\"M 48.505682 224.64 \nL 78.942045 224.64 \nL 78.942045 224.23711 \nL 48.505682 224.23711 \nz\n\" style=\"fill:#1f77b4;\"/>\n   </g>\n   <g id=\"patch_4\">\n    <path clip-path=\"url(#pe3ce657fca)\" d=\"M 78.942045 224.64 \nL 109.378409 224.64 \nL 109.378409 224.23711 \nL 78.942045 224.23711 \nz\n\" style=\"fill:#1f77b4;\"/>\n   </g>\n   <g id=\"patch_5\">\n    <path clip-path=\"url(#pe3ce657fca)\" d=\"M 109.378409 224.64 \nL 139.814773 224.64 \nL 139.814773 224.23711 \nL 109.378409 224.23711 \nz\n\" style=\"fill:#1f77b4;\"/>\n   </g>\n   <g id=\"patch_6\">\n    <path clip-path=\"url(#pe3ce657fca)\" d=\"M 139.814773 224.64 \nL 170.251136 224.64 \nL 170.251136 224.64 \nL 139.814773 224.64 \nz\n\" style=\"fill:#1f77b4;\"/>\n   </g>\n   <g id=\"patch_7\">\n    <path clip-path=\"url(#pe3ce657fca)\" d=\"M 170.251136 224.64 \nL 200.6875 224.64 \nL 200.6875 224.64 \nL 170.251136 224.64 \nz\n\" style=\"fill:#1f77b4;\"/>\n   </g>\n   <g id=\"patch_8\">\n    <path clip-path=\"url(#pe3ce657fca)\" d=\"M 200.6875 224.64 \nL 231.123864 224.64 \nL 231.123864 224.64 \nL 200.6875 224.64 \nz\n\" style=\"fill:#1f77b4;\"/>\n   </g>\n   <g id=\"patch_9\">\n    <path clip-path=\"url(#pe3ce657fca)\" d=\"M 231.123864 224.64 \nL 261.560227 224.64 \nL 261.560227 23.597643 \nL 231.123864 23.597643 \nz\n\" style=\"fill:#1f77b4;\"/>\n   </g>\n   <g id=\"patch_10\">\n    <path clip-path=\"url(#pe3ce657fca)\" d=\"M 261.560227 224.64 \nL 291.996591 224.64 \nL 291.996591 36.490139 \nL 261.560227 36.490139 \nz\n\" style=\"fill:#1f77b4;\"/>\n   </g>\n   <g id=\"patch_11\">\n    <path clip-path=\"url(#pe3ce657fca)\" d=\"M 291.996591 224.64 \nL 322.432955 224.64 \nL 322.432955 17.554286 \nL 291.996591 17.554286 \nz\n\" style=\"fill:#1f77b4;\"/>\n   </g>\n   <g id=\"patch_12\">\n    <path clip-path=\"url(#pe3ce657fca)\" d=\"M 322.432955 224.64 \nL 352.869318 224.64 \nL 352.869318 17.554286 \nL 322.432955 17.554286 \nz\n\" style=\"fill:#1f77b4;\"/>\n   </g>\n   <g id=\"matplotlib.axis_1\">\n    <g id=\"xtick_1\">\n     <g id=\"line2d_1\">\n      <defs>\n       <path d=\"M 0 0 \nL 0 3.5 \n\" id=\"mb97f8ee742\" style=\"stroke:#000000;stroke-width:0.8;\"/>\n      </defs>\n      <g>\n       <use style=\"stroke:#000000;stroke-width:0.8;\" x=\"80.991546\" xlink:href=\"#mb97f8ee742\" y=\"224.64\"/>\n      </g>\n     </g>\n     <g id=\"text_1\">\n      <!-- −40 -->\n      <g transform=\"translate(70.439203 239.238437)scale(0.1 -0.1)\">\n       <defs>\n        <path d=\"M 678 2272 \nL 4684 2272 \nL 4684 1741 \nL 678 1741 \nL 678 2272 \nz\n\" id=\"DejaVuSans-2212\" transform=\"scale(0.015625)\"/>\n        <path d=\"M 2419 4116 \nL 825 1625 \nL 2419 1625 \nL 2419 4116 \nz\nM 2253 4666 \nL 3047 4666 \nL 3047 1625 \nL 3713 1625 \nL 3713 1100 \nL 3047 1100 \nL 3047 0 \nL 2419 0 \nL 2419 1100 \nL 313 1100 \nL 313 1709 \nL 2253 4666 \nz\n\" id=\"DejaVuSans-34\" transform=\"scale(0.015625)\"/>\n        <path d=\"M 2034 4250 \nQ 1547 4250 1301 3770 \nQ 1056 3291 1056 2328 \nQ 1056 1369 1301 889 \nQ 1547 409 2034 409 \nQ 2525 409 2770 889 \nQ 3016 1369 3016 2328 \nQ 3016 3291 2770 3770 \nQ 2525 4250 2034 4250 \nz\nM 2034 4750 \nQ 2819 4750 3233 4129 \nQ 3647 3509 3647 2328 \nQ 3647 1150 3233 529 \nQ 2819 -91 2034 -91 \nQ 1250 -91 836 529 \nQ 422 1150 422 2328 \nQ 422 3509 836 4129 \nQ 1250 4750 2034 4750 \nz\n\" id=\"DejaVuSans-30\" transform=\"scale(0.015625)\"/>\n       </defs>\n       <use xlink:href=\"#DejaVuSans-2212\"/>\n       <use x=\"83.789062\" xlink:href=\"#DejaVuSans-34\"/>\n       <use x=\"147.412109\" xlink:href=\"#DejaVuSans-30\"/>\n      </g>\n     </g>\n    </g>\n    <g id=\"xtick_2\">\n     <g id=\"line2d_2\">\n      <g>\n       <use style=\"stroke:#000000;stroke-width:0.8;\" x=\"133.289916\" xlink:href=\"#mb97f8ee742\" y=\"224.64\"/>\n      </g>\n     </g>\n     <g id=\"text_2\">\n      <!-- −20 -->\n      <g transform=\"translate(122.737572 239.238437)scale(0.1 -0.1)\">\n       <defs>\n        <path d=\"M 1228 531 \nL 3431 531 \nL 3431 0 \nL 469 0 \nL 469 531 \nQ 828 903 1448 1529 \nQ 2069 2156 2228 2338 \nQ 2531 2678 2651 2914 \nQ 2772 3150 2772 3378 \nQ 2772 3750 2511 3984 \nQ 2250 4219 1831 4219 \nQ 1534 4219 1204 4116 \nQ 875 4013 500 3803 \nL 500 4441 \nQ 881 4594 1212 4672 \nQ 1544 4750 1819 4750 \nQ 2544 4750 2975 4387 \nQ 3406 4025 3406 3419 \nQ 3406 3131 3298 2873 \nQ 3191 2616 2906 2266 \nQ 2828 2175 2409 1742 \nQ 1991 1309 1228 531 \nz\n\" id=\"DejaVuSans-32\" transform=\"scale(0.015625)\"/>\n       </defs>\n       <use xlink:href=\"#DejaVuSans-2212\"/>\n       <use x=\"83.789062\" xlink:href=\"#DejaVuSans-32\"/>\n       <use x=\"147.412109\" xlink:href=\"#DejaVuSans-30\"/>\n      </g>\n     </g>\n    </g>\n    <g id=\"xtick_3\">\n     <g id=\"line2d_3\">\n      <g>\n       <use style=\"stroke:#000000;stroke-width:0.8;\" x=\"185.588286\" xlink:href=\"#mb97f8ee742\" y=\"224.64\"/>\n      </g>\n     </g>\n     <g id=\"text_3\">\n      <!-- 0 -->\n      <g transform=\"translate(182.407036 239.238437)scale(0.1 -0.1)\">\n       <use xlink:href=\"#DejaVuSans-30\"/>\n      </g>\n     </g>\n    </g>\n    <g id=\"xtick_4\">\n     <g id=\"line2d_4\">\n      <g>\n       <use style=\"stroke:#000000;stroke-width:0.8;\" x=\"237.886656\" xlink:href=\"#mb97f8ee742\" y=\"224.64\"/>\n      </g>\n     </g>\n     <g id=\"text_4\">\n      <!-- 20 -->\n      <g transform=\"translate(231.524156 239.238437)scale(0.1 -0.1)\">\n       <use xlink:href=\"#DejaVuSans-32\"/>\n       <use x=\"63.623047\" xlink:href=\"#DejaVuSans-30\"/>\n      </g>\n     </g>\n    </g>\n    <g id=\"xtick_5\">\n     <g id=\"line2d_5\">\n      <g>\n       <use style=\"stroke:#000000;stroke-width:0.8;\" x=\"290.185026\" xlink:href=\"#mb97f8ee742\" y=\"224.64\"/>\n      </g>\n     </g>\n     <g id=\"text_5\">\n      <!-- 40 -->\n      <g transform=\"translate(283.822526 239.238437)scale(0.1 -0.1)\">\n       <use xlink:href=\"#DejaVuSans-34\"/>\n       <use x=\"63.623047\" xlink:href=\"#DejaVuSans-30\"/>\n      </g>\n     </g>\n    </g>\n    <g id=\"xtick_6\">\n     <g id=\"line2d_6\">\n      <g>\n       <use style=\"stroke:#000000;stroke-width:0.8;\" x=\"342.483396\" xlink:href=\"#mb97f8ee742\" y=\"224.64\"/>\n      </g>\n     </g>\n     <g id=\"text_6\">\n      <!-- 60 -->\n      <g transform=\"translate(336.120896 239.238437)scale(0.1 -0.1)\">\n       <defs>\n        <path d=\"M 2113 2584 \nQ 1688 2584 1439 2293 \nQ 1191 2003 1191 1497 \nQ 1191 994 1439 701 \nQ 1688 409 2113 409 \nQ 2538 409 2786 701 \nQ 3034 994 3034 1497 \nQ 3034 2003 2786 2293 \nQ 2538 2584 2113 2584 \nz\nM 3366 4563 \nL 3366 3988 \nQ 3128 4100 2886 4159 \nQ 2644 4219 2406 4219 \nQ 1781 4219 1451 3797 \nQ 1122 3375 1075 2522 \nQ 1259 2794 1537 2939 \nQ 1816 3084 2150 3084 \nQ 2853 3084 3261 2657 \nQ 3669 2231 3669 1497 \nQ 3669 778 3244 343 \nQ 2819 -91 2113 -91 \nQ 1303 -91 875 529 \nQ 447 1150 447 2328 \nQ 447 3434 972 4092 \nQ 1497 4750 2381 4750 \nQ 2619 4750 2861 4703 \nQ 3103 4656 3366 4563 \nz\n\" id=\"DejaVuSans-36\" transform=\"scale(0.015625)\"/>\n       </defs>\n       <use xlink:href=\"#DejaVuSans-36\"/>\n       <use x=\"63.623047\" xlink:href=\"#DejaVuSans-30\"/>\n      </g>\n     </g>\n    </g>\n   </g>\n   <g id=\"matplotlib.axis_2\">\n    <g id=\"ytick_1\">\n     <g id=\"line2d_7\">\n      <defs>\n       <path d=\"M 0 0 \nL -3.5 0 \n\" id=\"m96936d16fb\" style=\"stroke:#000000;stroke-width:0.8;\"/>\n      </defs>\n      <g>\n       <use style=\"stroke:#000000;stroke-width:0.8;\" x=\"33.2875\" xlink:href=\"#m96936d16fb\" y=\"224.64\"/>\n      </g>\n     </g>\n     <g id=\"text_7\">\n      <!-- 0 -->\n      <g transform=\"translate(19.925 228.439219)scale(0.1 -0.1)\">\n       <use xlink:href=\"#DejaVuSans-30\"/>\n      </g>\n     </g>\n    </g>\n    <g id=\"ytick_2\">\n     <g id=\"line2d_8\">\n      <g>\n       <use style=\"stroke:#000000;stroke-width:0.8;\" x=\"33.2875\" xlink:href=\"#m96936d16fb\" y=\"184.350951\"/>\n      </g>\n     </g>\n     <g id=\"text_8\">\n      <!-- 100 -->\n      <g transform=\"translate(7.2 188.150169)scale(0.1 -0.1)\">\n       <defs>\n        <path d=\"M 794 531 \nL 1825 531 \nL 1825 4091 \nL 703 3866 \nL 703 4441 \nL 1819 4666 \nL 2450 4666 \nL 2450 531 \nL 3481 531 \nL 3481 0 \nL 794 0 \nL 794 531 \nz\n\" id=\"DejaVuSans-31\" transform=\"scale(0.015625)\"/>\n       </defs>\n       <use xlink:href=\"#DejaVuSans-31\"/>\n       <use x=\"63.623047\" xlink:href=\"#DejaVuSans-30\"/>\n       <use x=\"127.246094\" xlink:href=\"#DejaVuSans-30\"/>\n      </g>\n     </g>\n    </g>\n    <g id=\"ytick_3\">\n     <g id=\"line2d_9\">\n      <g>\n       <use style=\"stroke:#000000;stroke-width:0.8;\" x=\"33.2875\" xlink:href=\"#m96936d16fb\" y=\"144.061901\"/>\n      </g>\n     </g>\n     <g id=\"text_9\">\n      <!-- 200 -->\n      <g transform=\"translate(7.2 147.86112)scale(0.1 -0.1)\">\n       <use xlink:href=\"#DejaVuSans-32\"/>\n       <use x=\"63.623047\" xlink:href=\"#DejaVuSans-30\"/>\n       <use x=\"127.246094\" xlink:href=\"#DejaVuSans-30\"/>\n      </g>\n     </g>\n    </g>\n    <g id=\"ytick_4\">\n     <g id=\"line2d_10\">\n      <g>\n       <use style=\"stroke:#000000;stroke-width:0.8;\" x=\"33.2875\" xlink:href=\"#m96936d16fb\" y=\"103.772852\"/>\n      </g>\n     </g>\n     <g id=\"text_10\">\n      <!-- 300 -->\n      <g transform=\"translate(7.2 107.57207)scale(0.1 -0.1)\">\n       <defs>\n        <path d=\"M 2597 2516 \nQ 3050 2419 3304 2112 \nQ 3559 1806 3559 1356 \nQ 3559 666 3084 287 \nQ 2609 -91 1734 -91 \nQ 1441 -91 1130 -33 \nQ 819 25 488 141 \nL 488 750 \nQ 750 597 1062 519 \nQ 1375 441 1716 441 \nQ 2309 441 2620 675 \nQ 2931 909 2931 1356 \nQ 2931 1769 2642 2001 \nQ 2353 2234 1838 2234 \nL 1294 2234 \nL 1294 2753 \nL 1863 2753 \nQ 2328 2753 2575 2939 \nQ 2822 3125 2822 3475 \nQ 2822 3834 2567 4026 \nQ 2313 4219 1838 4219 \nQ 1578 4219 1281 4162 \nQ 984 4106 628 3988 \nL 628 4550 \nQ 988 4650 1302 4700 \nQ 1616 4750 1894 4750 \nQ 2613 4750 3031 4423 \nQ 3450 4097 3450 3541 \nQ 3450 3153 3228 2886 \nQ 3006 2619 2597 2516 \nz\n\" id=\"DejaVuSans-33\" transform=\"scale(0.015625)\"/>\n       </defs>\n       <use xlink:href=\"#DejaVuSans-33\"/>\n       <use x=\"63.623047\" xlink:href=\"#DejaVuSans-30\"/>\n       <use x=\"127.246094\" xlink:href=\"#DejaVuSans-30\"/>\n      </g>\n     </g>\n    </g>\n    <g id=\"ytick_5\">\n     <g id=\"line2d_11\">\n      <g>\n       <use style=\"stroke:#000000;stroke-width:0.8;\" x=\"33.2875\" xlink:href=\"#m96936d16fb\" y=\"63.483802\"/>\n      </g>\n     </g>\n     <g id=\"text_11\">\n      <!-- 400 -->\n      <g transform=\"translate(7.2 67.283021)scale(0.1 -0.1)\">\n       <use xlink:href=\"#DejaVuSans-34\"/>\n       <use x=\"63.623047\" xlink:href=\"#DejaVuSans-30\"/>\n       <use x=\"127.246094\" xlink:href=\"#DejaVuSans-30\"/>\n      </g>\n     </g>\n    </g>\n    <g id=\"ytick_6\">\n     <g id=\"line2d_12\">\n      <g>\n       <use style=\"stroke:#000000;stroke-width:0.8;\" x=\"33.2875\" xlink:href=\"#m96936d16fb\" y=\"23.194753\"/>\n      </g>\n     </g>\n     <g id=\"text_12\">\n      <!-- 500 -->\n      <g transform=\"translate(7.2 26.993971)scale(0.1 -0.1)\">\n       <defs>\n        <path d=\"M 691 4666 \nL 3169 4666 \nL 3169 4134 \nL 1269 4134 \nL 1269 2991 \nQ 1406 3038 1543 3061 \nQ 1681 3084 1819 3084 \nQ 2600 3084 3056 2656 \nQ 3513 2228 3513 1497 \nQ 3513 744 3044 326 \nQ 2575 -91 1722 -91 \nQ 1428 -91 1123 -41 \nQ 819 9 494 109 \nL 494 744 \nQ 775 591 1075 516 \nQ 1375 441 1709 441 \nQ 2250 441 2565 725 \nQ 2881 1009 2881 1497 \nQ 2881 1984 2565 2268 \nQ 2250 2553 1709 2553 \nQ 1456 2553 1204 2497 \nQ 953 2441 691 2322 \nL 691 4666 \nz\n\" id=\"DejaVuSans-35\" transform=\"scale(0.015625)\"/>\n       </defs>\n       <use xlink:href=\"#DejaVuSans-35\"/>\n       <use x=\"63.623047\" xlink:href=\"#DejaVuSans-30\"/>\n       <use x=\"127.246094\" xlink:href=\"#DejaVuSans-30\"/>\n      </g>\n     </g>\n    </g>\n   </g>\n   <g id=\"patch_13\">\n    <path d=\"M 33.2875 224.64 \nL 33.2875 7.2 \n\" style=\"fill:none;stroke:#000000;stroke-linecap:square;stroke-linejoin:miter;stroke-width:0.8;\"/>\n   </g>\n   <g id=\"patch_14\">\n    <path d=\"M 368.0875 224.64 \nL 368.0875 7.2 \n\" style=\"fill:none;stroke:#000000;stroke-linecap:square;stroke-linejoin:miter;stroke-width:0.8;\"/>\n   </g>\n   <g id=\"patch_15\">\n    <path d=\"M 33.2875 224.64 \nL 368.0875 224.64 \n\" style=\"fill:none;stroke:#000000;stroke-linecap:square;stroke-linejoin:miter;stroke-width:0.8;\"/>\n   </g>\n   <g id=\"patch_16\">\n    <path d=\"M 33.2875 7.2 \nL 368.0875 7.2 \n\" style=\"fill:none;stroke:#000000;stroke-linecap:square;stroke-linejoin:miter;stroke-width:0.8;\"/>\n   </g>\n  </g>\n </g>\n <defs>\n  <clipPath id=\"pe3ce657fca\">\n   <rect height=\"217.44\" width=\"334.8\" x=\"33.2875\" y=\"7.2\"/>\n  </clipPath>\n </defs>\n</svg>\n",
      "image/png": "[encoded data removed]"
     },
     "metadata": {
      "needs_background": "light"
     }
    }
   ],
   "metadata": {}
  },
  {
   "cell_type": "code",
   "execution_count": 6,
   "source": [
    "plt.hist(x = credit_risk['income']);"
   ],
   "outputs": [
    {
     "output_type": "display_data",
     "data": {
      "text/plain": [
       "<Figure size 432x288 with 1 Axes>"
      ],
      "image/svg+xml": "<?xml version=\"1.0\" encoding=\"utf-8\" standalone=\"no\"?>\n<!DOCTYPE svg PUBLIC \"-//W3C//DTD SVG 1.1//EN\"\n  \"http://www.w3.org/Graphics/SVG/1.1/DTD/svg11.dtd\">\n<svg height=\"248.518125pt\" version=\"1.1\" viewBox=\"0 0 376.001841 248.518125\" width=\"376.001841pt\" xmlns=\"http://www.w3.org/2000/svg\" xmlns:xlink=\"http://www.w3.org/1999/xlink\">\n <metadata>\n  <rdf:RDF xmlns:cc=\"http://creativecommons.org/ns#\" xmlns:dc=\"http://purl.org/dc/elements/1.1/\" xmlns:rdf=\"http://www.w3.org/1999/02/22-rdf-syntax-ns#\">\n   <cc:Work>\n    <dc:type rdf:resource=\"http://purl.org/dc/dcmitype/StillImage\"/>\n    <dc:date>2021-10-11T22:47:55.452456</dc:date>\n    <dc:format>image/svg+xml</dc:format>\n    <dc:creator>\n     <cc:Agent>\n      <dc:title>Matplotlib v3.4.3, https://matplotlib.org/</dc:title>\n     </cc:Agent>\n    </dc:creator>\n   </cc:Work>\n  </rdf:RDF>\n </metadata>\n <defs>\n  <style type=\"text/css\">*{stroke-linecap:butt;stroke-linejoin:round;}</style>\n </defs>\n <g id=\"figure_1\">\n  <g id=\"patch_1\">\n   <path d=\"M 0 248.518125 \nL 376.001841 248.518125 \nL 376.001841 0 \nL 0 0 \nz\n\" style=\"fill:none;\"/>\n  </g>\n  <g id=\"axes_1\">\n   <g id=\"patch_2\">\n    <path d=\"M 33.2875 224.64 \nL 368.0875 224.64 \nL 368.0875 7.2 \nL 33.2875 7.2 \nz\n\" style=\"fill:#ffffff;\"/>\n   </g>\n   <g id=\"patch_3\">\n    <path clip-path=\"url(#pa592112812)\" d=\"M 48.505682 224.64 \nL 78.942045 224.64 \nL 78.942045 45.922192 \nL 48.505682 45.922192 \nz\n\" style=\"fill:#1f77b4;\"/>\n   </g>\n   <g id=\"patch_4\">\n    <path clip-path=\"url(#pa592112812)\" d=\"M 78.942045 224.64 \nL 109.378409 224.64 \nL 109.378409 37.41182 \nL 78.942045 37.41182 \nz\n\" style=\"fill:#1f77b4;\"/>\n   </g>\n   <g id=\"patch_5\">\n    <path clip-path=\"url(#pa592112812)\" d=\"M 109.378409 224.64 \nL 139.814773 224.64 \nL 139.814773 36.466223 \nL 109.378409 36.466223 \nz\n\" style=\"fill:#1f77b4;\"/>\n   </g>\n   <g id=\"patch_6\">\n    <path clip-path=\"url(#pa592112812)\" d=\"M 139.814773 224.64 \nL 170.251136 224.64 \nL 170.251136 55.37816 \nL 139.814773 55.37816 \nz\n\" style=\"fill:#1f77b4;\"/>\n   </g>\n   <g id=\"patch_7\">\n    <path clip-path=\"url(#pa592112812)\" d=\"M 170.251136 224.64 \nL 200.6875 224.64 \nL 200.6875 31.738239 \nL 170.251136 31.738239 \nz\n\" style=\"fill:#1f77b4;\"/>\n   </g>\n   <g id=\"patch_8\">\n    <path clip-path=\"url(#pa592112812)\" d=\"M 200.6875 224.64 \nL 231.123864 224.64 \nL 231.123864 27.010254 \nL 200.6875 27.010254 \nz\n\" style=\"fill:#1f77b4;\"/>\n   </g>\n   <g id=\"patch_9\">\n    <path clip-path=\"url(#pa592112812)\" d=\"M 231.123864 224.64 \nL 261.560227 224.64 \nL 261.560227 29.847045 \nL 231.123864 29.847045 \nz\n\" style=\"fill:#1f77b4;\"/>\n   </g>\n   <g id=\"patch_10\">\n    <path clip-path=\"url(#pa592112812)\" d=\"M 261.560227 224.64 \nL 291.996591 224.64 \nL 291.996591 36.466223 \nL 261.560227 36.466223 \nz\n\" style=\"fill:#1f77b4;\"/>\n   </g>\n   <g id=\"patch_11\">\n    <path clip-path=\"url(#pa592112812)\" d=\"M 291.996591 224.64 \nL 322.432955 224.64 \nL 322.432955 17.554286 \nL 291.996591 17.554286 \nz\n\" style=\"fill:#1f77b4;\"/>\n   </g>\n   <g id=\"patch_12\">\n    <path clip-path=\"url(#pa592112812)\" d=\"M 322.432955 224.64 \nL 352.869318 224.64 \nL 352.869318 37.41182 \nL 322.432955 37.41182 \nz\n\" style=\"fill:#1f77b4;\"/>\n   </g>\n   <g id=\"matplotlib.axis_1\">\n    <g id=\"xtick_1\">\n     <g id=\"line2d_1\">\n      <defs>\n       <path d=\"M 0 0 \nL 0 3.5 \n\" id=\"m3e05efe37e\" style=\"stroke:#000000;stroke-width:0.8;\"/>\n      </defs>\n      <g>\n       <use style=\"stroke:#000000;stroke-width:0.8;\" x=\"48.417447\" xlink:href=\"#m3e05efe37e\" y=\"224.64\"/>\n      </g>\n     </g>\n     <g id=\"text_1\">\n      <!-- 20000 -->\n      <g transform=\"translate(32.511197 239.238437)scale(0.1 -0.1)\">\n       <defs>\n        <path d=\"M 1228 531 \nL 3431 531 \nL 3431 0 \nL 469 0 \nL 469 531 \nQ 828 903 1448 1529 \nQ 2069 2156 2228 2338 \nQ 2531 2678 2651 2914 \nQ 2772 3150 2772 3378 \nQ 2772 3750 2511 3984 \nQ 2250 4219 1831 4219 \nQ 1534 4219 1204 4116 \nQ 875 4013 500 3803 \nL 500 4441 \nQ 881 4594 1212 4672 \nQ 1544 4750 1819 4750 \nQ 2544 4750 2975 4387 \nQ 3406 4025 3406 3419 \nQ 3406 3131 3298 2873 \nQ 3191 2616 2906 2266 \nQ 2828 2175 2409 1742 \nQ 1991 1309 1228 531 \nz\n\" id=\"DejaVuSans-32\" transform=\"scale(0.015625)\"/>\n        <path d=\"M 2034 4250 \nQ 1547 4250 1301 3770 \nQ 1056 3291 1056 2328 \nQ 1056 1369 1301 889 \nQ 1547 409 2034 409 \nQ 2525 409 2770 889 \nQ 3016 1369 3016 2328 \nQ 3016 3291 2770 3770 \nQ 2525 4250 2034 4250 \nz\nM 2034 4750 \nQ 2819 4750 3233 4129 \nQ 3647 3509 3647 2328 \nQ 3647 1150 3233 529 \nQ 2819 -91 2034 -91 \nQ 1250 -91 836 529 \nQ 422 1150 422 2328 \nQ 422 3509 836 4129 \nQ 1250 4750 2034 4750 \nz\n\" id=\"DejaVuSans-30\" transform=\"scale(0.015625)\"/>\n       </defs>\n       <use xlink:href=\"#DejaVuSans-32\"/>\n       <use x=\"63.623047\" xlink:href=\"#DejaVuSans-30\"/>\n       <use x=\"127.246094\" xlink:href=\"#DejaVuSans-30\"/>\n       <use x=\"190.869141\" xlink:href=\"#DejaVuSans-30\"/>\n       <use x=\"254.492188\" xlink:href=\"#DejaVuSans-30\"/>\n      </g>\n     </g>\n    </g>\n    <g id=\"xtick_2\">\n     <g id=\"line2d_2\">\n      <g>\n       <use style=\"stroke:#000000;stroke-width:0.8;\" x=\"109.313076\" xlink:href=\"#m3e05efe37e\" y=\"224.64\"/>\n      </g>\n     </g>\n     <g id=\"text_2\">\n      <!-- 30000 -->\n      <g transform=\"translate(93.406826 239.238437)scale(0.1 -0.1)\">\n       <defs>\n        <path d=\"M 2597 2516 \nQ 3050 2419 3304 2112 \nQ 3559 1806 3559 1356 \nQ 3559 666 3084 287 \nQ 2609 -91 1734 -91 \nQ 1441 -91 1130 -33 \nQ 819 25 488 141 \nL 488 750 \nQ 750 597 1062 519 \nQ 1375 441 1716 441 \nQ 2309 441 2620 675 \nQ 2931 909 2931 1356 \nQ 2931 1769 2642 2001 \nQ 2353 2234 1838 2234 \nL 1294 2234 \nL 1294 2753 \nL 1863 2753 \nQ 2328 2753 2575 2939 \nQ 2822 3125 2822 3475 \nQ 2822 3834 2567 4026 \nQ 2313 4219 1838 4219 \nQ 1578 4219 1281 4162 \nQ 984 4106 628 3988 \nL 628 4550 \nQ 988 4650 1302 4700 \nQ 1616 4750 1894 4750 \nQ 2613 4750 3031 4423 \nQ 3450 4097 3450 3541 \nQ 3450 3153 3228 2886 \nQ 3006 2619 2597 2516 \nz\n\" id=\"DejaVuSans-33\" transform=\"scale(0.015625)\"/>\n       </defs>\n       <use xlink:href=\"#DejaVuSans-33\"/>\n       <use x=\"63.623047\" xlink:href=\"#DejaVuSans-30\"/>\n       <use x=\"127.246094\" xlink:href=\"#DejaVuSans-30\"/>\n       <use x=\"190.869141\" xlink:href=\"#DejaVuSans-30\"/>\n       <use x=\"254.492188\" xlink:href=\"#DejaVuSans-30\"/>\n      </g>\n     </g>\n    </g>\n    <g id=\"xtick_3\">\n     <g id=\"line2d_3\">\n      <g>\n       <use style=\"stroke:#000000;stroke-width:0.8;\" x=\"170.208705\" xlink:href=\"#m3e05efe37e\" y=\"224.64\"/>\n      </g>\n     </g>\n     <g id=\"text_3\">\n      <!-- 40000 -->\n      <g transform=\"translate(154.302455 239.238437)scale(0.1 -0.1)\">\n       <defs>\n        <path d=\"M 2419 4116 \nL 825 1625 \nL 2419 1625 \nL 2419 4116 \nz\nM 2253 4666 \nL 3047 4666 \nL 3047 1625 \nL 3713 1625 \nL 3713 1100 \nL 3047 1100 \nL 3047 0 \nL 2419 0 \nL 2419 1100 \nL 313 1100 \nL 313 1709 \nL 2253 4666 \nz\n\" id=\"DejaVuSans-34\" transform=\"scale(0.015625)\"/>\n       </defs>\n       <use xlink:href=\"#DejaVuSans-34\"/>\n       <use x=\"63.623047\" xlink:href=\"#DejaVuSans-30\"/>\n       <use x=\"127.246094\" xlink:href=\"#DejaVuSans-30\"/>\n       <use x=\"190.869141\" xlink:href=\"#DejaVuSans-30\"/>\n       <use x=\"254.492188\" xlink:href=\"#DejaVuSans-30\"/>\n      </g>\n     </g>\n    </g>\n    <g id=\"xtick_4\">\n     <g id=\"line2d_4\">\n      <g>\n       <use style=\"stroke:#000000;stroke-width:0.8;\" x=\"231.104334\" xlink:href=\"#m3e05efe37e\" y=\"224.64\"/>\n      </g>\n     </g>\n     <g id=\"text_4\">\n      <!-- 50000 -->\n      <g transform=\"translate(215.198084 239.238437)scale(0.1 -0.1)\">\n       <defs>\n        <path d=\"M 691 4666 \nL 3169 4666 \nL 3169 4134 \nL 1269 4134 \nL 1269 2991 \nQ 1406 3038 1543 3061 \nQ 1681 3084 1819 3084 \nQ 2600 3084 3056 2656 \nQ 3513 2228 3513 1497 \nQ 3513 744 3044 326 \nQ 2575 -91 1722 -91 \nQ 1428 -91 1123 -41 \nQ 819 9 494 109 \nL 494 744 \nQ 775 591 1075 516 \nQ 1375 441 1709 441 \nQ 2250 441 2565 725 \nQ 2881 1009 2881 1497 \nQ 2881 1984 2565 2268 \nQ 2250 2553 1709 2553 \nQ 1456 2553 1204 2497 \nQ 953 2441 691 2322 \nL 691 4666 \nz\n\" id=\"DejaVuSans-35\" transform=\"scale(0.015625)\"/>\n       </defs>\n       <use xlink:href=\"#DejaVuSans-35\"/>\n       <use x=\"63.623047\" xlink:href=\"#DejaVuSans-30\"/>\n       <use x=\"127.246094\" xlink:href=\"#DejaVuSans-30\"/>\n       <use x=\"190.869141\" xlink:href=\"#DejaVuSans-30\"/>\n       <use x=\"254.492188\" xlink:href=\"#DejaVuSans-30\"/>\n      </g>\n     </g>\n    </g>\n    <g id=\"xtick_5\">\n     <g id=\"line2d_5\">\n      <g>\n       <use style=\"stroke:#000000;stroke-width:0.8;\" x=\"291.999962\" xlink:href=\"#m3e05efe37e\" y=\"224.64\"/>\n      </g>\n     </g>\n     <g id=\"text_5\">\n      <!-- 60000 -->\n      <g transform=\"translate(276.093712 239.238437)scale(0.1 -0.1)\">\n       <defs>\n        <path d=\"M 2113 2584 \nQ 1688 2584 1439 2293 \nQ 1191 2003 1191 1497 \nQ 1191 994 1439 701 \nQ 1688 409 2113 409 \nQ 2538 409 2786 701 \nQ 3034 994 3034 1497 \nQ 3034 2003 2786 2293 \nQ 2538 2584 2113 2584 \nz\nM 3366 4563 \nL 3366 3988 \nQ 3128 4100 2886 4159 \nQ 2644 4219 2406 4219 \nQ 1781 4219 1451 3797 \nQ 1122 3375 1075 2522 \nQ 1259 2794 1537 2939 \nQ 1816 3084 2150 3084 \nQ 2853 3084 3261 2657 \nQ 3669 2231 3669 1497 \nQ 3669 778 3244 343 \nQ 2819 -91 2113 -91 \nQ 1303 -91 875 529 \nQ 447 1150 447 2328 \nQ 447 3434 972 4092 \nQ 1497 4750 2381 4750 \nQ 2619 4750 2861 4703 \nQ 3103 4656 3366 4563 \nz\n\" id=\"DejaVuSans-36\" transform=\"scale(0.015625)\"/>\n       </defs>\n       <use xlink:href=\"#DejaVuSans-36\"/>\n       <use x=\"63.623047\" xlink:href=\"#DejaVuSans-30\"/>\n       <use x=\"127.246094\" xlink:href=\"#DejaVuSans-30\"/>\n       <use x=\"190.869141\" xlink:href=\"#DejaVuSans-30\"/>\n       <use x=\"254.492188\" xlink:href=\"#DejaVuSans-30\"/>\n      </g>\n     </g>\n    </g>\n    <g id=\"xtick_6\">\n     <g id=\"line2d_6\">\n      <g>\n       <use style=\"stroke:#000000;stroke-width:0.8;\" x=\"352.895591\" xlink:href=\"#m3e05efe37e\" y=\"224.64\"/>\n      </g>\n     </g>\n     <g id=\"text_6\">\n      <!-- 70000 -->\n      <g transform=\"translate(336.989341 239.238437)scale(0.1 -0.1)\">\n       <defs>\n        <path d=\"M 525 4666 \nL 3525 4666 \nL 3525 4397 \nL 1831 0 \nL 1172 0 \nL 2766 4134 \nL 525 4134 \nL 525 4666 \nz\n\" id=\"DejaVuSans-37\" transform=\"scale(0.015625)\"/>\n       </defs>\n       <use xlink:href=\"#DejaVuSans-37\"/>\n       <use x=\"63.623047\" xlink:href=\"#DejaVuSans-30\"/>\n       <use x=\"127.246094\" xlink:href=\"#DejaVuSans-30\"/>\n       <use x=\"190.869141\" xlink:href=\"#DejaVuSans-30\"/>\n       <use x=\"254.492188\" xlink:href=\"#DejaVuSans-30\"/>\n      </g>\n     </g>\n    </g>\n   </g>\n   <g id=\"matplotlib.axis_2\">\n    <g id=\"ytick_1\">\n     <g id=\"line2d_7\">\n      <defs>\n       <path d=\"M 0 0 \nL -3.5 0 \n\" id=\"mdf71689247\" style=\"stroke:#000000;stroke-width:0.8;\"/>\n      </defs>\n      <g>\n       <use style=\"stroke:#000000;stroke-width:0.8;\" x=\"33.2875\" xlink:href=\"#mdf71689247\" y=\"224.64\"/>\n      </g>\n     </g>\n     <g id=\"text_7\">\n      <!-- 0 -->\n      <g transform=\"translate(19.925 228.439219)scale(0.1 -0.1)\">\n       <use xlink:href=\"#DejaVuSans-30\"/>\n      </g>\n     </g>\n    </g>\n    <g id=\"ytick_2\">\n     <g id=\"line2d_8\">\n      <g>\n       <use style=\"stroke:#000000;stroke-width:0.8;\" x=\"33.2875\" xlink:href=\"#mdf71689247\" y=\"177.360157\"/>\n      </g>\n     </g>\n     <g id=\"text_8\">\n      <!-- 50 -->\n      <g transform=\"translate(13.5625 181.159375)scale(0.1 -0.1)\">\n       <use xlink:href=\"#DejaVuSans-35\"/>\n       <use x=\"63.623047\" xlink:href=\"#DejaVuSans-30\"/>\n      </g>\n     </g>\n    </g>\n    <g id=\"ytick_3\">\n     <g id=\"line2d_9\">\n      <g>\n       <use style=\"stroke:#000000;stroke-width:0.8;\" x=\"33.2875\" xlink:href=\"#mdf71689247\" y=\"130.080313\"/>\n      </g>\n     </g>\n     <g id=\"text_9\">\n      <!-- 100 -->\n      <g transform=\"translate(7.2 133.879532)scale(0.1 -0.1)\">\n       <defs>\n        <path d=\"M 794 531 \nL 1825 531 \nL 1825 4091 \nL 703 3866 \nL 703 4441 \nL 1819 4666 \nL 2450 4666 \nL 2450 531 \nL 3481 531 \nL 3481 0 \nL 794 0 \nL 794 531 \nz\n\" id=\"DejaVuSans-31\" transform=\"scale(0.015625)\"/>\n       </defs>\n       <use xlink:href=\"#DejaVuSans-31\"/>\n       <use x=\"63.623047\" xlink:href=\"#DejaVuSans-30\"/>\n       <use x=\"127.246094\" xlink:href=\"#DejaVuSans-30\"/>\n      </g>\n     </g>\n    </g>\n    <g id=\"ytick_4\">\n     <g id=\"line2d_10\">\n      <g>\n       <use style=\"stroke:#000000;stroke-width:0.8;\" x=\"33.2875\" xlink:href=\"#mdf71689247\" y=\"82.80047\"/>\n      </g>\n     </g>\n     <g id=\"text_10\">\n      <!-- 150 -->\n      <g transform=\"translate(7.2 86.599688)scale(0.1 -0.1)\">\n       <use xlink:href=\"#DejaVuSans-31\"/>\n       <use x=\"63.623047\" xlink:href=\"#DejaVuSans-35\"/>\n       <use x=\"127.246094\" xlink:href=\"#DejaVuSans-30\"/>\n      </g>\n     </g>\n    </g>\n    <g id=\"ytick_5\">\n     <g id=\"line2d_11\">\n      <g>\n       <use style=\"stroke:#000000;stroke-width:0.8;\" x=\"33.2875\" xlink:href=\"#mdf71689247\" y=\"35.520626\"/>\n      </g>\n     </g>\n     <g id=\"text_11\">\n      <!-- 200 -->\n      <g transform=\"translate(7.2 39.319845)scale(0.1 -0.1)\">\n       <use xlink:href=\"#DejaVuSans-32\"/>\n       <use x=\"63.623047\" xlink:href=\"#DejaVuSans-30\"/>\n       <use x=\"127.246094\" xlink:href=\"#DejaVuSans-30\"/>\n      </g>\n     </g>\n    </g>\n   </g>\n   <g id=\"patch_13\">\n    <path d=\"M 33.2875 224.64 \nL 33.2875 7.2 \n\" style=\"fill:none;stroke:#000000;stroke-linecap:square;stroke-linejoin:miter;stroke-width:0.8;\"/>\n   </g>\n   <g id=\"patch_14\">\n    <path d=\"M 368.0875 224.64 \nL 368.0875 7.2 \n\" style=\"fill:none;stroke:#000000;stroke-linecap:square;stroke-linejoin:miter;stroke-width:0.8;\"/>\n   </g>\n   <g id=\"patch_15\">\n    <path d=\"M 33.2875 224.64 \nL 368.0875 224.64 \n\" style=\"fill:none;stroke:#000000;stroke-linecap:square;stroke-linejoin:miter;stroke-width:0.8;\"/>\n   </g>\n   <g id=\"patch_16\">\n    <path d=\"M 33.2875 7.2 \nL 368.0875 7.2 \n\" style=\"fill:none;stroke:#000000;stroke-linecap:square;stroke-linejoin:miter;stroke-width:0.8;\"/>\n   </g>\n  </g>\n </g>\n <defs>\n  <clipPath id=\"pa592112812\">\n   <rect height=\"217.44\" width=\"334.8\" x=\"33.2875\" y=\"7.2\"/>\n  </clipPath>\n </defs>\n</svg>\n",
      "image/png": "[encoded data removed]"
     },
     "metadata": {
      "needs_background": "light"
     }
    }
   ],
   "metadata": {}
  },
  {
   "cell_type": "code",
   "execution_count": 7,
   "source": [
    "plt.hist(x = credit_risk['loan']);"
   ],
   "outputs": [
    {
     "output_type": "display_data",
     "data": {
      "text/plain": [
       "<Figure size 432x288 with 1 Axes>"
      ],
      "image/svg+xml": "<?xml version=\"1.0\" encoding=\"utf-8\" standalone=\"no\"?>\n<!DOCTYPE svg PUBLIC \"-//W3C//DTD SVG 1.1//EN\"\n  \"http://www.w3.org/Graphics/SVG/1.1/DTD/svg11.dtd\">\n<svg height=\"248.518125pt\" version=\"1.1\" viewBox=\"0 0 381.148629 248.518125\" width=\"381.148629pt\" xmlns=\"http://www.w3.org/2000/svg\" xmlns:xlink=\"http://www.w3.org/1999/xlink\">\n <metadata>\n  <rdf:RDF xmlns:cc=\"http://creativecommons.org/ns#\" xmlns:dc=\"http://purl.org/dc/elements/1.1/\" xmlns:rdf=\"http://www.w3.org/1999/02/22-rdf-syntax-ns#\">\n   <cc:Work>\n    <dc:type rdf:resource=\"http://purl.org/dc/dcmitype/StillImage\"/>\n    <dc:date>2021-10-11T22:47:57.396799</dc:date>\n    <dc:format>image/svg+xml</dc:format>\n    <dc:creator>\n     <cc:Agent>\n      <dc:title>Matplotlib v3.4.3, https://matplotlib.org/</dc:title>\n     </cc:Agent>\n    </dc:creator>\n   </cc:Work>\n  </rdf:RDF>\n </metadata>\n <defs>\n  <style type=\"text/css\">*{stroke-linecap:butt;stroke-linejoin:round;}</style>\n </defs>\n <g id=\"figure_1\">\n  <g id=\"patch_1\">\n   <path d=\"M 0 248.518125 \nL 381.148629 248.518125 \nL 381.148629 0 \nL 0 0 \nz\n\" style=\"fill:none;\"/>\n  </g>\n  <g id=\"axes_1\">\n   <g id=\"patch_2\">\n    <path d=\"M 33.2875 224.64 \nL 368.0875 224.64 \nL 368.0875 7.2 \nL 33.2875 7.2 \nz\n\" style=\"fill:#ffffff;\"/>\n   </g>\n   <g id=\"patch_3\">\n    <path clip-path=\"url(#pdb88286e60)\" d=\"M 48.505682 224.64 \nL 78.942045 224.64 \nL 78.942045 33.099594 \nL 48.505682 33.099594 \nz\n\" style=\"fill:#1f77b4;\"/>\n   </g>\n   <g id=\"patch_4\">\n    <path clip-path=\"url(#pdb88286e60)\" d=\"M 78.942045 224.64 \nL 109.378409 224.64 \nL 109.378409 17.554286 \nL 78.942045 17.554286 \nz\n\" style=\"fill:#1f77b4;\"/>\n   </g>\n   <g id=\"patch_5\">\n    <path clip-path=\"url(#pdb88286e60)\" d=\"M 109.378409 224.64 \nL 139.814773 224.64 \nL 139.814773 48.089713 \nL 109.378409 48.089713 \nz\n\" style=\"fill:#1f77b4;\"/>\n   </g>\n   <g id=\"patch_6\">\n    <path clip-path=\"url(#pdb88286e60)\" d=\"M 139.814773 224.64 \nL 170.251136 224.64 \nL 170.251136 70.852486 \nL 139.814773 70.852486 \nz\n\" style=\"fill:#1f77b4;\"/>\n   </g>\n   <g id=\"patch_7\">\n    <path clip-path=\"url(#pdb88286e60)\" d=\"M 170.251136 224.64 \nL 200.6875 224.64 \nL 200.6875 76.959571 \nL 170.251136 76.959571 \nz\n\" style=\"fill:#1f77b4;\"/>\n   </g>\n   <g id=\"patch_8\">\n    <path clip-path=\"url(#pdb88286e60)\" d=\"M 200.6875 224.64 \nL 231.123864 224.64 \nL 231.123864 129.702581 \nL 200.6875 129.702581 \nz\n\" style=\"fill:#1f77b4;\"/>\n   </g>\n   <g id=\"patch_9\">\n    <path clip-path=\"url(#pdb88286e60)\" d=\"M 231.123864 224.64 \nL 261.560227 224.64 \nL 261.560227 166.900283 \nL 231.123864 166.900283 \nz\n\" style=\"fill:#1f77b4;\"/>\n   </g>\n   <g id=\"patch_10\">\n    <path clip-path=\"url(#pdb88286e60)\" d=\"M 261.560227 224.64 \nL 291.996591 224.64 \nL 291.996591 175.228127 \nL 261.560227 175.228127 \nz\n\" style=\"fill:#1f77b4;\"/>\n   </g>\n   <g id=\"patch_11\">\n    <path clip-path=\"url(#pdb88286e60)\" d=\"M 291.996591 224.64 \nL 322.432955 224.64 \nL 322.432955 202.432417 \nL 291.996591 202.432417 \nz\n\" style=\"fill:#1f77b4;\"/>\n   </g>\n   <g id=\"patch_12\">\n    <path clip-path=\"url(#pdb88286e60)\" d=\"M 322.432955 224.64 \nL 352.869318 224.64 \nL 352.869318 215.201777 \nL 322.432955 215.201777 \nz\n\" style=\"fill:#1f77b4;\"/>\n   </g>\n   <g id=\"matplotlib.axis_1\">\n    <g id=\"xtick_1\">\n     <g id=\"line2d_1\">\n      <defs>\n       <path d=\"M 0 0 \nL 0 3.5 \n\" id=\"meea250acaf\" style=\"stroke:#000000;stroke-width:0.8;\"/>\n      </defs>\n      <g>\n       <use style=\"stroke:#000000;stroke-width:0.8;\" x=\"48.47522\" xlink:href=\"#meea250acaf\" y=\"224.64\"/>\n      </g>\n     </g>\n     <g id=\"text_1\">\n      <!-- 0 -->\n      <g transform=\"translate(45.29397 239.238437)scale(0.1 -0.1)\">\n       <defs>\n        <path d=\"M 2034 4250 \nQ 1547 4250 1301 3770 \nQ 1056 3291 1056 2328 \nQ 1056 1369 1301 889 \nQ 1547 409 2034 409 \nQ 2525 409 2770 889 \nQ 3016 1369 3016 2328 \nQ 3016 3291 2770 3770 \nQ 2525 4250 2034 4250 \nz\nM 2034 4750 \nQ 2819 4750 3233 4129 \nQ 3647 3509 3647 2328 \nQ 3647 1150 3233 529 \nQ 2819 -91 2034 -91 \nQ 1250 -91 836 529 \nQ 422 1150 422 2328 \nQ 422 3509 836 4129 \nQ 1250 4750 2034 4750 \nz\n\" id=\"DejaVuSans-30\" transform=\"scale(0.015625)\"/>\n       </defs>\n       <use xlink:href=\"#DejaVuSans-30\"/>\n      </g>\n     </g>\n    </g>\n    <g id=\"xtick_2\">\n     <g id=\"line2d_2\">\n      <g>\n       <use style=\"stroke:#000000;stroke-width:0.8;\" x=\"92.6991\" xlink:href=\"#meea250acaf\" y=\"224.64\"/>\n      </g>\n     </g>\n     <g id=\"text_2\">\n      <!-- 2000 -->\n      <g transform=\"translate(79.9741 239.238437)scale(0.1 -0.1)\">\n       <defs>\n        <path d=\"M 1228 531 \nL 3431 531 \nL 3431 0 \nL 469 0 \nL 469 531 \nQ 828 903 1448 1529 \nQ 2069 2156 2228 2338 \nQ 2531 2678 2651 2914 \nQ 2772 3150 2772 3378 \nQ 2772 3750 2511 3984 \nQ 2250 4219 1831 4219 \nQ 1534 4219 1204 4116 \nQ 875 4013 500 3803 \nL 500 4441 \nQ 881 4594 1212 4672 \nQ 1544 4750 1819 4750 \nQ 2544 4750 2975 4387 \nQ 3406 4025 3406 3419 \nQ 3406 3131 3298 2873 \nQ 3191 2616 2906 2266 \nQ 2828 2175 2409 1742 \nQ 1991 1309 1228 531 \nz\n\" id=\"DejaVuSans-32\" transform=\"scale(0.015625)\"/>\n       </defs>\n       <use xlink:href=\"#DejaVuSans-32\"/>\n       <use x=\"63.623047\" xlink:href=\"#DejaVuSans-30\"/>\n       <use x=\"127.246094\" xlink:href=\"#DejaVuSans-30\"/>\n       <use x=\"190.869141\" xlink:href=\"#DejaVuSans-30\"/>\n      </g>\n     </g>\n    </g>\n    <g id=\"xtick_3\">\n     <g id=\"line2d_3\">\n      <g>\n       <use style=\"stroke:#000000;stroke-width:0.8;\" x=\"136.92298\" xlink:href=\"#meea250acaf\" y=\"224.64\"/>\n      </g>\n     </g>\n     <g id=\"text_3\">\n      <!-- 4000 -->\n      <g transform=\"translate(124.19798 239.238437)scale(0.1 -0.1)\">\n       <defs>\n        <path d=\"M 2419 4116 \nL 825 1625 \nL 2419 1625 \nL 2419 4116 \nz\nM 2253 4666 \nL 3047 4666 \nL 3047 1625 \nL 3713 1625 \nL 3713 1100 \nL 3047 1100 \nL 3047 0 \nL 2419 0 \nL 2419 1100 \nL 313 1100 \nL 313 1709 \nL 2253 4666 \nz\n\" id=\"DejaVuSans-34\" transform=\"scale(0.015625)\"/>\n       </defs>\n       <use xlink:href=\"#DejaVuSans-34\"/>\n       <use x=\"63.623047\" xlink:href=\"#DejaVuSans-30\"/>\n       <use x=\"127.246094\" xlink:href=\"#DejaVuSans-30\"/>\n       <use x=\"190.869141\" xlink:href=\"#DejaVuSans-30\"/>\n      </g>\n     </g>\n    </g>\n    <g id=\"xtick_4\">\n     <g id=\"line2d_4\">\n      <g>\n       <use style=\"stroke:#000000;stroke-width:0.8;\" x=\"181.146859\" xlink:href=\"#meea250acaf\" y=\"224.64\"/>\n      </g>\n     </g>\n     <g id=\"text_4\">\n      <!-- 6000 -->\n      <g transform=\"translate(168.421859 239.238437)scale(0.1 -0.1)\">\n       <defs>\n        <path d=\"M 2113 2584 \nQ 1688 2584 1439 2293 \nQ 1191 2003 1191 1497 \nQ 1191 994 1439 701 \nQ 1688 409 2113 409 \nQ 2538 409 2786 701 \nQ 3034 994 3034 1497 \nQ 3034 2003 2786 2293 \nQ 2538 2584 2113 2584 \nz\nM 3366 4563 \nL 3366 3988 \nQ 3128 4100 2886 4159 \nQ 2644 4219 2406 4219 \nQ 1781 4219 1451 3797 \nQ 1122 3375 1075 2522 \nQ 1259 2794 1537 2939 \nQ 1816 3084 2150 3084 \nQ 2853 3084 3261 2657 \nQ 3669 2231 3669 1497 \nQ 3669 778 3244 343 \nQ 2819 -91 2113 -91 \nQ 1303 -91 875 529 \nQ 447 1150 447 2328 \nQ 447 3434 972 4092 \nQ 1497 4750 2381 4750 \nQ 2619 4750 2861 4703 \nQ 3103 4656 3366 4563 \nz\n\" id=\"DejaVuSans-36\" transform=\"scale(0.015625)\"/>\n       </defs>\n       <use xlink:href=\"#DejaVuSans-36\"/>\n       <use x=\"63.623047\" xlink:href=\"#DejaVuSans-30\"/>\n       <use x=\"127.246094\" xlink:href=\"#DejaVuSans-30\"/>\n       <use x=\"190.869141\" xlink:href=\"#DejaVuSans-30\"/>\n      </g>\n     </g>\n    </g>\n    <g id=\"xtick_5\">\n     <g id=\"line2d_5\">\n      <g>\n       <use style=\"stroke:#000000;stroke-width:0.8;\" x=\"225.370739\" xlink:href=\"#meea250acaf\" y=\"224.64\"/>\n      </g>\n     </g>\n     <g id=\"text_5\">\n      <!-- 8000 -->\n      <g transform=\"translate(212.645739 239.238437)scale(0.1 -0.1)\">\n       <defs>\n        <path d=\"M 2034 2216 \nQ 1584 2216 1326 1975 \nQ 1069 1734 1069 1313 \nQ 1069 891 1326 650 \nQ 1584 409 2034 409 \nQ 2484 409 2743 651 \nQ 3003 894 3003 1313 \nQ 3003 1734 2745 1975 \nQ 2488 2216 2034 2216 \nz\nM 1403 2484 \nQ 997 2584 770 2862 \nQ 544 3141 544 3541 \nQ 544 4100 942 4425 \nQ 1341 4750 2034 4750 \nQ 2731 4750 3128 4425 \nQ 3525 4100 3525 3541 \nQ 3525 3141 3298 2862 \nQ 3072 2584 2669 2484 \nQ 3125 2378 3379 2068 \nQ 3634 1759 3634 1313 \nQ 3634 634 3220 271 \nQ 2806 -91 2034 -91 \nQ 1263 -91 848 271 \nQ 434 634 434 1313 \nQ 434 1759 690 2068 \nQ 947 2378 1403 2484 \nz\nM 1172 3481 \nQ 1172 3119 1398 2916 \nQ 1625 2713 2034 2713 \nQ 2441 2713 2670 2916 \nQ 2900 3119 2900 3481 \nQ 2900 3844 2670 4047 \nQ 2441 4250 2034 4250 \nQ 1625 4250 1398 4047 \nQ 1172 3844 1172 3481 \nz\n\" id=\"DejaVuSans-38\" transform=\"scale(0.015625)\"/>\n       </defs>\n       <use xlink:href=\"#DejaVuSans-38\"/>\n       <use x=\"63.623047\" xlink:href=\"#DejaVuSans-30\"/>\n       <use x=\"127.246094\" xlink:href=\"#DejaVuSans-30\"/>\n       <use x=\"190.869141\" xlink:href=\"#DejaVuSans-30\"/>\n      </g>\n     </g>\n    </g>\n    <g id=\"xtick_6\">\n     <g id=\"line2d_6\">\n      <g>\n       <use style=\"stroke:#000000;stroke-width:0.8;\" x=\"269.594619\" xlink:href=\"#meea250acaf\" y=\"224.64\"/>\n      </g>\n     </g>\n     <g id=\"text_6\">\n      <!-- 10000 -->\n      <g transform=\"translate(253.688369 239.238437)scale(0.1 -0.1)\">\n       <defs>\n        <path d=\"M 794 531 \nL 1825 531 \nL 1825 4091 \nL 703 3866 \nL 703 4441 \nL 1819 4666 \nL 2450 4666 \nL 2450 531 \nL 3481 531 \nL 3481 0 \nL 794 0 \nL 794 531 \nz\n\" id=\"DejaVuSans-31\" transform=\"scale(0.015625)\"/>\n       </defs>\n       <use xlink:href=\"#DejaVuSans-31\"/>\n       <use x=\"63.623047\" xlink:href=\"#DejaVuSans-30\"/>\n       <use x=\"127.246094\" xlink:href=\"#DejaVuSans-30\"/>\n       <use x=\"190.869141\" xlink:href=\"#DejaVuSans-30\"/>\n       <use x=\"254.492188\" xlink:href=\"#DejaVuSans-30\"/>\n      </g>\n     </g>\n    </g>\n    <g id=\"xtick_7\">\n     <g id=\"line2d_7\">\n      <g>\n       <use style=\"stroke:#000000;stroke-width:0.8;\" x=\"313.818499\" xlink:href=\"#meea250acaf\" y=\"224.64\"/>\n      </g>\n     </g>\n     <g id=\"text_7\">\n      <!-- 12000 -->\n      <g transform=\"translate(297.912249 239.238437)scale(0.1 -0.1)\">\n       <use xlink:href=\"#DejaVuSans-31\"/>\n       <use x=\"63.623047\" xlink:href=\"#DejaVuSans-32\"/>\n       <use x=\"127.246094\" xlink:href=\"#DejaVuSans-30\"/>\n       <use x=\"190.869141\" xlink:href=\"#DejaVuSans-30\"/>\n       <use x=\"254.492188\" xlink:href=\"#DejaVuSans-30\"/>\n      </g>\n     </g>\n    </g>\n    <g id=\"xtick_8\">\n     <g id=\"line2d_8\">\n      <g>\n       <use style=\"stroke:#000000;stroke-width:0.8;\" x=\"358.042379\" xlink:href=\"#meea250acaf\" y=\"224.64\"/>\n      </g>\n     </g>\n     <g id=\"text_8\">\n      <!-- 14000 -->\n      <g transform=\"translate(342.136129 239.238437)scale(0.1 -0.1)\">\n       <use xlink:href=\"#DejaVuSans-31\"/>\n       <use x=\"63.623047\" xlink:href=\"#DejaVuSans-34\"/>\n       <use x=\"127.246094\" xlink:href=\"#DejaVuSans-30\"/>\n       <use x=\"190.869141\" xlink:href=\"#DejaVuSans-30\"/>\n       <use x=\"254.492188\" xlink:href=\"#DejaVuSans-30\"/>\n      </g>\n     </g>\n    </g>\n   </g>\n   <g id=\"matplotlib.axis_2\">\n    <g id=\"ytick_1\">\n     <g id=\"line2d_9\">\n      <defs>\n       <path d=\"M 0 0 \nL -3.5 0 \n\" id=\"m525436ff74\" style=\"stroke:#000000;stroke-width:0.8;\"/>\n      </defs>\n      <g>\n       <use style=\"stroke:#000000;stroke-width:0.8;\" x=\"33.2875\" xlink:href=\"#m525436ff74\" y=\"224.64\"/>\n      </g>\n     </g>\n     <g id=\"text_9\">\n      <!-- 0 -->\n      <g transform=\"translate(19.925 228.439219)scale(0.1 -0.1)\">\n       <use xlink:href=\"#DejaVuSans-30\"/>\n      </g>\n     </g>\n    </g>\n    <g id=\"ytick_2\">\n     <g id=\"line2d_10\">\n      <g>\n       <use style=\"stroke:#000000;stroke-width:0.8;\" x=\"33.2875\" xlink:href=\"#m525436ff74\" y=\"196.880521\"/>\n      </g>\n     </g>\n     <g id=\"text_10\">\n      <!-- 50 -->\n      <g transform=\"translate(13.5625 200.67974)scale(0.1 -0.1)\">\n       <defs>\n        <path d=\"M 691 4666 \nL 3169 4666 \nL 3169 4134 \nL 1269 4134 \nL 1269 2991 \nQ 1406 3038 1543 3061 \nQ 1681 3084 1819 3084 \nQ 2600 3084 3056 2656 \nQ 3513 2228 3513 1497 \nQ 3513 744 3044 326 \nQ 2575 -91 1722 -91 \nQ 1428 -91 1123 -41 \nQ 819 9 494 109 \nL 494 744 \nQ 775 591 1075 516 \nQ 1375 441 1709 441 \nQ 2250 441 2565 725 \nQ 2881 1009 2881 1497 \nQ 2881 1984 2565 2268 \nQ 2250 2553 1709 2553 \nQ 1456 2553 1204 2497 \nQ 953 2441 691 2322 \nL 691 4666 \nz\n\" id=\"DejaVuSans-35\" transform=\"scale(0.015625)\"/>\n       </defs>\n       <use xlink:href=\"#DejaVuSans-35\"/>\n       <use x=\"63.623047\" xlink:href=\"#DejaVuSans-30\"/>\n      </g>\n     </g>\n    </g>\n    <g id=\"ytick_3\">\n     <g id=\"line2d_11\">\n      <g>\n       <use style=\"stroke:#000000;stroke-width:0.8;\" x=\"33.2875\" xlink:href=\"#m525436ff74\" y=\"169.121042\"/>\n      </g>\n     </g>\n     <g id=\"text_11\">\n      <!-- 100 -->\n      <g transform=\"translate(7.2 172.92026)scale(0.1 -0.1)\">\n       <use xlink:href=\"#DejaVuSans-31\"/>\n       <use x=\"63.623047\" xlink:href=\"#DejaVuSans-30\"/>\n       <use x=\"127.246094\" xlink:href=\"#DejaVuSans-30\"/>\n      </g>\n     </g>\n    </g>\n    <g id=\"ytick_4\">\n     <g id=\"line2d_12\">\n      <g>\n       <use style=\"stroke:#000000;stroke-width:0.8;\" x=\"33.2875\" xlink:href=\"#m525436ff74\" y=\"141.361563\"/>\n      </g>\n     </g>\n     <g id=\"text_12\">\n      <!-- 150 -->\n      <g transform=\"translate(7.2 145.160781)scale(0.1 -0.1)\">\n       <use xlink:href=\"#DejaVuSans-31\"/>\n       <use x=\"63.623047\" xlink:href=\"#DejaVuSans-35\"/>\n       <use x=\"127.246094\" xlink:href=\"#DejaVuSans-30\"/>\n      </g>\n     </g>\n    </g>\n    <g id=\"ytick_5\">\n     <g id=\"line2d_13\">\n      <g>\n       <use style=\"stroke:#000000;stroke-width:0.8;\" x=\"33.2875\" xlink:href=\"#m525436ff74\" y=\"113.602083\"/>\n      </g>\n     </g>\n     <g id=\"text_13\">\n      <!-- 200 -->\n      <g transform=\"translate(7.2 117.401302)scale(0.1 -0.1)\">\n       <use xlink:href=\"#DejaVuSans-32\"/>\n       <use x=\"63.623047\" xlink:href=\"#DejaVuSans-30\"/>\n       <use x=\"127.246094\" xlink:href=\"#DejaVuSans-30\"/>\n      </g>\n     </g>\n    </g>\n    <g id=\"ytick_6\">\n     <g id=\"line2d_14\">\n      <g>\n       <use style=\"stroke:#000000;stroke-width:0.8;\" x=\"33.2875\" xlink:href=\"#m525436ff74\" y=\"85.842604\"/>\n      </g>\n     </g>\n     <g id=\"text_14\">\n      <!-- 250 -->\n      <g transform=\"translate(7.2 89.641823)scale(0.1 -0.1)\">\n       <use xlink:href=\"#DejaVuSans-32\"/>\n       <use x=\"63.623047\" xlink:href=\"#DejaVuSans-35\"/>\n       <use x=\"127.246094\" xlink:href=\"#DejaVuSans-30\"/>\n      </g>\n     </g>\n    </g>\n    <g id=\"ytick_7\">\n     <g id=\"line2d_15\">\n      <g>\n       <use style=\"stroke:#000000;stroke-width:0.8;\" x=\"33.2875\" xlink:href=\"#m525436ff74\" y=\"58.083125\"/>\n      </g>\n     </g>\n     <g id=\"text_15\">\n      <!-- 300 -->\n      <g transform=\"translate(7.2 61.882344)scale(0.1 -0.1)\">\n       <defs>\n        <path d=\"M 2597 2516 \nQ 3050 2419 3304 2112 \nQ 3559 1806 3559 1356 \nQ 3559 666 3084 287 \nQ 2609 -91 1734 -91 \nQ 1441 -91 1130 -33 \nQ 819 25 488 141 \nL 488 750 \nQ 750 597 1062 519 \nQ 1375 441 1716 441 \nQ 2309 441 2620 675 \nQ 2931 909 2931 1356 \nQ 2931 1769 2642 2001 \nQ 2353 2234 1838 2234 \nL 1294 2234 \nL 1294 2753 \nL 1863 2753 \nQ 2328 2753 2575 2939 \nQ 2822 3125 2822 3475 \nQ 2822 3834 2567 4026 \nQ 2313 4219 1838 4219 \nQ 1578 4219 1281 4162 \nQ 984 4106 628 3988 \nL 628 4550 \nQ 988 4650 1302 4700 \nQ 1616 4750 1894 4750 \nQ 2613 4750 3031 4423 \nQ 3450 4097 3450 3541 \nQ 3450 3153 3228 2886 \nQ 3006 2619 2597 2516 \nz\n\" id=\"DejaVuSans-33\" transform=\"scale(0.015625)\"/>\n       </defs>\n       <use xlink:href=\"#DejaVuSans-33\"/>\n       <use x=\"63.623047\" xlink:href=\"#DejaVuSans-30\"/>\n       <use x=\"127.246094\" xlink:href=\"#DejaVuSans-30\"/>\n      </g>\n     </g>\n    </g>\n    <g id=\"ytick_8\">\n     <g id=\"line2d_16\">\n      <g>\n       <use style=\"stroke:#000000;stroke-width:0.8;\" x=\"33.2875\" xlink:href=\"#m525436ff74\" y=\"30.323646\"/>\n      </g>\n     </g>\n     <g id=\"text_16\">\n      <!-- 350 -->\n      <g transform=\"translate(7.2 34.122865)scale(0.1 -0.1)\">\n       <use xlink:href=\"#DejaVuSans-33\"/>\n       <use x=\"63.623047\" xlink:href=\"#DejaVuSans-35\"/>\n       <use x=\"127.246094\" xlink:href=\"#DejaVuSans-30\"/>\n      </g>\n     </g>\n    </g>\n   </g>\n   <g id=\"patch_13\">\n    <path d=\"M 33.2875 224.64 \nL 33.2875 7.2 \n\" style=\"fill:none;stroke:#000000;stroke-linecap:square;stroke-linejoin:miter;stroke-width:0.8;\"/>\n   </g>\n   <g id=\"patch_14\">\n    <path d=\"M 368.0875 224.64 \nL 368.0875 7.2 \n\" style=\"fill:none;stroke:#000000;stroke-linecap:square;stroke-linejoin:miter;stroke-width:0.8;\"/>\n   </g>\n   <g id=\"patch_15\">\n    <path d=\"M 33.2875 224.64 \nL 368.0875 224.64 \n\" style=\"fill:none;stroke:#000000;stroke-linecap:square;stroke-linejoin:miter;stroke-width:0.8;\"/>\n   </g>\n   <g id=\"patch_16\">\n    <path d=\"M 33.2875 7.2 \nL 368.0875 7.2 \n\" style=\"fill:none;stroke:#000000;stroke-linecap:square;stroke-linejoin:miter;stroke-width:0.8;\"/>\n   </g>\n  </g>\n </g>\n <defs>\n  <clipPath id=\"pdb88286e60\">\n   <rect height=\"217.44\" width=\"334.8\" x=\"33.2875\" y=\"7.2\"/>\n  </clipPath>\n </defs>\n</svg>\n",
      "image/png": "[encoded data removed]"
     },
     "metadata": {
      "needs_background": "light"
     }
    }
   ],
   "metadata": {}
  },
  {
   "cell_type": "code",
   "execution_count": 8,
   "source": [
    "sns.countplot(x = 'default', data = credit_risk);"
   ],
   "outputs": [
    {
     "output_type": "display_data",
     "data": {
      "text/plain": [
       "<Figure size 432x288 with 1 Axes>"
      ],
      "image/svg+xml": "<?xml version=\"1.0\" encoding=\"utf-8\" standalone=\"no\"?>\n<!DOCTYPE svg PUBLIC \"-//W3C//DTD SVG 1.1//EN\"\n  \"http://www.w3.org/Graphics/SVG/1.1/DTD/svg11.dtd\">\n<svg height=\"262.19625pt\" version=\"1.1\" viewBox=\"0 0 395.328125 262.19625\" width=\"395.328125pt\" xmlns=\"http://www.w3.org/2000/svg\" xmlns:xlink=\"http://www.w3.org/1999/xlink\">\n <metadata>\n  <rdf:RDF xmlns:cc=\"http://creativecommons.org/ns#\" xmlns:dc=\"http://purl.org/dc/elements/1.1/\" xmlns:rdf=\"http://www.w3.org/1999/02/22-rdf-syntax-ns#\">\n   <cc:Work>\n    <dc:type rdf:resource=\"http://purl.org/dc/dcmitype/StillImage\"/>\n    <dc:date>2021-10-11T22:47:59.264161</dc:date>\n    <dc:format>image/svg+xml</dc:format>\n    <dc:creator>\n     <cc:Agent>\n      <dc:title>Matplotlib v3.4.3, https://matplotlib.org/</dc:title>\n     </cc:Agent>\n    </dc:creator>\n   </cc:Work>\n  </rdf:RDF>\n </metadata>\n <defs>\n  <style type=\"text/css\">*{stroke-linecap:butt;stroke-linejoin:round;}</style>\n </defs>\n <g id=\"figure_1\">\n  <g id=\"patch_1\">\n   <path d=\"M 0 262.19625 \nL 395.328125 262.19625 \nL 395.328125 0 \nL 0 0 \nz\n\" style=\"fill:none;\"/>\n  </g>\n  <g id=\"axes_1\">\n   <g id=\"patch_2\">\n    <path d=\"M 53.328125 224.64 \nL 388.128125 224.64 \nL 388.128125 7.2 \nL 53.328125 7.2 \nz\n\" style=\"fill:#ffffff;\"/>\n   </g>\n   <g id=\"patch_3\">\n    <path clip-path=\"url(#pe522f8a5be)\" d=\"M 70.068125 224.64 \nL 203.988125 224.64 \nL 203.988125 17.554286 \nL 70.068125 17.554286 \nz\n\" style=\"fill:#3274a1;\"/>\n   </g>\n   <g id=\"patch_4\">\n    <path clip-path=\"url(#pe522f8a5be)\" d=\"M 237.468125 224.64 \nL 371.388125 224.64 \nL 371.388125 190.507643 \nL 237.468125 190.507643 \nz\n\" style=\"fill:#e1812c;\"/>\n   </g>\n   <g id=\"matplotlib.axis_1\">\n    <g id=\"xtick_1\">\n     <g id=\"line2d_1\">\n      <defs>\n       <path d=\"M 0 0 \nL 0 3.5 \n\" id=\"mecd28c17d9\" style=\"stroke:#000000;stroke-width:0.8;\"/>\n      </defs>\n      <g>\n       <use style=\"stroke:#000000;stroke-width:0.8;\" x=\"137.028125\" xlink:href=\"#mecd28c17d9\" y=\"224.64\"/>\n      </g>\n     </g>\n     <g id=\"text_1\">\n      <!-- 0 -->\n      <g transform=\"translate(133.846875 239.238438)scale(0.1 -0.1)\">\n       <defs>\n        <path d=\"M 2034 4250 \nQ 1547 4250 1301 3770 \nQ 1056 3291 1056 2328 \nQ 1056 1369 1301 889 \nQ 1547 409 2034 409 \nQ 2525 409 2770 889 \nQ 3016 1369 3016 2328 \nQ 3016 3291 2770 3770 \nQ 2525 4250 2034 4250 \nz\nM 2034 4750 \nQ 2819 4750 3233 4129 \nQ 3647 3509 3647 2328 \nQ 3647 1150 3233 529 \nQ 2819 -91 2034 -91 \nQ 1250 -91 836 529 \nQ 422 1150 422 2328 \nQ 422 3509 836 4129 \nQ 1250 4750 2034 4750 \nz\n\" id=\"DejaVuSans-30\" transform=\"scale(0.015625)\"/>\n       </defs>\n       <use xlink:href=\"#DejaVuSans-30\"/>\n      </g>\n     </g>\n    </g>\n    <g id=\"xtick_2\">\n     <g id=\"line2d_2\">\n      <g>\n       <use style=\"stroke:#000000;stroke-width:0.8;\" x=\"304.428125\" xlink:href=\"#mecd28c17d9\" y=\"224.64\"/>\n      </g>\n     </g>\n     <g id=\"text_2\">\n      <!-- 1 -->\n      <g transform=\"translate(301.246875 239.238438)scale(0.1 -0.1)\">\n       <defs>\n        <path d=\"M 794 531 \nL 1825 531 \nL 1825 4091 \nL 703 3866 \nL 703 4441 \nL 1819 4666 \nL 2450 4666 \nL 2450 531 \nL 3481 531 \nL 3481 0 \nL 794 0 \nL 794 531 \nz\n\" id=\"DejaVuSans-31\" transform=\"scale(0.015625)\"/>\n       </defs>\n       <use xlink:href=\"#DejaVuSans-31\"/>\n      </g>\n     </g>\n    </g>\n    <g id=\"text_3\">\n     <!-- default -->\n     <g transform=\"translate(203.135156 252.916563)scale(0.1 -0.1)\">\n      <defs>\n       <path d=\"M 2906 2969 \nL 2906 4863 \nL 3481 4863 \nL 3481 0 \nL 2906 0 \nL 2906 525 \nQ 2725 213 2448 61 \nQ 2172 -91 1784 -91 \nQ 1150 -91 751 415 \nQ 353 922 353 1747 \nQ 353 2572 751 3078 \nQ 1150 3584 1784 3584 \nQ 2172 3584 2448 3432 \nQ 2725 3281 2906 2969 \nz\nM 947 1747 \nQ 947 1113 1208 752 \nQ 1469 391 1925 391 \nQ 2381 391 2643 752 \nQ 2906 1113 2906 1747 \nQ 2906 2381 2643 2742 \nQ 2381 3103 1925 3103 \nQ 1469 3103 1208 2742 \nQ 947 2381 947 1747 \nz\n\" id=\"DejaVuSans-64\" transform=\"scale(0.015625)\"/>\n       <path d=\"M 3597 1894 \nL 3597 1613 \nL 953 1613 \nQ 991 1019 1311 708 \nQ 1631 397 2203 397 \nQ 2534 397 2845 478 \nQ 3156 559 3463 722 \nL 3463 178 \nQ 3153 47 2828 -22 \nQ 2503 -91 2169 -91 \nQ 1331 -91 842 396 \nQ 353 884 353 1716 \nQ 353 2575 817 3079 \nQ 1281 3584 2069 3584 \nQ 2775 3584 3186 3129 \nQ 3597 2675 3597 1894 \nz\nM 3022 2063 \nQ 3016 2534 2758 2815 \nQ 2500 3097 2075 3097 \nQ 1594 3097 1305 2825 \nQ 1016 2553 972 2059 \nL 3022 2063 \nz\n\" id=\"DejaVuSans-65\" transform=\"scale(0.015625)\"/>\n       <path d=\"M 2375 4863 \nL 2375 4384 \nL 1825 4384 \nQ 1516 4384 1395 4259 \nQ 1275 4134 1275 3809 \nL 1275 3500 \nL 2222 3500 \nL 2222 3053 \nL 1275 3053 \nL 1275 0 \nL 697 0 \nL 697 3053 \nL 147 3053 \nL 147 3500 \nL 697 3500 \nL 697 3744 \nQ 697 4328 969 4595 \nQ 1241 4863 1831 4863 \nL 2375 4863 \nz\n\" id=\"DejaVuSans-66\" transform=\"scale(0.015625)\"/>\n       <path d=\"M 2194 1759 \nQ 1497 1759 1228 1600 \nQ 959 1441 959 1056 \nQ 959 750 1161 570 \nQ 1363 391 1709 391 \nQ 2188 391 2477 730 \nQ 2766 1069 2766 1631 \nL 2766 1759 \nL 2194 1759 \nz\nM 3341 1997 \nL 3341 0 \nL 2766 0 \nL 2766 531 \nQ 2569 213 2275 61 \nQ 1981 -91 1556 -91 \nQ 1019 -91 701 211 \nQ 384 513 384 1019 \nQ 384 1609 779 1909 \nQ 1175 2209 1959 2209 \nL 2766 2209 \nL 2766 2266 \nQ 2766 2663 2505 2880 \nQ 2244 3097 1772 3097 \nQ 1472 3097 1187 3025 \nQ 903 2953 641 2809 \nL 641 3341 \nQ 956 3463 1253 3523 \nQ 1550 3584 1831 3584 \nQ 2591 3584 2966 3190 \nQ 3341 2797 3341 1997 \nz\n\" id=\"DejaVuSans-61\" transform=\"scale(0.015625)\"/>\n       <path d=\"M 544 1381 \nL 544 3500 \nL 1119 3500 \nL 1119 1403 \nQ 1119 906 1312 657 \nQ 1506 409 1894 409 \nQ 2359 409 2629 706 \nQ 2900 1003 2900 1516 \nL 2900 3500 \nL 3475 3500 \nL 3475 0 \nL 2900 0 \nL 2900 538 \nQ 2691 219 2414 64 \nQ 2138 -91 1772 -91 \nQ 1169 -91 856 284 \nQ 544 659 544 1381 \nz\nM 1991 3584 \nL 1991 3584 \nz\n\" id=\"DejaVuSans-75\" transform=\"scale(0.015625)\"/>\n       <path d=\"M 603 4863 \nL 1178 4863 \nL 1178 0 \nL 603 0 \nL 603 4863 \nz\n\" id=\"DejaVuSans-6c\" transform=\"scale(0.015625)\"/>\n       <path d=\"M 1172 4494 \nL 1172 3500 \nL 2356 3500 \nL 2356 3053 \nL 1172 3053 \nL 1172 1153 \nQ 1172 725 1289 603 \nQ 1406 481 1766 481 \nL 2356 481 \nL 2356 0 \nL 1766 0 \nQ 1100 0 847 248 \nQ 594 497 594 1153 \nL 594 3053 \nL 172 3053 \nL 172 3500 \nL 594 3500 \nL 594 4494 \nL 1172 4494 \nz\n\" id=\"DejaVuSans-74\" transform=\"scale(0.015625)\"/>\n      </defs>\n      <use xlink:href=\"#DejaVuSans-64\"/>\n      <use x=\"63.476562\" xlink:href=\"#DejaVuSans-65\"/>\n      <use x=\"125\" xlink:href=\"#DejaVuSans-66\"/>\n      <use x=\"160.205078\" xlink:href=\"#DejaVuSans-61\"/>\n      <use x=\"221.484375\" xlink:href=\"#DejaVuSans-75\"/>\n      <use x=\"284.863281\" xlink:href=\"#DejaVuSans-6c\"/>\n      <use x=\"312.646484\" xlink:href=\"#DejaVuSans-74\"/>\n     </g>\n    </g>\n   </g>\n   <g id=\"matplotlib.axis_2\">\n    <g id=\"ytick_1\">\n     <g id=\"line2d_3\">\n      <defs>\n       <path d=\"M 0 0 \nL -3.5 0 \n\" id=\"m79fc482d77\" style=\"stroke:#000000;stroke-width:0.8;\"/>\n      </defs>\n      <g>\n       <use style=\"stroke:#000000;stroke-width:0.8;\" x=\"53.328125\" xlink:href=\"#m79fc482d77\" y=\"224.64\"/>\n      </g>\n     </g>\n     <g id=\"text_4\">\n      <!-- 0 -->\n      <g transform=\"translate(39.965625 228.439219)scale(0.1 -0.1)\">\n       <use xlink:href=\"#DejaVuSans-30\"/>\n      </g>\n     </g>\n    </g>\n    <g id=\"ytick_2\">\n     <g id=\"line2d_4\">\n      <g>\n       <use style=\"stroke:#000000;stroke-width:0.8;\" x=\"53.328125\" xlink:href=\"#m79fc482d77\" y=\"194.487741\"/>\n      </g>\n     </g>\n     <g id=\"text_5\">\n      <!-- 250 -->\n      <g transform=\"translate(27.240625 198.28696)scale(0.1 -0.1)\">\n       <defs>\n        <path d=\"M 1228 531 \nL 3431 531 \nL 3431 0 \nL 469 0 \nL 469 531 \nQ 828 903 1448 1529 \nQ 2069 2156 2228 2338 \nQ 2531 2678 2651 2914 \nQ 2772 3150 2772 3378 \nQ 2772 3750 2511 3984 \nQ 2250 4219 1831 4219 \nQ 1534 4219 1204 4116 \nQ 875 4013 500 3803 \nL 500 4441 \nQ 881 4594 1212 4672 \nQ 1544 4750 1819 4750 \nQ 2544 4750 2975 4387 \nQ 3406 4025 3406 3419 \nQ 3406 3131 3298 2873 \nQ 3191 2616 2906 2266 \nQ 2828 2175 2409 1742 \nQ 1991 1309 1228 531 \nz\n\" id=\"DejaVuSans-32\" transform=\"scale(0.015625)\"/>\n        <path d=\"M 691 4666 \nL 3169 4666 \nL 3169 4134 \nL 1269 4134 \nL 1269 2991 \nQ 1406 3038 1543 3061 \nQ 1681 3084 1819 3084 \nQ 2600 3084 3056 2656 \nQ 3513 2228 3513 1497 \nQ 3513 744 3044 326 \nQ 2575 -91 1722 -91 \nQ 1428 -91 1123 -41 \nQ 819 9 494 109 \nL 494 744 \nQ 775 591 1075 516 \nQ 1375 441 1709 441 \nQ 2250 441 2565 725 \nQ 2881 1009 2881 1497 \nQ 2881 1984 2565 2268 \nQ 2250 2553 1709 2553 \nQ 1456 2553 1204 2497 \nQ 953 2441 691 2322 \nL 691 4666 \nz\n\" id=\"DejaVuSans-35\" transform=\"scale(0.015625)\"/>\n       </defs>\n       <use xlink:href=\"#DejaVuSans-32\"/>\n       <use x=\"63.623047\" xlink:href=\"#DejaVuSans-35\"/>\n       <use x=\"127.246094\" xlink:href=\"#DejaVuSans-30\"/>\n      </g>\n     </g>\n    </g>\n    <g id=\"ytick_3\">\n     <g id=\"line2d_5\">\n      <g>\n       <use style=\"stroke:#000000;stroke-width:0.8;\" x=\"53.328125\" xlink:href=\"#m79fc482d77\" y=\"164.335482\"/>\n      </g>\n     </g>\n     <g id=\"text_6\">\n      <!-- 500 -->\n      <g transform=\"translate(27.240625 168.134701)scale(0.1 -0.1)\">\n       <use xlink:href=\"#DejaVuSans-35\"/>\n       <use x=\"63.623047\" xlink:href=\"#DejaVuSans-30\"/>\n       <use x=\"127.246094\" xlink:href=\"#DejaVuSans-30\"/>\n      </g>\n     </g>\n    </g>\n    <g id=\"ytick_4\">\n     <g id=\"line2d_6\">\n      <g>\n       <use style=\"stroke:#000000;stroke-width:0.8;\" x=\"53.328125\" xlink:href=\"#m79fc482d77\" y=\"134.183223\"/>\n      </g>\n     </g>\n     <g id=\"text_7\">\n      <!-- 750 -->\n      <g transform=\"translate(27.240625 137.982442)scale(0.1 -0.1)\">\n       <defs>\n        <path d=\"M 525 4666 \nL 3525 4666 \nL 3525 4397 \nL 1831 0 \nL 1172 0 \nL 2766 4134 \nL 525 4134 \nL 525 4666 \nz\n\" id=\"DejaVuSans-37\" transform=\"scale(0.015625)\"/>\n       </defs>\n       <use xlink:href=\"#DejaVuSans-37\"/>\n       <use x=\"63.623047\" xlink:href=\"#DejaVuSans-35\"/>\n       <use x=\"127.246094\" xlink:href=\"#DejaVuSans-30\"/>\n      </g>\n     </g>\n    </g>\n    <g id=\"ytick_5\">\n     <g id=\"line2d_7\">\n      <g>\n       <use style=\"stroke:#000000;stroke-width:0.8;\" x=\"53.328125\" xlink:href=\"#m79fc482d77\" y=\"104.030964\"/>\n      </g>\n     </g>\n     <g id=\"text_8\">\n      <!-- 1000 -->\n      <g transform=\"translate(20.878125 107.830183)scale(0.1 -0.1)\">\n       <use xlink:href=\"#DejaVuSans-31\"/>\n       <use x=\"63.623047\" xlink:href=\"#DejaVuSans-30\"/>\n       <use x=\"127.246094\" xlink:href=\"#DejaVuSans-30\"/>\n       <use x=\"190.869141\" xlink:href=\"#DejaVuSans-30\"/>\n      </g>\n     </g>\n    </g>\n    <g id=\"ytick_6\">\n     <g id=\"line2d_8\">\n      <g>\n       <use style=\"stroke:#000000;stroke-width:0.8;\" x=\"53.328125\" xlink:href=\"#m79fc482d77\" y=\"73.878705\"/>\n      </g>\n     </g>\n     <g id=\"text_9\">\n      <!-- 1250 -->\n      <g transform=\"translate(20.878125 77.677924)scale(0.1 -0.1)\">\n       <use xlink:href=\"#DejaVuSans-31\"/>\n       <use x=\"63.623047\" xlink:href=\"#DejaVuSans-32\"/>\n       <use x=\"127.246094\" xlink:href=\"#DejaVuSans-35\"/>\n       <use x=\"190.869141\" xlink:href=\"#DejaVuSans-30\"/>\n      </g>\n     </g>\n    </g>\n    <g id=\"ytick_7\">\n     <g id=\"line2d_9\">\n      <g>\n       <use style=\"stroke:#000000;stroke-width:0.8;\" x=\"53.328125\" xlink:href=\"#m79fc482d77\" y=\"43.726446\"/>\n      </g>\n     </g>\n     <g id=\"text_10\">\n      <!-- 1500 -->\n      <g transform=\"translate(20.878125 47.525665)scale(0.1 -0.1)\">\n       <use xlink:href=\"#DejaVuSans-31\"/>\n       <use x=\"63.623047\" xlink:href=\"#DejaVuSans-35\"/>\n       <use x=\"127.246094\" xlink:href=\"#DejaVuSans-30\"/>\n       <use x=\"190.869141\" xlink:href=\"#DejaVuSans-30\"/>\n      </g>\n     </g>\n    </g>\n    <g id=\"ytick_8\">\n     <g id=\"line2d_10\">\n      <g>\n       <use style=\"stroke:#000000;stroke-width:0.8;\" x=\"53.328125\" xlink:href=\"#m79fc482d77\" y=\"13.574188\"/>\n      </g>\n     </g>\n     <g id=\"text_11\">\n      <!-- 1750 -->\n      <g transform=\"translate(20.878125 17.373406)scale(0.1 -0.1)\">\n       <use xlink:href=\"#DejaVuSans-31\"/>\n       <use x=\"63.623047\" xlink:href=\"#DejaVuSans-37\"/>\n       <use x=\"127.246094\" xlink:href=\"#DejaVuSans-35\"/>\n       <use x=\"190.869141\" xlink:href=\"#DejaVuSans-30\"/>\n      </g>\n     </g>\n    </g>\n    <g id=\"text_12\">\n     <!-- count -->\n     <g transform=\"translate(14.798438 130.02625)rotate(-90)scale(0.1 -0.1)\">\n      <defs>\n       <path d=\"M 3122 3366 \nL 3122 2828 \nQ 2878 2963 2633 3030 \nQ 2388 3097 2138 3097 \nQ 1578 3097 1268 2742 \nQ 959 2388 959 1747 \nQ 959 1106 1268 751 \nQ 1578 397 2138 397 \nQ 2388 397 2633 464 \nQ 2878 531 3122 666 \nL 3122 134 \nQ 2881 22 2623 -34 \nQ 2366 -91 2075 -91 \nQ 1284 -91 818 406 \nQ 353 903 353 1747 \nQ 353 2603 823 3093 \nQ 1294 3584 2113 3584 \nQ 2378 3584 2631 3529 \nQ 2884 3475 3122 3366 \nz\n\" id=\"DejaVuSans-63\" transform=\"scale(0.015625)\"/>\n       <path d=\"M 1959 3097 \nQ 1497 3097 1228 2736 \nQ 959 2375 959 1747 \nQ 959 1119 1226 758 \nQ 1494 397 1959 397 \nQ 2419 397 2687 759 \nQ 2956 1122 2956 1747 \nQ 2956 2369 2687 2733 \nQ 2419 3097 1959 3097 \nz\nM 1959 3584 \nQ 2709 3584 3137 3096 \nQ 3566 2609 3566 1747 \nQ 3566 888 3137 398 \nQ 2709 -91 1959 -91 \nQ 1206 -91 779 398 \nQ 353 888 353 1747 \nQ 353 2609 779 3096 \nQ 1206 3584 1959 3584 \nz\n\" id=\"DejaVuSans-6f\" transform=\"scale(0.015625)\"/>\n       <path d=\"M 3513 2113 \nL 3513 0 \nL 2938 0 \nL 2938 2094 \nQ 2938 2591 2744 2837 \nQ 2550 3084 2163 3084 \nQ 1697 3084 1428 2787 \nQ 1159 2491 1159 1978 \nL 1159 0 \nL 581 0 \nL 581 3500 \nL 1159 3500 \nL 1159 2956 \nQ 1366 3272 1645 3428 \nQ 1925 3584 2291 3584 \nQ 2894 3584 3203 3211 \nQ 3513 2838 3513 2113 \nz\n\" id=\"DejaVuSans-6e\" transform=\"scale(0.015625)\"/>\n      </defs>\n      <use xlink:href=\"#DejaVuSans-63\"/>\n      <use x=\"54.980469\" xlink:href=\"#DejaVuSans-6f\"/>\n      <use x=\"116.162109\" xlink:href=\"#DejaVuSans-75\"/>\n      <use x=\"179.541016\" xlink:href=\"#DejaVuSans-6e\"/>\n      <use x=\"242.919922\" xlink:href=\"#DejaVuSans-74\"/>\n     </g>\n    </g>\n   </g>\n   <g id=\"patch_5\">\n    <path d=\"M 53.328125 224.64 \nL 53.328125 7.2 \n\" style=\"fill:none;stroke:#000000;stroke-linecap:square;stroke-linejoin:miter;stroke-width:0.8;\"/>\n   </g>\n   <g id=\"patch_6\">\n    <path d=\"M 388.128125 224.64 \nL 388.128125 7.2 \n\" style=\"fill:none;stroke:#000000;stroke-linecap:square;stroke-linejoin:miter;stroke-width:0.8;\"/>\n   </g>\n   <g id=\"patch_7\">\n    <path d=\"M 53.328125 224.64 \nL 388.128125 224.64 \n\" style=\"fill:none;stroke:#000000;stroke-linecap:square;stroke-linejoin:miter;stroke-width:0.8;\"/>\n   </g>\n   <g id=\"patch_8\">\n    <path d=\"M 53.328125 7.2 \nL 388.128125 7.2 \n\" style=\"fill:none;stroke:#000000;stroke-linecap:square;stroke-linejoin:miter;stroke-width:0.8;\"/>\n   </g>\n  </g>\n </g>\n <defs>\n  <clipPath id=\"pe522f8a5be\">\n   <rect height=\"217.44\" width=\"334.8\" x=\"53.328125\" y=\"7.2\"/>\n  </clipPath>\n </defs>\n</svg>\n",
      "image/png": "[encoded data removed]"
     },
     "metadata": {
      "needs_background": "light"
     }
    }
   ],
   "metadata": {}
  },
  {
   "cell_type": "markdown",
   "source": [
    "## Changing wrong or non-existent values"
   ],
   "metadata": {}
  },
  {
   "cell_type": "code",
   "execution_count": 9,
   "source": [
    "credit_risk.loc[credit_risk['age'] < 0]"
   ],
   "outputs": [
    {
     "output_type": "execute_result",
     "data": {
      "text/plain": [
       "    clientid        income        age         loan  default\n",
       "15        16  50501.726689 -28.218361  3977.287432        0\n",
       "21        22  32197.620701 -52.423280  4244.057136        0\n",
       "26        27  63287.038908 -36.496976  9595.286289        0"
      ],
      "text/html": [
       "<div>\n",
       "<style scoped>\n",
       "    .dataframe tbody tr th:only-of-type {\n",
       "        vertical-align: middle;\n",
       "    }\n",
       "\n",
       "    .dataframe tbody tr th {\n",
       "        vertical-align: top;\n",
       "    }\n",
       "\n",
       "    .dataframe thead th {\n",
       "        text-align: right;\n",
       "    }\n",
       "</style>\n",
       "<table border=\"1\" class=\"dataframe\">\n",
       "  <thead>\n",
       "    <tr style=\"text-align: right;\">\n",
       "      <th></th>\n",
       "      <th>clientid</th>\n",
       "      <th>income</th>\n",
       "      <th>age</th>\n",
       "      <th>loan</th>\n",
       "      <th>default</th>\n",
       "    </tr>\n",
       "  </thead>\n",
       "  <tbody>\n",
       "    <tr>\n",
       "      <th>15</th>\n",
       "      <td>16</td>\n",
       "      <td>50501.726689</td>\n",
       "      <td>-28.218361</td>\n",
       "      <td>3977.287432</td>\n",
       "      <td>0</td>\n",
       "    </tr>\n",
       "    <tr>\n",
       "      <th>21</th>\n",
       "      <td>22</td>\n",
       "      <td>32197.620701</td>\n",
       "      <td>-52.423280</td>\n",
       "      <td>4244.057136</td>\n",
       "      <td>0</td>\n",
       "    </tr>\n",
       "    <tr>\n",
       "      <th>26</th>\n",
       "      <td>27</td>\n",
       "      <td>63287.038908</td>\n",
       "      <td>-36.496976</td>\n",
       "      <td>9595.286289</td>\n",
       "      <td>0</td>\n",
       "    </tr>\n",
       "  </tbody>\n",
       "</table>\n",
       "</div>"
      ]
     },
     "metadata": {},
     "execution_count": 9
    }
   ],
   "metadata": {}
  },
  {
   "cell_type": "code",
   "execution_count": 10,
   "source": [
    "credit_risk.mean()"
   ],
   "outputs": [
    {
     "output_type": "execute_result",
     "data": {
      "text/plain": [
       "clientid     1000.500000\n",
       "income      45331.600018\n",
       "age            40.807559\n",
       "loan         4444.369695\n",
       "default         0.141500\n",
       "dtype: float64"
      ]
     },
     "metadata": {},
     "execution_count": 10
    }
   ],
   "metadata": {}
  },
  {
   "cell_type": "code",
   "execution_count": 11,
   "source": [
    "credit_risk.loc[credit_risk['age'] < 0, 'age'] = 40.807559"
   ],
   "outputs": [],
   "metadata": {}
  },
  {
   "cell_type": "code",
   "execution_count": 12,
   "source": [
    "credit_risk.loc[credit_risk['age'] < 0]"
   ],
   "outputs": [
    {
     "output_type": "execute_result",
     "data": {
      "text/plain": [
       "Empty DataFrame\n",
       "Columns: [clientid, income, age, loan, default]\n",
       "Index: []"
      ],
      "text/html": [
       "<div>\n",
       "<style scoped>\n",
       "    .dataframe tbody tr th:only-of-type {\n",
       "        vertical-align: middle;\n",
       "    }\n",
       "\n",
       "    .dataframe tbody tr th {\n",
       "        vertical-align: top;\n",
       "    }\n",
       "\n",
       "    .dataframe thead th {\n",
       "        text-align: right;\n",
       "    }\n",
       "</style>\n",
       "<table border=\"1\" class=\"dataframe\">\n",
       "  <thead>\n",
       "    <tr style=\"text-align: right;\">\n",
       "      <th></th>\n",
       "      <th>clientid</th>\n",
       "      <th>income</th>\n",
       "      <th>age</th>\n",
       "      <th>loan</th>\n",
       "      <th>default</th>\n",
       "    </tr>\n",
       "  </thead>\n",
       "  <tbody>\n",
       "  </tbody>\n",
       "</table>\n",
       "</div>"
      ]
     },
     "metadata": {},
     "execution_count": 12
    }
   ],
   "metadata": {}
  },
  {
   "cell_type": "code",
   "execution_count": 13,
   "source": [
    "credit_risk.isnull().sum()"
   ],
   "outputs": [
    {
     "output_type": "execute_result",
     "data": {
      "text/plain": [
       "clientid    0\n",
       "income      0\n",
       "age         3\n",
       "loan        0\n",
       "default     0\n",
       "dtype: int64"
      ]
     },
     "metadata": {},
     "execution_count": 13
    }
   ],
   "metadata": {}
  },
  {
   "cell_type": "code",
   "execution_count": 14,
   "source": [
    "credit_risk['age'].loc[pd.isnull]"
   ],
   "outputs": [
    {
     "output_type": "execute_result",
     "data": {
      "text/plain": [
       "28   NaN\n",
       "30   NaN\n",
       "31   NaN\n",
       "Name: age, dtype: float64"
      ]
     },
     "metadata": {},
     "execution_count": 14
    }
   ],
   "metadata": {}
  },
  {
   "cell_type": "code",
   "execution_count": 15,
   "source": [
    "credit_risk['age'].loc[pd.isnull] = 40.807559"
   ],
   "outputs": [
    {
     "output_type": "stream",
     "name": "stderr",
     "text": [
      "/home/andre/miniconda3/envs/myenv/lib/python3.7/site-packages/pandas/core/indexing.py:1732: SettingWithCopyWarning: \n",
      "A value is trying to be set on a copy of a slice from a DataFrame\n",
      "\n",
      "See the caveats in the documentation: https://pandas.pydata.org/pandas-docs/stable/user_guide/indexing.html#returning-a-view-versus-a-copy\n",
      "  self._setitem_single_block(indexer, value, name)\n"
     ]
    }
   ],
   "metadata": {}
  },
  {
   "cell_type": "code",
   "execution_count": 16,
   "source": [
    "credit_risk.isnull().sum()"
   ],
   "outputs": [
    {
     "output_type": "execute_result",
     "data": {
      "text/plain": [
       "clientid    0\n",
       "income      0\n",
       "age         0\n",
       "loan        0\n",
       "default     0\n",
       "dtype: int64"
      ]
     },
     "metadata": {},
     "execution_count": 16
    }
   ],
   "metadata": {}
  },
  {
   "cell_type": "code",
   "execution_count": 17,
   "source": [
    "credit_risk.head(32)"
   ],
   "outputs": [
    {
     "output_type": "execute_result",
     "data": {
      "text/plain": [
       "    clientid        income        age          loan  default\n",
       "0          1  66155.925095  59.017015   8106.532131        0\n",
       "1          2  34415.153966  48.117153   6564.745018        0\n",
       "2          3  57317.170063  63.108049   8020.953296        0\n",
       "3          4  42709.534201  45.751972   6103.642260        0\n",
       "4          5  66952.688845  18.584336   8770.099235        1\n",
       "5          6  24904.064140  57.471607     15.498598        0\n",
       "6          7  48430.359613  26.809132   5722.581981        0\n",
       "7          8  24500.141984  32.897548   2971.003310        1\n",
       "8          9  40654.892537  55.496853   4755.825280        0\n",
       "9         10  25075.872771  39.776378   1409.230371        0\n",
       "10        11  64131.415372  25.679575   4351.028971        0\n",
       "11        12  59436.847123  60.471936   9254.244538        0\n",
       "12        13  61050.346079  26.355044   5893.264659        0\n",
       "13        14  27267.995458  61.576776   4759.787581        0\n",
       "14        15  63061.960174  39.201553   1850.369377        0\n",
       "15        16  50501.726689  40.807559   3977.287432        0\n",
       "16        17  43548.654711  39.574530   3935.544453        0\n",
       "17        18  43378.175194  60.848318   3277.737553        0\n",
       "18        19  20542.365073  61.690571   3157.442290        0\n",
       "19        20  58887.357549  26.076093   4965.516066        0\n",
       "20        21  23000.784002  31.761354   1148.118057        0\n",
       "21        22  32197.620701  40.807559   4244.057136        0\n",
       "22        23  23329.319414  48.576975    222.622299        0\n",
       "23        24  27845.800894  51.970624   4959.921226        0\n",
       "24        25  65301.984029  48.840922   5465.267886        0\n",
       "25        26  47451.630123  27.031741   5361.282716        0\n",
       "26        27  63287.038908  40.807559   9595.286289        0\n",
       "27        28  45727.459870  55.839922   6376.822949        0\n",
       "28        29  59417.805406  40.807559   2082.625938        0\n",
       "29        30  58842.891308  54.510948  10871.186790        0\n",
       "30        31  48528.852796  40.807559   6155.784670        0\n",
       "31        32  23526.302555  40.807559   2862.010139        0"
      ],
      "text/html": [
       "<div>\n",
       "<style scoped>\n",
       "    .dataframe tbody tr th:only-of-type {\n",
       "        vertical-align: middle;\n",
       "    }\n",
       "\n",
       "    .dataframe tbody tr th {\n",
       "        vertical-align: top;\n",
       "    }\n",
       "\n",
       "    .dataframe thead th {\n",
       "        text-align: right;\n",
       "    }\n",
       "</style>\n",
       "<table border=\"1\" class=\"dataframe\">\n",
       "  <thead>\n",
       "    <tr style=\"text-align: right;\">\n",
       "      <th></th>\n",
       "      <th>clientid</th>\n",
       "      <th>income</th>\n",
       "      <th>age</th>\n",
       "      <th>loan</th>\n",
       "      <th>default</th>\n",
       "    </tr>\n",
       "  </thead>\n",
       "  <tbody>\n",
       "    <tr>\n",
       "      <th>0</th>\n",
       "      <td>1</td>\n",
       "      <td>66155.925095</td>\n",
       "      <td>59.017015</td>\n",
       "      <td>8106.532131</td>\n",
       "      <td>0</td>\n",
       "    </tr>\n",
       "    <tr>\n",
       "      <th>1</th>\n",
       "      <td>2</td>\n",
       "      <td>34415.153966</td>\n",
       "      <td>48.117153</td>\n",
       "      <td>6564.745018</td>\n",
       "      <td>0</td>\n",
       "    </tr>\n",
       "    <tr>\n",
       "      <th>2</th>\n",
       "      <td>3</td>\n",
       "      <td>57317.170063</td>\n",
       "      <td>63.108049</td>\n",
       "      <td>8020.953296</td>\n",
       "      <td>0</td>\n",
       "    </tr>\n",
       "    <tr>\n",
       "      <th>3</th>\n",
       "      <td>4</td>\n",
       "      <td>42709.534201</td>\n",
       "      <td>45.751972</td>\n",
       "      <td>6103.642260</td>\n",
       "      <td>0</td>\n",
       "    </tr>\n",
       "    <tr>\n",
       "      <th>4</th>\n",
       "      <td>5</td>\n",
       "      <td>66952.688845</td>\n",
       "      <td>18.584336</td>\n",
       "      <td>8770.099235</td>\n",
       "      <td>1</td>\n",
       "    </tr>\n",
       "    <tr>\n",
       "      <th>5</th>\n",
       "      <td>6</td>\n",
       "      <td>24904.064140</td>\n",
       "      <td>57.471607</td>\n",
       "      <td>15.498598</td>\n",
       "      <td>0</td>\n",
       "    </tr>\n",
       "    <tr>\n",
       "      <th>6</th>\n",
       "      <td>7</td>\n",
       "      <td>48430.359613</td>\n",
       "      <td>26.809132</td>\n",
       "      <td>5722.581981</td>\n",
       "      <td>0</td>\n",
       "    </tr>\n",
       "    <tr>\n",
       "      <th>7</th>\n",
       "      <td>8</td>\n",
       "      <td>24500.141984</td>\n",
       "      <td>32.897548</td>\n",
       "      <td>2971.003310</td>\n",
       "      <td>1</td>\n",
       "    </tr>\n",
       "    <tr>\n",
       "      <th>8</th>\n",
       "      <td>9</td>\n",
       "      <td>40654.892537</td>\n",
       "      <td>55.496853</td>\n",
       "      <td>4755.825280</td>\n",
       "      <td>0</td>\n",
       "    </tr>\n",
       "    <tr>\n",
       "      <th>9</th>\n",
       "      <td>10</td>\n",
       "      <td>25075.872771</td>\n",
       "      <td>39.776378</td>\n",
       "      <td>1409.230371</td>\n",
       "      <td>0</td>\n",
       "    </tr>\n",
       "    <tr>\n",
       "      <th>10</th>\n",
       "      <td>11</td>\n",
       "      <td>64131.415372</td>\n",
       "      <td>25.679575</td>\n",
       "      <td>4351.028971</td>\n",
       "      <td>0</td>\n",
       "    </tr>\n",
       "    <tr>\n",
       "      <th>11</th>\n",
       "      <td>12</td>\n",
       "      <td>59436.847123</td>\n",
       "      <td>60.471936</td>\n",
       "      <td>9254.244538</td>\n",
       "      <td>0</td>\n",
       "    </tr>\n",
       "    <tr>\n",
       "      <th>12</th>\n",
       "      <td>13</td>\n",
       "      <td>61050.346079</td>\n",
       "      <td>26.355044</td>\n",
       "      <td>5893.264659</td>\n",
       "      <td>0</td>\n",
       "    </tr>\n",
       "    <tr>\n",
       "      <th>13</th>\n",
       "      <td>14</td>\n",
       "      <td>27267.995458</td>\n",
       "      <td>61.576776</td>\n",
       "      <td>4759.787581</td>\n",
       "      <td>0</td>\n",
       "    </tr>\n",
       "    <tr>\n",
       "      <th>14</th>\n",
       "      <td>15</td>\n",
       "      <td>63061.960174</td>\n",
       "      <td>39.201553</td>\n",
       "      <td>1850.369377</td>\n",
       "      <td>0</td>\n",
       "    </tr>\n",
       "    <tr>\n",
       "      <th>15</th>\n",
       "      <td>16</td>\n",
       "      <td>50501.726689</td>\n",
       "      <td>40.807559</td>\n",
       "      <td>3977.287432</td>\n",
       "      <td>0</td>\n",
       "    </tr>\n",
       "    <tr>\n",
       "      <th>16</th>\n",
       "      <td>17</td>\n",
       "      <td>43548.654711</td>\n",
       "      <td>39.574530</td>\n",
       "      <td>3935.544453</td>\n",
       "      <td>0</td>\n",
       "    </tr>\n",
       "    <tr>\n",
       "      <th>17</th>\n",
       "      <td>18</td>\n",
       "      <td>43378.175194</td>\n",
       "      <td>60.848318</td>\n",
       "      <td>3277.737553</td>\n",
       "      <td>0</td>\n",
       "    </tr>\n",
       "    <tr>\n",
       "      <th>18</th>\n",
       "      <td>19</td>\n",
       "      <td>20542.365073</td>\n",
       "      <td>61.690571</td>\n",
       "      <td>3157.442290</td>\n",
       "      <td>0</td>\n",
       "    </tr>\n",
       "    <tr>\n",
       "      <th>19</th>\n",
       "      <td>20</td>\n",
       "      <td>58887.357549</td>\n",
       "      <td>26.076093</td>\n",
       "      <td>4965.516066</td>\n",
       "      <td>0</td>\n",
       "    </tr>\n",
       "    <tr>\n",
       "      <th>20</th>\n",
       "      <td>21</td>\n",
       "      <td>23000.784002</td>\n",
       "      <td>31.761354</td>\n",
       "      <td>1148.118057</td>\n",
       "      <td>0</td>\n",
       "    </tr>\n",
       "    <tr>\n",
       "      <th>21</th>\n",
       "      <td>22</td>\n",
       "      <td>32197.620701</td>\n",
       "      <td>40.807559</td>\n",
       "      <td>4244.057136</td>\n",
       "      <td>0</td>\n",
       "    </tr>\n",
       "    <tr>\n",
       "      <th>22</th>\n",
       "      <td>23</td>\n",
       "      <td>23329.319414</td>\n",
       "      <td>48.576975</td>\n",
       "      <td>222.622299</td>\n",
       "      <td>0</td>\n",
       "    </tr>\n",
       "    <tr>\n",
       "      <th>23</th>\n",
       "      <td>24</td>\n",
       "      <td>27845.800894</td>\n",
       "      <td>51.970624</td>\n",
       "      <td>4959.921226</td>\n",
       "      <td>0</td>\n",
       "    </tr>\n",
       "    <tr>\n",
       "      <th>24</th>\n",
       "      <td>25</td>\n",
       "      <td>65301.984029</td>\n",
       "      <td>48.840922</td>\n",
       "      <td>5465.267886</td>\n",
       "      <td>0</td>\n",
       "    </tr>\n",
       "    <tr>\n",
       "      <th>25</th>\n",
       "      <td>26</td>\n",
       "      <td>47451.630123</td>\n",
       "      <td>27.031741</td>\n",
       "      <td>5361.282716</td>\n",
       "      <td>0</td>\n",
       "    </tr>\n",
       "    <tr>\n",
       "      <th>26</th>\n",
       "      <td>27</td>\n",
       "      <td>63287.038908</td>\n",
       "      <td>40.807559</td>\n",
       "      <td>9595.286289</td>\n",
       "      <td>0</td>\n",
       "    </tr>\n",
       "    <tr>\n",
       "      <th>27</th>\n",
       "      <td>28</td>\n",
       "      <td>45727.459870</td>\n",
       "      <td>55.839922</td>\n",
       "      <td>6376.822949</td>\n",
       "      <td>0</td>\n",
       "    </tr>\n",
       "    <tr>\n",
       "      <th>28</th>\n",
       "      <td>29</td>\n",
       "      <td>59417.805406</td>\n",
       "      <td>40.807559</td>\n",
       "      <td>2082.625938</td>\n",
       "      <td>0</td>\n",
       "    </tr>\n",
       "    <tr>\n",
       "      <th>29</th>\n",
       "      <td>30</td>\n",
       "      <td>58842.891308</td>\n",
       "      <td>54.510948</td>\n",
       "      <td>10871.186790</td>\n",
       "      <td>0</td>\n",
       "    </tr>\n",
       "    <tr>\n",
       "      <th>30</th>\n",
       "      <td>31</td>\n",
       "      <td>48528.852796</td>\n",
       "      <td>40.807559</td>\n",
       "      <td>6155.784670</td>\n",
       "      <td>0</td>\n",
       "    </tr>\n",
       "    <tr>\n",
       "      <th>31</th>\n",
       "      <td>32</td>\n",
       "      <td>23526.302555</td>\n",
       "      <td>40.807559</td>\n",
       "      <td>2862.010139</td>\n",
       "      <td>0</td>\n",
       "    </tr>\n",
       "  </tbody>\n",
       "</table>\n",
       "</div>"
      ]
     },
     "metadata": {},
     "execution_count": 17
    }
   ],
   "metadata": {}
  },
  {
   "cell_type": "markdown",
   "source": [
    "## Dividing predictors and class"
   ],
   "metadata": {}
  },
  {
   "cell_type": "code",
   "execution_count": 18,
   "source": [
    "x = credit_risk.iloc[:, 1:4].values\n",
    "x"
   ],
   "outputs": [
    {
     "output_type": "execute_result",
     "data": {
      "text/plain": [
       "array([[6.61559251e+04, 5.90170151e+01, 8.10653213e+03],\n",
       "       [3.44151540e+04, 4.81171531e+01, 6.56474502e+03],\n",
       "       [5.73171701e+04, 6.31080495e+01, 8.02095330e+03],\n",
       "       ...,\n",
       "       [4.43114493e+04, 2.80171669e+01, 5.52278669e+03],\n",
       "       [4.37560566e+04, 6.39717958e+01, 1.62272260e+03],\n",
       "       [6.94365796e+04, 5.61526170e+01, 7.37883360e+03]])"
      ]
     },
     "metadata": {},
     "execution_count": 18
    }
   ],
   "metadata": {}
  },
  {
   "cell_type": "code",
   "execution_count": 19,
   "source": [
    "y = credit_risk.iloc[:, 4].values\n",
    "y"
   ],
   "outputs": [
    {
     "output_type": "execute_result",
     "data": {
      "text/plain": [
       "array([0, 0, 0, ..., 1, 0, 0])"
      ]
     },
     "metadata": {},
     "execution_count": 19
    }
   ],
   "metadata": {}
  },
  {
   "cell_type": "markdown",
   "source": [
    "## Tranforming the values with standard scaler"
   ],
   "metadata": {}
  },
  {
   "cell_type": "code",
   "execution_count": 20,
   "source": [
    "from sklearn.preprocessing import StandardScaler"
   ],
   "outputs": [],
   "metadata": {}
  },
  {
   "cell_type": "code",
   "execution_count": 21,
   "source": [
    "standard_scaler = StandardScaler()\n",
    "\n",
    "x = standard_scaler.fit_transform(x)"
   ],
   "outputs": [],
   "metadata": {}
  },
  {
   "cell_type": "code",
   "execution_count": 22,
   "source": [
    "x"
   ],
   "outputs": [
    {
     "output_type": "execute_result",
     "data": {
      "text/plain": [
       "array([[ 1.45393393,  1.36540709,  1.20281942],\n",
       "       [-0.76217555,  0.54268646,  0.69642695],\n",
       "       [ 0.83682073,  1.67419801,  1.17471147],\n",
       "       ...,\n",
       "       [-0.07122592, -0.97445874,  0.35420081],\n",
       "       [-0.11000289,  1.73939351, -0.92675625],\n",
       "       [ 1.682986  ,  1.14920258,  0.96381038]])"
      ]
     },
     "metadata": {},
     "execution_count": 22
    }
   ],
   "metadata": {}
  },
  {
   "cell_type": "markdown",
   "source": [
    "## Dividing the base between train and test"
   ],
   "metadata": {}
  },
  {
   "cell_type": "code",
   "execution_count": 24,
   "source": [
    "from sklearn.model_selection import train_test_split"
   ],
   "outputs": [],
   "metadata": {}
  },
  {
   "cell_type": "code",
   "execution_count": 25,
   "source": [
    "x_train, x_test, y_train, y_test = train_test_split(x, y, train_size=0.25, random_state = 0)"
   ],
   "outputs": [],
   "metadata": {}
  },
  {
   "cell_type": "code",
   "execution_count": 26,
   "source": [
    "x_train"
   ],
   "outputs": [
    {
     "output_type": "execute_result",
     "data": {
      "text/plain": [
       "array([[ 1.15633445, -1.64149438,  0.52347354],\n",
       "       [ 1.33607095,  1.69627888, -1.28842259],\n",
       "       [-1.33869748, -1.36621678, -0.70568343],\n",
       "       ...,\n",
       "       [ 0.21738243, -0.14701769,  1.40872498],\n",
       "       [ 0.58716195,  0.66438118,  0.67948086],\n",
       "       [ 0.68315357,  0.04087579,  1.91819744]])"
      ]
     },
     "metadata": {},
     "execution_count": 26
    }
   ],
   "metadata": {}
  },
  {
   "cell_type": "code",
   "execution_count": 27,
   "source": [
    "x_test"
   ],
   "outputs": [
    {
     "output_type": "execute_result",
     "data": {
      "text/plain": [
       "array([[ 1.59301567, -1.35433196,  2.58262733],\n",
       "       [ 0.99769755,  0.99809193,  0.84418709],\n",
       "       [-0.42485257,  0.55815249, -1.15785286],\n",
       "       ...,\n",
       "       [ 1.63591661, -1.50477483, -0.54115191],\n",
       "       [-1.63024494, -0.45377193, -0.05885605],\n",
       "       [-0.41442961, -0.34395206,  1.02261511]])"
      ]
     },
     "metadata": {},
     "execution_count": 27
    }
   ],
   "metadata": {}
  },
  {
   "cell_type": "markdown",
   "source": [
    "## Using neural networks to predict if the customer will or not pay the loan"
   ],
   "metadata": {}
  },
  {
   "cell_type": "code",
   "execution_count": 562,
   "source": [
    "from sklearn.neural_network import MLPClassifier"
   ],
   "outputs": [],
   "metadata": {}
  },
  {
   "cell_type": "code",
   "execution_count": 563,
   "source": [
    "x_train"
   ],
   "outputs": [
    {
     "output_type": "execute_result",
     "data": {
      "text/plain": [
       "(500, 3)"
      ]
     },
     "metadata": {},
     "execution_count": 563
    }
   ],
   "metadata": {}
  },
  {
   "cell_type": "code",
   "execution_count": 564,
   "source": [
    "y_train"
   ],
   "outputs": [
    {
     "output_type": "execute_result",
     "data": {
      "text/plain": [
       "(500,)"
      ]
     },
     "metadata": {},
     "execution_count": 564
    }
   ],
   "metadata": {}
  },
  {
   "cell_type": "code",
   "execution_count": 691,
   "source": [
    "neural_network = MLPClassifier(max_iter=1750, verbose=True, solver= 'adam', activation='tanh', hidden_layer_sizes=(25, 25))\n",
    "neural_network.fit(x_train, y_train)"
   ],
   "outputs": [
    {
     "output_type": "stream",
     "name": "stdout",
     "text": [
      "Iteration 1, loss = 0.78949790\n",
      "Iteration 2, loss = 0.72848904\n",
      "Iteration 3, loss = 0.67141889\n",
      "Iteration 4, loss = 0.62019249\n",
      "Iteration 5, loss = 0.57429175\n",
      "Iteration 6, loss = 0.53189831\n",
      "Iteration 7, loss = 0.49514688\n",
      "Iteration 8, loss = 0.46332580\n",
      "Iteration 9, loss = 0.43449419\n",
      "Iteration 10, loss = 0.40954889\n",
      "Iteration 11, loss = 0.38802828\n",
      "Iteration 12, loss = 0.36871407\n",
      "Iteration 13, loss = 0.35184098\n",
      "Iteration 14, loss = 0.33699656\n",
      "Iteration 15, loss = 0.32377039\n",
      "Iteration 16, loss = 0.31167554\n",
      "Iteration 17, loss = 0.30092024\n",
      "Iteration 18, loss = 0.29106664\n",
      "Iteration 19, loss = 0.28201824\n",
      "Iteration 20, loss = 0.27340373\n",
      "Iteration 21, loss = 0.26556924\n",
      "Iteration 22, loss = 0.25830529\n",
      "Iteration 23, loss = 0.25145878\n",
      "Iteration 24, loss = 0.24485821\n",
      "Iteration 25, loss = 0.23894384\n",
      "Iteration 26, loss = 0.23303418\n",
      "Iteration 27, loss = 0.22756761\n",
      "Iteration 28, loss = 0.22235312\n",
      "Iteration 29, loss = 0.21741940\n",
      "Iteration 30, loss = 0.21267263\n",
      "Iteration 31, loss = 0.20817169\n",
      "Iteration 32, loss = 0.20385696\n",
      "Iteration 33, loss = 0.19981430\n",
      "Iteration 34, loss = 0.19601361\n",
      "Iteration 35, loss = 0.19203102\n",
      "Iteration 36, loss = 0.18856211\n",
      "Iteration 37, loss = 0.18513022\n",
      "Iteration 38, loss = 0.18170078\n",
      "Iteration 39, loss = 0.17852017\n",
      "Iteration 40, loss = 0.17557168\n",
      "Iteration 41, loss = 0.17263389\n",
      "Iteration 42, loss = 0.16974359\n",
      "Iteration 43, loss = 0.16708284\n",
      "Iteration 44, loss = 0.16447743\n",
      "Iteration 45, loss = 0.16201696\n",
      "Iteration 46, loss = 0.15966073\n",
      "Iteration 47, loss = 0.15729700\n",
      "Iteration 48, loss = 0.15515510\n",
      "Iteration 49, loss = 0.15299409\n",
      "Iteration 50, loss = 0.15101198\n",
      "Iteration 51, loss = 0.14910975\n",
      "Iteration 52, loss = 0.14718149\n",
      "Iteration 53, loss = 0.14536598\n",
      "Iteration 54, loss = 0.14361307\n",
      "Iteration 55, loss = 0.14189928\n",
      "Iteration 56, loss = 0.14022147\n",
      "Iteration 57, loss = 0.13868809\n",
      "Iteration 58, loss = 0.13710497\n",
      "Iteration 59, loss = 0.13572605\n",
      "Iteration 60, loss = 0.13432476\n",
      "Iteration 61, loss = 0.13315036\n",
      "Iteration 62, loss = 0.13169752\n",
      "Iteration 63, loss = 0.13047485\n",
      "Iteration 64, loss = 0.12924167\n",
      "Iteration 65, loss = 0.12805050\n",
      "Iteration 66, loss = 0.12705591\n",
      "Iteration 67, loss = 0.12602497\n",
      "Iteration 68, loss = 0.12481844\n",
      "Iteration 69, loss = 0.12384389\n",
      "Iteration 70, loss = 0.12286030\n",
      "Iteration 71, loss = 0.12187304\n",
      "Iteration 72, loss = 0.12110830\n",
      "Iteration 73, loss = 0.12019615\n",
      "Iteration 74, loss = 0.11930151\n",
      "Iteration 75, loss = 0.11852305\n",
      "Iteration 76, loss = 0.11771596\n",
      "Iteration 77, loss = 0.11680963\n",
      "Iteration 78, loss = 0.11619129\n",
      "Iteration 79, loss = 0.11542754\n",
      "Iteration 80, loss = 0.11474537\n",
      "Iteration 81, loss = 0.11401327\n",
      "Iteration 82, loss = 0.11335023\n",
      "Iteration 83, loss = 0.11266876\n",
      "Iteration 84, loss = 0.11203735\n",
      "Iteration 85, loss = 0.11141141\n",
      "Iteration 86, loss = 0.11078604\n",
      "Iteration 87, loss = 0.11022774\n",
      "Iteration 88, loss = 0.10963920\n",
      "Iteration 89, loss = 0.10912665\n",
      "Iteration 90, loss = 0.10864019\n",
      "Iteration 91, loss = 0.10810932\n",
      "Iteration 92, loss = 0.10768865\n",
      "Iteration 93, loss = 0.10718691\n",
      "Iteration 94, loss = 0.10680778\n",
      "Iteration 95, loss = 0.10621066\n",
      "Iteration 96, loss = 0.10567365\n",
      "Iteration 97, loss = 0.10523831\n",
      "Iteration 98, loss = 0.10477396\n",
      "Iteration 99, loss = 0.10447496\n",
      "Iteration 100, loss = 0.10405473\n",
      "Iteration 101, loss = 0.10376075\n",
      "Iteration 102, loss = 0.10335926\n",
      "Iteration 103, loss = 0.10294668\n",
      "Iteration 104, loss = 0.10257619\n",
      "Iteration 105, loss = 0.10226426\n",
      "Iteration 106, loss = 0.10181370\n",
      "Iteration 107, loss = 0.10150273\n",
      "Iteration 108, loss = 0.10123717\n",
      "Iteration 109, loss = 0.10072094\n",
      "Iteration 110, loss = 0.10043226\n",
      "Iteration 111, loss = 0.10006875\n",
      "Iteration 112, loss = 0.09974657\n",
      "Iteration 113, loss = 0.09950148\n",
      "Iteration 114, loss = 0.09913217\n",
      "Iteration 115, loss = 0.09879912\n",
      "Iteration 116, loss = 0.09850711\n",
      "Iteration 117, loss = 0.09816895\n",
      "Iteration 118, loss = 0.09803840\n",
      "Iteration 119, loss = 0.09767989\n",
      "Iteration 120, loss = 0.09736317\n",
      "Iteration 121, loss = 0.09712503\n",
      "Iteration 122, loss = 0.09677711\n",
      "Iteration 123, loss = 0.09647211\n",
      "Iteration 124, loss = 0.09629290\n",
      "Iteration 125, loss = 0.09603718\n",
      "Iteration 126, loss = 0.09578231\n",
      "Iteration 127, loss = 0.09546621\n",
      "Iteration 128, loss = 0.09514926\n",
      "Iteration 129, loss = 0.09518310\n",
      "Iteration 130, loss = 0.09483266\n",
      "Iteration 131, loss = 0.09455155\n",
      "Iteration 132, loss = 0.09426298\n",
      "Iteration 133, loss = 0.09401094\n",
      "Iteration 134, loss = 0.09380645\n",
      "Iteration 135, loss = 0.09350464\n",
      "Iteration 136, loss = 0.09341748\n",
      "Iteration 137, loss = 0.09313884\n",
      "Iteration 138, loss = 0.09291899\n",
      "Iteration 139, loss = 0.09268933\n",
      "Iteration 140, loss = 0.09241944\n",
      "Iteration 141, loss = 0.09216910\n",
      "Iteration 142, loss = 0.09194649\n",
      "Iteration 143, loss = 0.09177630\n",
      "Iteration 144, loss = 0.09160475\n",
      "Iteration 145, loss = 0.09139504\n",
      "Iteration 146, loss = 0.09121611\n",
      "Iteration 147, loss = 0.09112485\n",
      "Iteration 148, loss = 0.09097287\n",
      "Iteration 149, loss = 0.09075042\n",
      "Iteration 150, loss = 0.09055603\n",
      "Iteration 151, loss = 0.09037325\n",
      "Iteration 152, loss = 0.09022976\n",
      "Iteration 153, loss = 0.08996420\n",
      "Iteration 154, loss = 0.08981251\n",
      "Iteration 155, loss = 0.08958481\n",
      "Iteration 156, loss = 0.08938837\n",
      "Iteration 157, loss = 0.08909573\n",
      "Iteration 158, loss = 0.08890213\n",
      "Iteration 159, loss = 0.08872308\n",
      "Iteration 160, loss = 0.08849469\n",
      "Iteration 161, loss = 0.08838718\n",
      "Iteration 162, loss = 0.08824719\n",
      "Iteration 163, loss = 0.08801926\n",
      "Iteration 164, loss = 0.08788435\n",
      "Iteration 165, loss = 0.08763657\n",
      "Iteration 166, loss = 0.08736500\n",
      "Iteration 167, loss = 0.08743611\n",
      "Iteration 168, loss = 0.08725233\n",
      "Iteration 169, loss = 0.08712570\n",
      "Iteration 170, loss = 0.08692902\n",
      "Iteration 171, loss = 0.08673879\n",
      "Iteration 172, loss = 0.08656068\n",
      "Iteration 173, loss = 0.08636668\n",
      "Iteration 174, loss = 0.08618628\n",
      "Iteration 175, loss = 0.08623150\n",
      "Iteration 176, loss = 0.08601783\n",
      "Iteration 177, loss = 0.08570643\n",
      "Iteration 178, loss = 0.08555597\n",
      "Iteration 179, loss = 0.08538160\n",
      "Iteration 180, loss = 0.08524605\n",
      "Iteration 181, loss = 0.08508524\n",
      "Iteration 182, loss = 0.08491335\n",
      "Iteration 183, loss = 0.08478184\n",
      "Iteration 184, loss = 0.08466118\n",
      "Iteration 185, loss = 0.08452883\n",
      "Iteration 186, loss = 0.08438871\n",
      "Iteration 187, loss = 0.08427153\n",
      "Iteration 188, loss = 0.08408624\n",
      "Iteration 189, loss = 0.08395789\n",
      "Iteration 190, loss = 0.08373521\n",
      "Iteration 191, loss = 0.08359074\n",
      "Iteration 192, loss = 0.08345320\n",
      "Iteration 193, loss = 0.08341200\n",
      "Iteration 194, loss = 0.08319251\n",
      "Iteration 195, loss = 0.08301057\n",
      "Iteration 196, loss = 0.08287692\n",
      "Iteration 197, loss = 0.08272841\n",
      "Iteration 198, loss = 0.08251168\n",
      "Iteration 199, loss = 0.08259077\n",
      "Iteration 200, loss = 0.08229039\n",
      "Iteration 201, loss = 0.08205889\n",
      "Iteration 202, loss = 0.08212520\n",
      "Iteration 203, loss = 0.08188924\n",
      "Iteration 204, loss = 0.08175918\n",
      "Iteration 205, loss = 0.08160965\n",
      "Iteration 206, loss = 0.08143316\n",
      "Iteration 207, loss = 0.08123281\n",
      "Iteration 208, loss = 0.08108187\n",
      "Iteration 209, loss = 0.08103288\n",
      "Iteration 210, loss = 0.08074830\n",
      "Iteration 211, loss = 0.08063828\n",
      "Iteration 212, loss = 0.08049248\n",
      "Iteration 213, loss = 0.08038675\n",
      "Iteration 214, loss = 0.08021586\n",
      "Iteration 215, loss = 0.08005464\n",
      "Iteration 216, loss = 0.07986285\n",
      "Iteration 217, loss = 0.07968872\n",
      "Iteration 218, loss = 0.07962984\n",
      "Iteration 219, loss = 0.07951012\n",
      "Iteration 220, loss = 0.07928699\n",
      "Iteration 221, loss = 0.07919566\n",
      "Iteration 222, loss = 0.07900838\n",
      "Iteration 223, loss = 0.07889891\n",
      "Iteration 224, loss = 0.07876821\n",
      "Iteration 225, loss = 0.07867439\n",
      "Iteration 226, loss = 0.07843600\n",
      "Iteration 227, loss = 0.07814063\n",
      "Iteration 228, loss = 0.07805070\n",
      "Iteration 229, loss = 0.07802270\n",
      "Iteration 230, loss = 0.07790973\n",
      "Iteration 231, loss = 0.07784889\n",
      "Iteration 232, loss = 0.07767119\n",
      "Iteration 233, loss = 0.07745804\n",
      "Iteration 234, loss = 0.07724486\n",
      "Iteration 235, loss = 0.07703774\n",
      "Iteration 236, loss = 0.07703120\n",
      "Iteration 237, loss = 0.07675056\n",
      "Iteration 238, loss = 0.07671787\n",
      "Iteration 239, loss = 0.07645185\n",
      "Iteration 240, loss = 0.07643787\n",
      "Iteration 241, loss = 0.07614883\n",
      "Iteration 242, loss = 0.07602171\n",
      "Iteration 243, loss = 0.07589456\n",
      "Iteration 244, loss = 0.07569756\n",
      "Iteration 245, loss = 0.07555655\n",
      "Iteration 246, loss = 0.07538600\n",
      "Iteration 247, loss = 0.07527659\n",
      "Iteration 248, loss = 0.07515732\n",
      "Iteration 249, loss = 0.07489051\n",
      "Iteration 250, loss = 0.07476587\n",
      "Iteration 251, loss = 0.07471773\n",
      "Iteration 252, loss = 0.07460159\n",
      "Iteration 253, loss = 0.07449387\n",
      "Iteration 254, loss = 0.07430943\n",
      "Iteration 255, loss = 0.07400645\n",
      "Iteration 256, loss = 0.07399487\n",
      "Iteration 257, loss = 0.07367652\n",
      "Iteration 258, loss = 0.07352998\n",
      "Iteration 259, loss = 0.07339833\n",
      "Iteration 260, loss = 0.07335495\n",
      "Iteration 261, loss = 0.07319270\n",
      "Iteration 262, loss = 0.07311732\n",
      "Iteration 263, loss = 0.07301010\n",
      "Iteration 264, loss = 0.07274273\n",
      "Iteration 265, loss = 0.07246711\n",
      "Iteration 266, loss = 0.07230841\n",
      "Iteration 267, loss = 0.07232375\n",
      "Iteration 268, loss = 0.07198729\n",
      "Iteration 269, loss = 0.07183953\n",
      "Iteration 270, loss = 0.07182870\n",
      "Iteration 271, loss = 0.07155686\n",
      "Iteration 272, loss = 0.07155064\n",
      "Iteration 273, loss = 0.07148061\n",
      "Iteration 274, loss = 0.07127677\n",
      "Iteration 275, loss = 0.07107519\n",
      "Iteration 276, loss = 0.07087606\n",
      "Iteration 277, loss = 0.07072764\n",
      "Iteration 278, loss = 0.07052031\n",
      "Iteration 279, loss = 0.07035610\n",
      "Iteration 280, loss = 0.07020911\n",
      "Iteration 281, loss = 0.07000007\n",
      "Iteration 282, loss = 0.06984088\n",
      "Iteration 283, loss = 0.06971802\n",
      "Iteration 284, loss = 0.06954224\n",
      "Iteration 285, loss = 0.06951875\n",
      "Iteration 286, loss = 0.06957256\n",
      "Iteration 287, loss = 0.06925230\n",
      "Iteration 288, loss = 0.06897999\n",
      "Iteration 289, loss = 0.06888010\n",
      "Iteration 290, loss = 0.06870847\n",
      "Iteration 291, loss = 0.06844401\n",
      "Iteration 292, loss = 0.06831417\n",
      "Iteration 293, loss = 0.06809561\n",
      "Iteration 294, loss = 0.06806547\n",
      "Iteration 295, loss = 0.06784419\n",
      "Iteration 296, loss = 0.06764397\n",
      "Iteration 297, loss = 0.06739881\n",
      "Iteration 298, loss = 0.06722479\n",
      "Iteration 299, loss = 0.06713155\n",
      "Iteration 300, loss = 0.06706674\n",
      "Iteration 301, loss = 0.06700472\n",
      "Iteration 302, loss = 0.06681357\n",
      "Iteration 303, loss = 0.06656062\n",
      "Iteration 304, loss = 0.06629679\n",
      "Iteration 305, loss = 0.06621170\n",
      "Iteration 306, loss = 0.06593394\n",
      "Iteration 307, loss = 0.06575195\n",
      "Iteration 308, loss = 0.06566063\n",
      "Iteration 309, loss = 0.06553624\n",
      "Iteration 310, loss = 0.06538138\n",
      "Iteration 311, loss = 0.06538584\n",
      "Iteration 312, loss = 0.06498751\n",
      "Iteration 313, loss = 0.06479489\n",
      "Iteration 314, loss = 0.06452342\n",
      "Iteration 315, loss = 0.06434385\n",
      "Iteration 316, loss = 0.06422676\n",
      "Iteration 317, loss = 0.06419306\n",
      "Iteration 318, loss = 0.06402849\n",
      "Iteration 319, loss = 0.06366348\n",
      "Iteration 320, loss = 0.06355334\n",
      "Iteration 321, loss = 0.06326182\n",
      "Iteration 322, loss = 0.06331548\n",
      "Iteration 323, loss = 0.06301779\n",
      "Iteration 324, loss = 0.06279923\n",
      "Iteration 325, loss = 0.06276224\n",
      "Iteration 326, loss = 0.06238081\n",
      "Iteration 327, loss = 0.06229924\n",
      "Iteration 328, loss = 0.06211560\n",
      "Iteration 329, loss = 0.06188210\n",
      "Iteration 330, loss = 0.06179583\n",
      "Iteration 331, loss = 0.06164063\n",
      "Iteration 332, loss = 0.06137578\n",
      "Iteration 333, loss = 0.06124896\n",
      "Iteration 334, loss = 0.06111903\n",
      "Iteration 335, loss = 0.06101049\n",
      "Iteration 336, loss = 0.06075540\n",
      "Iteration 337, loss = 0.06052537\n",
      "Iteration 338, loss = 0.06037846\n",
      "Iteration 339, loss = 0.06024145\n",
      "Iteration 340, loss = 0.05999181\n",
      "Iteration 341, loss = 0.05980235\n",
      "Iteration 342, loss = 0.05967191\n",
      "Iteration 343, loss = 0.05942320\n",
      "Iteration 344, loss = 0.05931721\n",
      "Iteration 345, loss = 0.05916916\n",
      "Iteration 346, loss = 0.05896177\n",
      "Iteration 347, loss = 0.05882057\n",
      "Iteration 348, loss = 0.05857731\n",
      "Iteration 349, loss = 0.05836510\n",
      "Iteration 350, loss = 0.05838298\n",
      "Iteration 351, loss = 0.05796062\n",
      "Iteration 352, loss = 0.05780897\n",
      "Iteration 353, loss = 0.05761914\n",
      "Iteration 354, loss = 0.05747548\n",
      "Iteration 355, loss = 0.05729322\n",
      "Iteration 356, loss = 0.05719290\n",
      "Iteration 357, loss = 0.05715471\n",
      "Iteration 358, loss = 0.05707547\n",
      "Iteration 359, loss = 0.05695727\n",
      "Iteration 360, loss = 0.05649294\n",
      "Iteration 361, loss = 0.05629699\n",
      "Iteration 362, loss = 0.05600342\n",
      "Iteration 363, loss = 0.05587103\n",
      "Iteration 364, loss = 0.05565218\n",
      "Iteration 365, loss = 0.05538075\n",
      "Iteration 366, loss = 0.05524984\n",
      "Iteration 367, loss = 0.05516355\n",
      "Iteration 368, loss = 0.05495413\n",
      "Iteration 369, loss = 0.05467465\n",
      "Iteration 370, loss = 0.05457641\n",
      "Iteration 371, loss = 0.05435548\n",
      "Iteration 372, loss = 0.05422924\n",
      "Iteration 373, loss = 0.05400274\n",
      "Iteration 374, loss = 0.05377740\n",
      "Iteration 375, loss = 0.05364280\n",
      "Iteration 376, loss = 0.05353427\n",
      "Iteration 377, loss = 0.05333774\n",
      "Iteration 378, loss = 0.05325325\n",
      "Iteration 379, loss = 0.05285942\n",
      "Iteration 380, loss = 0.05264922\n",
      "Iteration 381, loss = 0.05256254\n",
      "Iteration 382, loss = 0.05246087\n",
      "Iteration 383, loss = 0.05230561\n",
      "Iteration 384, loss = 0.05206589\n",
      "Iteration 385, loss = 0.05178597\n",
      "Iteration 386, loss = 0.05159530\n",
      "Iteration 387, loss = 0.05148568\n",
      "Iteration 388, loss = 0.05125243\n",
      "Iteration 389, loss = 0.05130033\n",
      "Iteration 390, loss = 0.05090161\n",
      "Iteration 391, loss = 0.05070569\n",
      "Iteration 392, loss = 0.05058614\n",
      "Iteration 393, loss = 0.05029982\n",
      "Iteration 394, loss = 0.05014136\n",
      "Iteration 395, loss = 0.04990666\n",
      "Iteration 396, loss = 0.04976833\n",
      "Iteration 397, loss = 0.04956128\n",
      "Iteration 398, loss = 0.04937671\n",
      "Iteration 399, loss = 0.04918034\n",
      "Iteration 400, loss = 0.04909211\n",
      "Iteration 401, loss = 0.04895659\n",
      "Iteration 402, loss = 0.04886918\n",
      "Iteration 403, loss = 0.04869544\n",
      "Iteration 404, loss = 0.04844022\n",
      "Iteration 405, loss = 0.04822196\n",
      "Iteration 406, loss = 0.04807563\n",
      "Iteration 407, loss = 0.04786241\n",
      "Iteration 408, loss = 0.04761130\n",
      "Iteration 409, loss = 0.04749381\n",
      "Iteration 410, loss = 0.04726333\n",
      "Iteration 411, loss = 0.04717260\n",
      "Iteration 412, loss = 0.04688524\n",
      "Iteration 413, loss = 0.04688621\n",
      "Iteration 414, loss = 0.04665363\n",
      "Iteration 415, loss = 0.04665412\n",
      "Iteration 416, loss = 0.04625282\n",
      "Iteration 417, loss = 0.04613921\n",
      "Iteration 418, loss = 0.04592428\n",
      "Iteration 419, loss = 0.04573837\n",
      "Iteration 420, loss = 0.04552471\n",
      "Iteration 421, loss = 0.04529601\n",
      "Iteration 422, loss = 0.04515479\n",
      "Iteration 423, loss = 0.04496161\n",
      "Iteration 424, loss = 0.04486614\n",
      "Iteration 425, loss = 0.04466256\n",
      "Iteration 426, loss = 0.04448257\n",
      "Iteration 427, loss = 0.04429444\n",
      "Iteration 428, loss = 0.04414628\n",
      "Iteration 429, loss = 0.04394825\n",
      "Iteration 430, loss = 0.04389100\n",
      "Iteration 431, loss = 0.04370239\n",
      "Iteration 432, loss = 0.04354612\n",
      "Iteration 433, loss = 0.04331281\n",
      "Iteration 434, loss = 0.04324270\n",
      "Iteration 435, loss = 0.04294745\n",
      "Iteration 436, loss = 0.04288495\n",
      "Iteration 437, loss = 0.04269572\n",
      "Iteration 438, loss = 0.04267707\n",
      "Iteration 439, loss = 0.04235726\n",
      "Iteration 440, loss = 0.04215760\n",
      "Iteration 441, loss = 0.04202181\n",
      "Iteration 442, loss = 0.04181609\n",
      "Iteration 443, loss = 0.04163054\n",
      "Iteration 444, loss = 0.04142613\n",
      "Iteration 445, loss = 0.04128969\n",
      "Iteration 446, loss = 0.04114105\n",
      "Iteration 447, loss = 0.04108512\n",
      "Iteration 448, loss = 0.04090368\n",
      "Iteration 449, loss = 0.04072954\n",
      "Iteration 450, loss = 0.04054000\n",
      "Iteration 451, loss = 0.04033401\n",
      "Iteration 452, loss = 0.04030668\n",
      "Iteration 453, loss = 0.04012320\n",
      "Iteration 454, loss = 0.03993223\n",
      "Iteration 455, loss = 0.03990203\n",
      "Iteration 456, loss = 0.03965391\n",
      "Iteration 457, loss = 0.03941817\n",
      "Iteration 458, loss = 0.03928508\n",
      "Iteration 459, loss = 0.03921585\n",
      "Iteration 460, loss = 0.03899551\n",
      "Iteration 461, loss = 0.03890049\n",
      "Iteration 462, loss = 0.03869463\n",
      "Iteration 463, loss = 0.03858378\n",
      "Iteration 464, loss = 0.03854775\n",
      "Iteration 465, loss = 0.03847569\n",
      "Iteration 466, loss = 0.03826445\n",
      "Iteration 467, loss = 0.03818099\n",
      "Iteration 468, loss = 0.03799118\n",
      "Iteration 469, loss = 0.03785985\n",
      "Iteration 470, loss = 0.03766642\n",
      "Iteration 471, loss = 0.03746513\n",
      "Iteration 472, loss = 0.03726591\n",
      "Iteration 473, loss = 0.03717348\n",
      "Iteration 474, loss = 0.03694430\n",
      "Iteration 475, loss = 0.03693450\n",
      "Iteration 476, loss = 0.03677023\n",
      "Iteration 477, loss = 0.03661555\n",
      "Iteration 478, loss = 0.03651674\n",
      "Iteration 479, loss = 0.03630125\n",
      "Iteration 480, loss = 0.03625888\n",
      "Iteration 481, loss = 0.03621186\n",
      "Iteration 482, loss = 0.03607883\n",
      "Iteration 483, loss = 0.03586060\n",
      "Iteration 484, loss = 0.03562582\n",
      "Iteration 485, loss = 0.03553648\n",
      "Iteration 486, loss = 0.03536548\n",
      "Iteration 487, loss = 0.03525572\n",
      "Iteration 488, loss = 0.03510233\n",
      "Iteration 489, loss = 0.03498144\n",
      "Iteration 490, loss = 0.03485778\n",
      "Iteration 491, loss = 0.03494671\n",
      "Iteration 492, loss = 0.03457623\n",
      "Iteration 493, loss = 0.03450408\n",
      "Iteration 494, loss = 0.03438430\n",
      "Iteration 495, loss = 0.03432280\n",
      "Iteration 496, loss = 0.03419837\n",
      "Iteration 497, loss = 0.03420080\n",
      "Iteration 498, loss = 0.03401194\n",
      "Iteration 499, loss = 0.03381164\n",
      "Iteration 500, loss = 0.03364881\n",
      "Iteration 501, loss = 0.03351945\n",
      "Iteration 502, loss = 0.03338135\n",
      "Iteration 503, loss = 0.03328698\n",
      "Iteration 504, loss = 0.03314284\n",
      "Iteration 505, loss = 0.03304282\n",
      "Iteration 506, loss = 0.03291063\n",
      "Iteration 507, loss = 0.03276466\n",
      "Iteration 508, loss = 0.03266787\n",
      "Iteration 509, loss = 0.03254738\n",
      "Iteration 510, loss = 0.03253816\n",
      "Iteration 511, loss = 0.03235746\n",
      "Iteration 512, loss = 0.03223792\n",
      "Iteration 513, loss = 0.03209868\n",
      "Iteration 514, loss = 0.03196579\n",
      "Iteration 515, loss = 0.03190843\n",
      "Iteration 516, loss = 0.03176853\n",
      "Iteration 517, loss = 0.03168403\n",
      "Iteration 518, loss = 0.03156877\n",
      "Iteration 519, loss = 0.03145168\n",
      "Iteration 520, loss = 0.03135974\n",
      "Iteration 521, loss = 0.03121708\n",
      "Iteration 522, loss = 0.03116834\n",
      "Iteration 523, loss = 0.03101124\n",
      "Iteration 524, loss = 0.03088625\n",
      "Iteration 525, loss = 0.03080759\n",
      "Iteration 526, loss = 0.03070569\n",
      "Iteration 527, loss = 0.03062040\n",
      "Iteration 528, loss = 0.03046027\n",
      "Iteration 529, loss = 0.03041181\n",
      "Iteration 530, loss = 0.03024162\n",
      "Iteration 531, loss = 0.03051780\n",
      "Iteration 532, loss = 0.03009384\n",
      "Iteration 533, loss = 0.02990072\n",
      "Iteration 534, loss = 0.02992263\n",
      "Iteration 535, loss = 0.02974808\n",
      "Iteration 536, loss = 0.02964315\n",
      "Iteration 537, loss = 0.02956172\n",
      "Iteration 538, loss = 0.02939947\n",
      "Iteration 539, loss = 0.02939844\n",
      "Iteration 540, loss = 0.02917773\n",
      "Iteration 541, loss = 0.02911392\n",
      "Iteration 542, loss = 0.02904820\n",
      "Iteration 543, loss = 0.02893082\n",
      "Iteration 544, loss = 0.02884679\n",
      "Iteration 545, loss = 0.02876215\n",
      "Iteration 546, loss = 0.02862192\n",
      "Iteration 547, loss = 0.02854862\n",
      "Iteration 548, loss = 0.02842798\n",
      "Iteration 549, loss = 0.02840060\n",
      "Iteration 550, loss = 0.02832467\n",
      "Iteration 551, loss = 0.02827191\n",
      "Iteration 552, loss = 0.02823776\n",
      "Iteration 553, loss = 0.02804903\n",
      "Iteration 554, loss = 0.02796540\n",
      "Iteration 555, loss = 0.02784883\n",
      "Iteration 556, loss = 0.02771528\n",
      "Iteration 557, loss = 0.02764611\n",
      "Iteration 558, loss = 0.02753425\n",
      "Iteration 559, loss = 0.02748149\n",
      "Iteration 560, loss = 0.02741765\n",
      "Iteration 561, loss = 0.02738200\n",
      "Iteration 562, loss = 0.02736773\n",
      "Iteration 563, loss = 0.02726780\n",
      "Iteration 564, loss = 0.02717432\n",
      "Iteration 565, loss = 0.02723130\n",
      "Iteration 566, loss = 0.02710587\n",
      "Iteration 567, loss = 0.02687213\n",
      "Iteration 568, loss = 0.02678105\n",
      "Iteration 569, loss = 0.02663434\n",
      "Iteration 570, loss = 0.02657065\n",
      "Iteration 571, loss = 0.02646421\n",
      "Iteration 572, loss = 0.02646607\n",
      "Iteration 573, loss = 0.02640793\n",
      "Iteration 574, loss = 0.02643087\n",
      "Iteration 575, loss = 0.02633381\n",
      "Iteration 576, loss = 0.02617482\n",
      "Iteration 577, loss = 0.02599647\n",
      "Iteration 578, loss = 0.02603235\n",
      "Iteration 579, loss = 0.02582846\n",
      "Iteration 580, loss = 0.02578845\n",
      "Iteration 581, loss = 0.02569916\n",
      "Iteration 582, loss = 0.02561579\n",
      "Iteration 583, loss = 0.02557109\n",
      "Iteration 584, loss = 0.02550393\n",
      "Iteration 585, loss = 0.02537431\n",
      "Iteration 586, loss = 0.02530569\n",
      "Iteration 587, loss = 0.02527756\n",
      "Iteration 588, loss = 0.02518284\n",
      "Iteration 589, loss = 0.02515085\n",
      "Iteration 590, loss = 0.02503778\n",
      "Iteration 591, loss = 0.02496321\n",
      "Iteration 592, loss = 0.02487411\n",
      "Iteration 593, loss = 0.02490192\n",
      "Iteration 594, loss = 0.02477475\n",
      "Iteration 595, loss = 0.02462901\n",
      "Iteration 596, loss = 0.02463599\n",
      "Iteration 597, loss = 0.02458994\n",
      "Iteration 598, loss = 0.02458283\n",
      "Iteration 599, loss = 0.02442439\n",
      "Iteration 600, loss = 0.02437270\n",
      "Iteration 601, loss = 0.02429734\n",
      "Iteration 602, loss = 0.02419983\n",
      "Iteration 603, loss = 0.02420169\n",
      "Iteration 604, loss = 0.02417613\n",
      "Iteration 605, loss = 0.02407053\n",
      "Iteration 606, loss = 0.02396165\n",
      "Iteration 607, loss = 0.02389174\n",
      "Iteration 608, loss = 0.02381324\n",
      "Iteration 609, loss = 0.02369138\n",
      "Iteration 610, loss = 0.02367081\n",
      "Iteration 611, loss = 0.02370413\n",
      "Iteration 612, loss = 0.02373737\n",
      "Iteration 613, loss = 0.02362673\n",
      "Iteration 614, loss = 0.02350228\n",
      "Iteration 615, loss = 0.02339810\n",
      "Iteration 616, loss = 0.02329502\n",
      "Iteration 617, loss = 0.02326937\n",
      "Iteration 618, loss = 0.02323835\n",
      "Iteration 619, loss = 0.02316181\n",
      "Iteration 620, loss = 0.02311052\n",
      "Iteration 621, loss = 0.02300858\n",
      "Iteration 622, loss = 0.02294793\n",
      "Iteration 623, loss = 0.02284185\n",
      "Iteration 624, loss = 0.02280188\n",
      "Iteration 625, loss = 0.02274505\n",
      "Iteration 626, loss = 0.02267743\n",
      "Iteration 627, loss = 0.02262898\n",
      "Iteration 628, loss = 0.02255566\n",
      "Iteration 629, loss = 0.02248094\n",
      "Iteration 630, loss = 0.02251301\n",
      "Iteration 631, loss = 0.02241227\n",
      "Iteration 632, loss = 0.02245924\n",
      "Iteration 633, loss = 0.02235517\n",
      "Iteration 634, loss = 0.02225178\n",
      "Iteration 635, loss = 0.02219361\n",
      "Iteration 636, loss = 0.02209943\n",
      "Iteration 637, loss = 0.02209227\n",
      "Iteration 638, loss = 0.02196606\n",
      "Iteration 639, loss = 0.02185880\n",
      "Iteration 640, loss = 0.02183152\n",
      "Iteration 641, loss = 0.02178126\n",
      "Iteration 642, loss = 0.02173157\n",
      "Iteration 643, loss = 0.02166950\n",
      "Iteration 644, loss = 0.02161541\n",
      "Iteration 645, loss = 0.02154940\n",
      "Iteration 646, loss = 0.02144394\n",
      "Iteration 647, loss = 0.02141920\n",
      "Iteration 648, loss = 0.02141598\n",
      "Iteration 649, loss = 0.02137994\n",
      "Iteration 650, loss = 0.02129942\n",
      "Iteration 651, loss = 0.02118817\n",
      "Iteration 652, loss = 0.02114537\n",
      "Iteration 653, loss = 0.02109111\n",
      "Iteration 654, loss = 0.02105534\n",
      "Iteration 655, loss = 0.02097682\n",
      "Iteration 656, loss = 0.02094951\n",
      "Iteration 657, loss = 0.02098353\n",
      "Iteration 658, loss = 0.02075850\n",
      "Iteration 659, loss = 0.02074752\n",
      "Iteration 660, loss = 0.02081104\n",
      "Iteration 661, loss = 0.02072360\n",
      "Iteration 662, loss = 0.02066826\n",
      "Iteration 663, loss = 0.02057864\n",
      "Iteration 664, loss = 0.02048557\n",
      "Iteration 665, loss = 0.02041147\n",
      "Iteration 666, loss = 0.02033023\n",
      "Iteration 667, loss = 0.02049570\n",
      "Iteration 668, loss = 0.02038492\n",
      "Iteration 669, loss = 0.02040143\n",
      "Training loss did not improve more than tol=0.000100 for 10 consecutive epochs. Stopping.\n"
     ]
    },
    {
     "output_type": "execute_result",
     "data": {
      "text/plain": [
       "MLPClassifier(activation='tanh', hidden_layer_sizes=(25, 25), max_iter=1750,\n",
       "              verbose=True)"
      ]
     },
     "metadata": {},
     "execution_count": 691
    }
   ],
   "metadata": {}
  },
  {
   "cell_type": "code",
   "execution_count": 692,
   "source": [
    "predictions = neural_network.predict(x_test)"
   ],
   "outputs": [],
   "metadata": {}
  },
  {
   "cell_type": "code",
   "execution_count": 693,
   "source": [
    "predictions"
   ],
   "outputs": [
    {
     "output_type": "execute_result",
     "data": {
      "text/plain": [
       "array([1, 0, 0, ..., 0, 1, 0])"
      ]
     },
     "metadata": {},
     "execution_count": 693
    }
   ],
   "metadata": {}
  },
  {
   "cell_type": "code",
   "execution_count": 694,
   "source": [
    "from sklearn.metrics import accuracy_score"
   ],
   "outputs": [],
   "metadata": {}
  },
  {
   "cell_type": "code",
   "execution_count": 837,
   "source": [
    "float(\"{:.2f}\".format(accuracy_score(y_test, predictions) * 100))"
   ],
   "outputs": [
    {
     "output_type": "execute_result",
     "data": {
      "text/plain": [
       "99.67"
      ]
     },
     "metadata": {},
     "execution_count": 837
    }
   ],
   "metadata": {}
  },
  {
   "cell_type": "code",
   "execution_count": 876,
   "source": [
    "fig, ax = plt.subplots(1,2, figsize=(9,5));\n",
    "sns.countplot(x = y_test, ax=ax[0]).set_title('Real results');\n",
    "sns.countplot(x = predictions, ax=ax[1]).set_title('Algorithm predictions');\n",
    "plt.ylabel(' ')\n",
    "fig.show();"
   ],
   "outputs": [
    {
     "output_type": "stream",
     "name": "stderr",
     "text": [
      "/home/andre/miniconda3/envs/myenv/lib/python3.7/site-packages/ipykernel_launcher.py:5: UserWarning: Matplotlib is currently using module://matplotlib_inline.backend_inline, which is a non-GUI backend, so cannot show the figure.\n",
      "  \"\"\"\n"
     ]
    },
    {
     "output_type": "display_data",
     "data": {
      "text/plain": [
       "<Figure size 648x360 with 2 Axes>"
      ],
      "image/svg+xml": "<?xml version=\"1.0\" encoding=\"utf-8\" standalone=\"no\"?>\n<!DOCTYPE svg PUBLIC \"-//W3C//DTD SVG 1.1//EN\"\n  \"http://www.w3.org/Graphics/SVG/1.1/DTD/svg11.dtd\">\n<svg height=\"317.218125pt\" version=\"1.1\" viewBox=\"0 0 560.097812 317.218125\" width=\"560.097812pt\" xmlns=\"http://www.w3.org/2000/svg\" xmlns:xlink=\"http://www.w3.org/1999/xlink\">\n <metadata>\n  <rdf:RDF xmlns:cc=\"http://creativecommons.org/ns#\" xmlns:dc=\"http://purl.org/dc/elements/1.1/\" xmlns:rdf=\"http://www.w3.org/1999/02/22-rdf-syntax-ns#\">\n   <cc:Work>\n    <dc:type rdf:resource=\"http://purl.org/dc/dcmitype/StillImage\"/>\n    <dc:date>2021-10-11T19:54:43.624342</dc:date>\n    <dc:format>image/svg+xml</dc:format>\n    <dc:creator>\n     <cc:Agent>\n      <dc:title>Matplotlib v3.4.3, https://matplotlib.org/</dc:title>\n     </cc:Agent>\n    </dc:creator>\n   </cc:Work>\n  </rdf:RDF>\n </metadata>\n <defs>\n  <style type=\"text/css\">*{stroke-linecap:butt;stroke-linejoin:round;}</style>\n </defs>\n <g id=\"figure_1\">\n  <g id=\"patch_1\">\n   <path d=\"M 0 317.218125 \nL 560.097812 317.218125 \nL 560.097812 0 \nL 0 0 \nz\n\" style=\"fill:#ffffff;\"/>\n  </g>\n  <g id=\"axes_1\">\n   <g id=\"patch_2\">\n    <path d=\"M 50.697813 293.69625 \nL 278.97054 293.69625 \nL 278.97054 21.89625 \nL 50.697813 21.89625 \nz\n\" style=\"fill:#ffffff;\"/>\n   </g>\n   <g id=\"matplotlib.axis_1\">\n    <g id=\"xtick_1\">\n     <g id=\"line2d_1\"/>\n     <g id=\"text_1\">\n      <!-- 0 -->\n      <g style=\"fill:#262626;\" transform=\"translate(104.985526 307.943125)scale(0.1 -0.1)\">\n       <defs>\n        <path d=\"M 3309 2203 \nQ 3309 1100 2920 518 \nQ 2531 -63 1772 -63 \nQ 1013 -63 631 515 \nQ 250 1094 250 2203 \nQ 250 3338 620 3903 \nQ 991 4469 1791 4469 \nQ 2569 4469 2939 3897 \nQ 3309 3325 3309 2203 \nz\nM 2738 2203 \nQ 2738 3156 2517 3584 \nQ 2297 4013 1791 4013 \nQ 1272 4013 1045 3591 \nQ 819 3169 819 2203 \nQ 819 1266 1048 831 \nQ 1278 397 1778 397 \nQ 2275 397 2506 840 \nQ 2738 1284 2738 2203 \nz\n\" id=\"LiberationSans-30\" transform=\"scale(0.015625)\"/>\n       </defs>\n       <use xlink:href=\"#LiberationSans-30\"/>\n      </g>\n     </g>\n    </g>\n    <g id=\"xtick_2\">\n     <g id=\"line2d_2\"/>\n     <g id=\"text_2\">\n      <!-- 1 -->\n      <g style=\"fill:#262626;\" transform=\"translate(219.121889 307.943125)scale(0.1 -0.1)\">\n       <defs>\n        <path d=\"M 488 0 \nL 488 478 \nL 1609 478 \nL 1609 3866 \nL 616 3156 \nL 616 3688 \nL 1656 4403 \nL 2175 4403 \nL 2175 478 \nL 3247 478 \nL 3247 0 \nL 488 0 \nz\n\" id=\"LiberationSans-31\" transform=\"scale(0.015625)\"/>\n       </defs>\n       <use xlink:href=\"#LiberationSans-31\"/>\n      </g>\n     </g>\n    </g>\n   </g>\n   <g id=\"matplotlib.axis_2\">\n    <g id=\"ytick_1\">\n     <g id=\"line2d_3\">\n      <path clip-path=\"url(#p041361fd03)\" d=\"M 50.697813 293.69625 \nL 278.97054 293.69625 \n\" style=\"fill:none;stroke:#cccccc;stroke-linecap:round;\"/>\n     </g>\n     <g id=\"line2d_4\"/>\n     <g id=\"text_3\">\n      <!-- 0 -->\n      <g style=\"fill:#262626;\" transform=\"translate(38.136875 297.319688)scale(0.1 -0.1)\">\n       <use xlink:href=\"#LiberationSans-30\"/>\n      </g>\n     </g>\n    </g>\n    <g id=\"ytick_2\">\n     <g id=\"line2d_5\">\n      <path clip-path=\"url(#p041361fd03)\" d=\"M 50.697813 253.625485 \nL 278.97054 253.625485 \n\" style=\"fill:none;stroke:#cccccc;stroke-linecap:round;\"/>\n     </g>\n     <g id=\"line2d_6\"/>\n     <g id=\"text_4\">\n      <!-- 200 -->\n      <g style=\"fill:#262626;\" transform=\"translate(27.015 257.248922)scale(0.1 -0.1)\">\n       <defs>\n        <path d=\"M 322 0 \nL 322 397 \nQ 481 763 711 1042 \nQ 941 1322 1194 1548 \nQ 1447 1775 1695 1969 \nQ 1944 2163 2144 2356 \nQ 2344 2550 2467 2762 \nQ 2591 2975 2591 3244 \nQ 2591 3606 2378 3806 \nQ 2166 4006 1788 4006 \nQ 1428 4006 1195 3811 \nQ 963 3616 922 3263 \nL 347 3316 \nQ 409 3844 795 4156 \nQ 1181 4469 1788 4469 \nQ 2453 4469 2811 4155 \nQ 3169 3841 3169 3263 \nQ 3169 3006 3051 2753 \nQ 2934 2500 2703 2247 \nQ 2472 1994 1819 1463 \nQ 1459 1169 1246 933 \nQ 1034 697 941 478 \nL 3238 478 \nL 3238 0 \nL 322 0 \nz\n\" id=\"LiberationSans-32\" transform=\"scale(0.015625)\"/>\n       </defs>\n       <use xlink:href=\"#LiberationSans-32\"/>\n       <use x=\"55.615234\" xlink:href=\"#LiberationSans-30\"/>\n       <use x=\"111.230469\" xlink:href=\"#LiberationSans-30\"/>\n      </g>\n     </g>\n    </g>\n    <g id=\"ytick_3\">\n     <g id=\"line2d_7\">\n      <path clip-path=\"url(#p041361fd03)\" d=\"M 50.697813 213.55472 \nL 278.97054 213.55472 \n\" style=\"fill:none;stroke:#cccccc;stroke-linecap:round;\"/>\n     </g>\n     <g id=\"line2d_8\"/>\n     <g id=\"text_5\">\n      <!-- 400 -->\n      <g style=\"fill:#262626;\" transform=\"translate(27.015 217.178157)scale(0.1 -0.1)\">\n       <defs>\n        <path d=\"M 2753 997 \nL 2753 0 \nL 2222 0 \nL 2222 997 \nL 147 997 \nL 147 1434 \nL 2163 4403 \nL 2753 4403 \nL 2753 1441 \nL 3372 1441 \nL 3372 997 \nL 2753 997 \nz\nM 2222 3769 \nQ 2216 3750 2134 3603 \nQ 2053 3456 2013 3397 \nL 884 1734 \nL 716 1503 \nL 666 1441 \nL 2222 1441 \nL 2222 3769 \nz\n\" id=\"LiberationSans-34\" transform=\"scale(0.015625)\"/>\n       </defs>\n       <use xlink:href=\"#LiberationSans-34\"/>\n       <use x=\"55.615234\" xlink:href=\"#LiberationSans-30\"/>\n       <use x=\"111.230469\" xlink:href=\"#LiberationSans-30\"/>\n      </g>\n     </g>\n    </g>\n    <g id=\"ytick_4\">\n     <g id=\"line2d_9\">\n      <path clip-path=\"url(#p041361fd03)\" d=\"M 50.697813 173.483955 \nL 278.97054 173.483955 \n\" style=\"fill:none;stroke:#cccccc;stroke-linecap:round;\"/>\n     </g>\n     <g id=\"line2d_10\"/>\n     <g id=\"text_6\">\n      <!-- 600 -->\n      <g style=\"fill:#262626;\" transform=\"translate(27.015 177.107392)scale(0.1 -0.1)\">\n       <defs>\n        <path d=\"M 3278 1441 \nQ 3278 744 2900 340 \nQ 2522 -63 1856 -63 \nQ 1113 -63 719 490 \nQ 325 1044 325 2100 \nQ 325 3244 734 3856 \nQ 1144 4469 1900 4469 \nQ 2897 4469 3156 3572 \nL 2619 3475 \nQ 2453 4013 1894 4013 \nQ 1413 4013 1148 3564 \nQ 884 3116 884 2266 \nQ 1038 2550 1316 2698 \nQ 1594 2847 1953 2847 \nQ 2563 2847 2920 2465 \nQ 3278 2084 3278 1441 \nz\nM 2706 1416 \nQ 2706 1894 2472 2153 \nQ 2238 2413 1819 2413 \nQ 1425 2413 1183 2183 \nQ 941 1953 941 1550 \nQ 941 1041 1192 716 \nQ 1444 391 1838 391 \nQ 2244 391 2475 664 \nQ 2706 938 2706 1416 \nz\n\" id=\"LiberationSans-36\" transform=\"scale(0.015625)\"/>\n       </defs>\n       <use xlink:href=\"#LiberationSans-36\"/>\n       <use x=\"55.615234\" xlink:href=\"#LiberationSans-30\"/>\n       <use x=\"111.230469\" xlink:href=\"#LiberationSans-30\"/>\n      </g>\n     </g>\n    </g>\n    <g id=\"ytick_5\">\n     <g id=\"line2d_11\">\n      <path clip-path=\"url(#p041361fd03)\" d=\"M 50.697813 133.413189 \nL 278.97054 133.413189 \n\" style=\"fill:none;stroke:#cccccc;stroke-linecap:round;\"/>\n     </g>\n     <g id=\"line2d_12\"/>\n     <g id=\"text_7\">\n      <!-- 800 -->\n      <g style=\"fill:#262626;\" transform=\"translate(27.015 137.036627)scale(0.1 -0.1)\">\n       <defs>\n        <path d=\"M 3281 1228 \nQ 3281 619 2893 278 \nQ 2506 -63 1781 -63 \nQ 1075 -63 676 271 \nQ 278 606 278 1222 \nQ 278 1653 525 1947 \nQ 772 2241 1156 2303 \nL 1156 2316 \nQ 797 2400 589 2681 \nQ 381 2963 381 3341 \nQ 381 3844 757 4156 \nQ 1134 4469 1769 4469 \nQ 2419 4469 2795 4162 \nQ 3172 3856 3172 3334 \nQ 3172 2956 2962 2675 \nQ 2753 2394 2391 2322 \nL 2391 2309 \nQ 2813 2241 3047 1952 \nQ 3281 1663 3281 1228 \nz\nM 2588 3303 \nQ 2588 4050 1769 4050 \nQ 1372 4050 1164 3862 \nQ 956 3675 956 3303 \nQ 956 2925 1170 2726 \nQ 1384 2528 1775 2528 \nQ 2172 2528 2380 2711 \nQ 2588 2894 2588 3303 \nz\nM 2697 1281 \nQ 2697 1691 2453 1898 \nQ 2209 2106 1769 2106 \nQ 1341 2106 1100 1882 \nQ 859 1659 859 1269 \nQ 859 359 1788 359 \nQ 2247 359 2472 579 \nQ 2697 800 2697 1281 \nz\n\" id=\"LiberationSans-38\" transform=\"scale(0.015625)\"/>\n       </defs>\n       <use xlink:href=\"#LiberationSans-38\"/>\n       <use x=\"55.615234\" xlink:href=\"#LiberationSans-30\"/>\n       <use x=\"111.230469\" xlink:href=\"#LiberationSans-30\"/>\n      </g>\n     </g>\n    </g>\n    <g id=\"ytick_6\">\n     <g id=\"line2d_13\">\n      <path clip-path=\"url(#p041361fd03)\" d=\"M 50.697813 93.342424 \nL 278.97054 93.342424 \n\" style=\"fill:none;stroke:#cccccc;stroke-linecap:round;\"/>\n     </g>\n     <g id=\"line2d_14\"/>\n     <g id=\"text_8\">\n      <!-- 1000 -->\n      <g style=\"fill:#262626;\" transform=\"translate(21.454063 96.965862)scale(0.1 -0.1)\">\n       <use xlink:href=\"#LiberationSans-31\"/>\n       <use x=\"55.615234\" xlink:href=\"#LiberationSans-30\"/>\n       <use x=\"111.230469\" xlink:href=\"#LiberationSans-30\"/>\n       <use x=\"166.845703\" xlink:href=\"#LiberationSans-30\"/>\n      </g>\n     </g>\n    </g>\n    <g id=\"ytick_7\">\n     <g id=\"line2d_15\">\n      <path clip-path=\"url(#p041361fd03)\" d=\"M 50.697813 53.271659 \nL 278.97054 53.271659 \n\" style=\"fill:none;stroke:#cccccc;stroke-linecap:round;\"/>\n     </g>\n     <g id=\"line2d_16\"/>\n     <g id=\"text_9\">\n      <!-- 1200 -->\n      <g style=\"fill:#262626;\" transform=\"translate(21.454063 56.895097)scale(0.1 -0.1)\">\n       <use xlink:href=\"#LiberationSans-31\"/>\n       <use x=\"55.615234\" xlink:href=\"#LiberationSans-32\"/>\n       <use x=\"111.230469\" xlink:href=\"#LiberationSans-30\"/>\n       <use x=\"166.845703\" xlink:href=\"#LiberationSans-30\"/>\n      </g>\n     </g>\n    </g>\n    <g id=\"text_10\">\n     <!-- count -->\n     <g style=\"fill:#262626;\" transform=\"translate(15.171563 171.249766)rotate(-90)scale(0.11 -0.11)\">\n      <defs>\n       <path d=\"M 859 1706 \nQ 859 1031 1071 706 \nQ 1284 381 1713 381 \nQ 2013 381 2214 543 \nQ 2416 706 2463 1044 \nL 3031 1006 \nQ 2966 519 2616 228 \nQ 2266 -63 1728 -63 \nQ 1019 -63 645 385 \nQ 272 834 272 1694 \nQ 272 2547 647 2995 \nQ 1022 3444 1722 3444 \nQ 2241 3444 2583 3175 \nQ 2925 2906 3013 2434 \nL 2434 2391 \nQ 2391 2672 2212 2837 \nQ 2034 3003 1706 3003 \nQ 1259 3003 1059 2706 \nQ 859 2409 859 1706 \nz\n\" id=\"LiberationSans-63\" transform=\"scale(0.015625)\"/>\n       <path d=\"M 3291 1694 \nQ 3291 806 2900 371 \nQ 2509 -63 1766 -63 \nQ 1025 -63 647 389 \nQ 269 841 269 1694 \nQ 269 3444 1784 3444 \nQ 2559 3444 2925 3017 \nQ 3291 2591 3291 1694 \nz\nM 2700 1694 \nQ 2700 2394 2492 2711 \nQ 2284 3028 1794 3028 \nQ 1300 3028 1079 2704 \nQ 859 2381 859 1694 \nQ 859 1025 1076 689 \nQ 1294 353 1759 353 \nQ 2266 353 2483 678 \nQ 2700 1003 2700 1694 \nz\n\" id=\"LiberationSans-6f\" transform=\"scale(0.015625)\"/>\n       <path d=\"M 981 3381 \nL 981 1238 \nQ 981 903 1047 718 \nQ 1113 534 1256 453 \nQ 1400 372 1678 372 \nQ 2084 372 2318 650 \nQ 2553 928 2553 1422 \nL 2553 3381 \nL 3116 3381 \nL 3116 722 \nQ 3116 131 3134 0 \nL 2603 0 \nQ 2600 16 2597 84 \nQ 2594 153 2589 242 \nQ 2584 331 2578 578 \nL 2569 578 \nQ 2375 228 2120 82 \nQ 1866 -63 1488 -63 \nQ 931 -63 673 214 \nQ 416 491 416 1128 \nL 416 3381 \nL 981 3381 \nz\n\" id=\"LiberationSans-75\" transform=\"scale(0.015625)\"/>\n       <path d=\"M 2578 0 \nL 2578 2144 \nQ 2578 2478 2512 2662 \nQ 2447 2847 2303 2928 \nQ 2159 3009 1881 3009 \nQ 1475 3009 1240 2731 \nQ 1006 2453 1006 1959 \nL 1006 0 \nL 444 0 \nL 444 2659 \nQ 444 3250 425 3381 \nL 956 3381 \nQ 959 3366 962 3297 \nQ 966 3228 970 3139 \nQ 975 3050 981 2803 \nL 991 2803 \nQ 1184 3153 1439 3298 \nQ 1694 3444 2072 3444 \nQ 2628 3444 2886 3167 \nQ 3144 2891 3144 2253 \nL 3144 0 \nL 2578 0 \nz\n\" id=\"LiberationSans-6e\" transform=\"scale(0.015625)\"/>\n       <path d=\"M 1731 25 \nQ 1453 -50 1163 -50 \nQ 488 -50 488 716 \nL 488 2972 \nL 97 2972 \nL 97 3381 \nL 509 3381 \nL 675 4138 \nL 1050 4138 \nL 1050 3381 \nL 1675 3381 \nL 1675 2972 \nL 1050 2972 \nL 1050 838 \nQ 1050 594 1129 495 \nQ 1209 397 1406 397 \nQ 1519 397 1731 441 \nL 1731 25 \nz\n\" id=\"LiberationSans-74\" transform=\"scale(0.015625)\"/>\n      </defs>\n      <use xlink:href=\"#LiberationSans-63\"/>\n      <use x=\"50\" xlink:href=\"#LiberationSans-6f\"/>\n      <use x=\"105.615234\" xlink:href=\"#LiberationSans-75\"/>\n      <use x=\"161.230469\" xlink:href=\"#LiberationSans-6e\"/>\n      <use x=\"216.845703\" xlink:href=\"#LiberationSans-74\"/>\n     </g>\n    </g>\n   </g>\n   <g id=\"patch_3\">\n    <path clip-path=\"url(#p041361fd03)\" d=\"M 62.111449 293.69625 \nL 153.42054 293.69625 \nL 153.42054 34.839107 \nL 62.111449 34.839107 \nz\n\" style=\"fill:#166a8e;\"/>\n   </g>\n   <g id=\"patch_4\">\n    <path clip-path=\"url(#p041361fd03)\" d=\"M 176.247813 293.69625 \nL 267.556903 293.69625 \nL 267.556903 252.022654 \nL 176.247813 252.022654 \nz\n\" style=\"fill:#9eba81;\"/>\n   </g>\n   <g id=\"patch_5\">\n    <path d=\"M 50.697813 293.69625 \nL 50.697813 21.89625 \n\" style=\"fill:none;stroke:#cccccc;stroke-linecap:square;stroke-linejoin:miter;stroke-width:1.25;\"/>\n   </g>\n   <g id=\"patch_6\">\n    <path d=\"M 278.97054 293.69625 \nL 278.97054 21.89625 \n\" style=\"fill:none;stroke:#cccccc;stroke-linecap:square;stroke-linejoin:miter;stroke-width:1.25;\"/>\n   </g>\n   <g id=\"patch_7\">\n    <path d=\"M 50.697813 293.69625 \nL 278.97054 293.69625 \n\" style=\"fill:none;stroke:#cccccc;stroke-linecap:square;stroke-linejoin:miter;stroke-width:1.25;\"/>\n   </g>\n   <g id=\"patch_8\">\n    <path d=\"M 50.697813 21.89625 \nL 278.97054 21.89625 \n\" style=\"fill:none;stroke:#cccccc;stroke-linecap:square;stroke-linejoin:miter;stroke-width:1.25;\"/>\n   </g>\n   <g id=\"text_11\">\n    <!-- Real results -->\n    <g style=\"fill:#262626;\" transform=\"translate(133.156989 15.89625)scale(0.12 -0.12)\">\n     <defs>\n      <path d=\"M 3638 0 \nL 2494 1828 \nL 1122 1828 \nL 1122 0 \nL 525 0 \nL 525 4403 \nL 2597 4403 \nQ 3341 4403 3745 4070 \nQ 4150 3738 4150 3144 \nQ 4150 2653 3864 2318 \nQ 3578 1984 3075 1897 \nL 4325 0 \nL 3638 0 \nz\nM 3550 3138 \nQ 3550 3522 3289 3723 \nQ 3028 3925 2538 3925 \nL 1122 3925 \nL 1122 2300 \nL 2563 2300 \nQ 3034 2300 3292 2520 \nQ 3550 2741 3550 3138 \nz\n\" id=\"LiberationSans-52\" transform=\"scale(0.015625)\"/>\n      <path d=\"M 863 1572 \nQ 863 991 1103 675 \nQ 1344 359 1806 359 \nQ 2172 359 2392 506 \nQ 2613 653 2691 878 \nL 3184 738 \nQ 2881 -63 1806 -63 \nQ 1056 -63 664 384 \nQ 272 831 272 1713 \nQ 272 2550 664 2997 \nQ 1056 3444 1784 3444 \nQ 3275 3444 3275 1647 \nL 3275 1572 \nL 863 1572 \nz\nM 2694 2003 \nQ 2647 2538 2422 2783 \nQ 2197 3028 1775 3028 \nQ 1366 3028 1127 2754 \nQ 888 2481 869 2003 \nL 2694 2003 \nz\n\" id=\"LiberationSans-65\" transform=\"scale(0.015625)\"/>\n      <path d=\"M 1294 -63 \nQ 784 -63 528 206 \nQ 272 475 272 944 \nQ 272 1469 617 1750 \nQ 963 2031 1731 2050 \nL 2491 2063 \nL 2491 2247 \nQ 2491 2659 2316 2837 \nQ 2141 3016 1766 3016 \nQ 1388 3016 1216 2887 \nQ 1044 2759 1009 2478 \nL 422 2531 \nQ 566 3444 1778 3444 \nQ 2416 3444 2737 3151 \nQ 3059 2859 3059 2306 \nL 3059 850 \nQ 3059 600 3125 473 \nQ 3191 347 3375 347 \nQ 3456 347 3559 369 \nL 3559 19 \nQ 3347 -31 3125 -31 \nQ 2813 -31 2670 133 \nQ 2528 297 2509 647 \nL 2491 647 \nQ 2275 259 1989 98 \nQ 1703 -63 1294 -63 \nz\nM 1422 359 \nQ 1731 359 1972 500 \nQ 2213 641 2352 886 \nQ 2491 1131 2491 1391 \nL 2491 1669 \nL 1875 1656 \nQ 1478 1650 1273 1575 \nQ 1069 1500 959 1344 \nQ 850 1188 850 934 \nQ 850 659 998 509 \nQ 1147 359 1422 359 \nz\n\" id=\"LiberationSans-61\" transform=\"scale(0.015625)\"/>\n      <path d=\"M 431 0 \nL 431 4638 \nL 994 4638 \nL 994 0 \nL 431 0 \nz\n\" id=\"LiberationSans-6c\" transform=\"scale(0.015625)\"/>\n      <path id=\"LiberationSans-20\" transform=\"scale(0.015625)\"/>\n      <path d=\"M 444 0 \nL 444 2594 \nQ 444 2950 425 3381 \nL 956 3381 \nQ 981 2806 981 2691 \nL 994 2691 \nQ 1128 3125 1303 3284 \nQ 1478 3444 1797 3444 \nQ 1909 3444 2025 3413 \nL 2025 2897 \nQ 1913 2928 1725 2928 \nQ 1375 2928 1190 2626 \nQ 1006 2325 1006 1763 \nL 1006 0 \nL 444 0 \nz\n\" id=\"LiberationSans-72\" transform=\"scale(0.015625)\"/>\n      <path d=\"M 2969 934 \nQ 2969 456 2608 196 \nQ 2247 -63 1597 -63 \nQ 966 -63 623 145 \nQ 281 353 178 794 \nL 675 891 \nQ 747 619 972 492 \nQ 1197 366 1597 366 \nQ 2025 366 2223 497 \nQ 2422 628 2422 891 \nQ 2422 1091 2284 1216 \nQ 2147 1341 1841 1422 \nL 1438 1528 \nQ 953 1653 748 1773 \nQ 544 1894 428 2066 \nQ 313 2238 313 2488 \nQ 313 2950 642 3192 \nQ 972 3434 1603 3434 \nQ 2163 3434 2492 3237 \nQ 2822 3041 2909 2606 \nL 2403 2544 \nQ 2356 2769 2151 2889 \nQ 1947 3009 1603 3009 \nQ 1222 3009 1040 2893 \nQ 859 2778 859 2544 \nQ 859 2400 934 2306 \nQ 1009 2213 1156 2147 \nQ 1303 2081 1775 1966 \nQ 2222 1853 2419 1758 \nQ 2616 1663 2730 1547 \nQ 2844 1431 2906 1279 \nQ 2969 1128 2969 934 \nz\n\" id=\"LiberationSans-73\" transform=\"scale(0.015625)\"/>\n     </defs>\n     <use xlink:href=\"#LiberationSans-52\"/>\n     <use x=\"72.216797\" xlink:href=\"#LiberationSans-65\"/>\n     <use x=\"127.832031\" xlink:href=\"#LiberationSans-61\"/>\n     <use x=\"183.447266\" xlink:href=\"#LiberationSans-6c\"/>\n     <use x=\"205.664062\" xlink:href=\"#LiberationSans-20\"/>\n     <use x=\"233.447266\" xlink:href=\"#LiberationSans-72\"/>\n     <use x=\"266.748047\" xlink:href=\"#LiberationSans-65\"/>\n     <use x=\"322.363281\" xlink:href=\"#LiberationSans-73\"/>\n     <use x=\"372.363281\" xlink:href=\"#LiberationSans-75\"/>\n     <use x=\"427.978516\" xlink:href=\"#LiberationSans-6c\"/>\n     <use x=\"450.195312\" xlink:href=\"#LiberationSans-74\"/>\n     <use x=\"477.978516\" xlink:href=\"#LiberationSans-73\"/>\n    </g>\n   </g>\n  </g>\n  <g id=\"axes_2\">\n   <g id=\"patch_9\">\n    <path d=\"M 324.625085 293.69625 \nL 552.897812 293.69625 \nL 552.897812 21.89625 \nL 324.625085 21.89625 \nz\n\" style=\"fill:#ffffff;\"/>\n   </g>\n   <g id=\"matplotlib.axis_3\">\n    <g id=\"xtick_3\">\n     <g id=\"line2d_17\"/>\n     <g id=\"text_12\">\n      <!-- 0 -->\n      <g style=\"fill:#262626;\" transform=\"translate(378.912798 307.943125)scale(0.1 -0.1)\">\n       <use xlink:href=\"#LiberationSans-30\"/>\n      </g>\n     </g>\n    </g>\n    <g id=\"xtick_4\">\n     <g id=\"line2d_18\"/>\n     <g id=\"text_13\">\n      <!-- 1 -->\n      <g style=\"fill:#262626;\" transform=\"translate(493.049162 307.943125)scale(0.1 -0.1)\">\n       <use xlink:href=\"#LiberationSans-31\"/>\n      </g>\n     </g>\n    </g>\n   </g>\n   <g id=\"matplotlib.axis_4\">\n    <g id=\"ytick_8\">\n     <g id=\"line2d_19\">\n      <path clip-path=\"url(#p2bd06f4b62)\" d=\"M 324.625085 293.69625 \nL 552.897812 293.69625 \n\" style=\"fill:none;stroke:#cccccc;stroke-linecap:round;\"/>\n     </g>\n     <g id=\"line2d_20\"/>\n     <g id=\"text_14\">\n      <!-- 0 -->\n      <g style=\"fill:#262626;\" transform=\"translate(312.064148 297.319688)scale(0.1 -0.1)\">\n       <use xlink:href=\"#LiberationSans-30\"/>\n      </g>\n     </g>\n    </g>\n    <g id=\"ytick_9\">\n     <g id=\"line2d_21\">\n      <path clip-path=\"url(#p2bd06f4b62)\" d=\"M 324.625085 253.656475 \nL 552.897812 253.656475 \n\" style=\"fill:none;stroke:#cccccc;stroke-linecap:round;\"/>\n     </g>\n     <g id=\"line2d_22\"/>\n     <g id=\"text_15\">\n      <!-- 200 -->\n      <g style=\"fill:#262626;\" transform=\"translate(300.942273 257.279913)scale(0.1 -0.1)\">\n       <use xlink:href=\"#LiberationSans-32\"/>\n       <use x=\"55.615234\" xlink:href=\"#LiberationSans-30\"/>\n       <use x=\"111.230469\" xlink:href=\"#LiberationSans-30\"/>\n      </g>\n     </g>\n    </g>\n    <g id=\"ytick_10\">\n     <g id=\"line2d_23\">\n      <path clip-path=\"url(#p2bd06f4b62)\" d=\"M 324.625085 213.616701 \nL 552.897812 213.616701 \n\" style=\"fill:none;stroke:#cccccc;stroke-linecap:round;\"/>\n     </g>\n     <g id=\"line2d_24\"/>\n     <g id=\"text_16\">\n      <!-- 400 -->\n      <g style=\"fill:#262626;\" transform=\"translate(300.942273 217.240138)scale(0.1 -0.1)\">\n       <use xlink:href=\"#LiberationSans-34\"/>\n       <use x=\"55.615234\" xlink:href=\"#LiberationSans-30\"/>\n       <use x=\"111.230469\" xlink:href=\"#LiberationSans-30\"/>\n      </g>\n     </g>\n    </g>\n    <g id=\"ytick_11\">\n     <g id=\"line2d_25\">\n      <path clip-path=\"url(#p2bd06f4b62)\" d=\"M 324.625085 173.576926 \nL 552.897812 173.576926 \n\" style=\"fill:none;stroke:#cccccc;stroke-linecap:round;\"/>\n     </g>\n     <g id=\"line2d_26\"/>\n     <g id=\"text_17\">\n      <!-- 600 -->\n      <g style=\"fill:#262626;\" transform=\"translate(300.942273 177.200364)scale(0.1 -0.1)\">\n       <use xlink:href=\"#LiberationSans-36\"/>\n       <use x=\"55.615234\" xlink:href=\"#LiberationSans-30\"/>\n       <use x=\"111.230469\" xlink:href=\"#LiberationSans-30\"/>\n      </g>\n     </g>\n    </g>\n    <g id=\"ytick_12\">\n     <g id=\"line2d_27\">\n      <path clip-path=\"url(#p2bd06f4b62)\" d=\"M 324.625085 133.537152 \nL 552.897812 133.537152 \n\" style=\"fill:none;stroke:#cccccc;stroke-linecap:round;\"/>\n     </g>\n     <g id=\"line2d_28\"/>\n     <g id=\"text_18\">\n      <!-- 800 -->\n      <g style=\"fill:#262626;\" transform=\"translate(300.942273 137.160589)scale(0.1 -0.1)\">\n       <use xlink:href=\"#LiberationSans-38\"/>\n       <use x=\"55.615234\" xlink:href=\"#LiberationSans-30\"/>\n       <use x=\"111.230469\" xlink:href=\"#LiberationSans-30\"/>\n      </g>\n     </g>\n    </g>\n    <g id=\"ytick_13\">\n     <g id=\"line2d_29\">\n      <path clip-path=\"url(#p2bd06f4b62)\" d=\"M 324.625085 93.497377 \nL 552.897812 93.497377 \n\" style=\"fill:none;stroke:#cccccc;stroke-linecap:round;\"/>\n     </g>\n     <g id=\"line2d_30\"/>\n     <g id=\"text_19\">\n      <!-- 1000 -->\n      <g style=\"fill:#262626;\" transform=\"translate(295.381335 97.120814)scale(0.1 -0.1)\">\n       <use xlink:href=\"#LiberationSans-31\"/>\n       <use x=\"55.615234\" xlink:href=\"#LiberationSans-30\"/>\n       <use x=\"111.230469\" xlink:href=\"#LiberationSans-30\"/>\n       <use x=\"166.845703\" xlink:href=\"#LiberationSans-30\"/>\n      </g>\n     </g>\n    </g>\n    <g id=\"ytick_14\">\n     <g id=\"line2d_31\">\n      <path clip-path=\"url(#p2bd06f4b62)\" d=\"M 324.625085 53.457602 \nL 552.897812 53.457602 \n\" style=\"fill:none;stroke:#cccccc;stroke-linecap:round;\"/>\n     </g>\n     <g id=\"line2d_32\"/>\n     <g id=\"text_20\">\n      <!-- 1200 -->\n      <g style=\"fill:#262626;\" transform=\"translate(295.381335 57.08104)scale(0.1 -0.1)\">\n       <use xlink:href=\"#LiberationSans-31\"/>\n       <use x=\"55.615234\" xlink:href=\"#LiberationSans-32\"/>\n       <use x=\"111.230469\" xlink:href=\"#LiberationSans-30\"/>\n       <use x=\"166.845703\" xlink:href=\"#LiberationSans-30\"/>\n      </g>\n     </g>\n    </g>\n    <g id=\"text_21\">\n     <!--   -->\n     <g style=\"fill:#262626;\" transform=\"translate(289.098835 159.324219)rotate(-90)scale(0.11 -0.11)\">\n      <use xlink:href=\"#LiberationSans-20\"/>\n     </g>\n    </g>\n   </g>\n   <g id=\"patch_10\">\n    <path clip-path=\"url(#p2bd06f4b62)\" d=\"M 336.038722 293.69625 \nL 427.347812 293.69625 \nL 427.347812 34.839107 \nL 336.038722 34.839107 \nz\n\" style=\"fill:#166a8e;\"/>\n   </g>\n   <g id=\"patch_11\">\n    <path clip-path=\"url(#p2bd06f4b62)\" d=\"M 450.175085 293.69625 \nL 541.484176 293.69625 \nL 541.484176 252.255083 \nL 450.175085 252.255083 \nz\n\" style=\"fill:#9eba81;\"/>\n   </g>\n   <g id=\"patch_12\">\n    <path d=\"M 324.625085 293.69625 \nL 324.625085 21.89625 \n\" style=\"fill:none;stroke:#cccccc;stroke-linecap:square;stroke-linejoin:miter;stroke-width:1.25;\"/>\n   </g>\n   <g id=\"patch_13\">\n    <path d=\"M 552.897812 293.69625 \nL 552.897812 21.89625 \n\" style=\"fill:none;stroke:#cccccc;stroke-linecap:square;stroke-linejoin:miter;stroke-width:1.25;\"/>\n   </g>\n   <g id=\"patch_14\">\n    <path d=\"M 324.625085 293.69625 \nL 552.897812 293.69625 \n\" style=\"fill:none;stroke:#cccccc;stroke-linecap:square;stroke-linejoin:miter;stroke-width:1.25;\"/>\n   </g>\n   <g id=\"patch_15\">\n    <path d=\"M 324.625085 21.89625 \nL 552.897812 21.89625 \n\" style=\"fill:none;stroke:#cccccc;stroke-linecap:square;stroke-linejoin:miter;stroke-width:1.25;\"/>\n   </g>\n   <g id=\"text_22\">\n    <!-- Algorithm predictions -->\n    <g style=\"fill:#262626;\" transform=\"translate(382.740199 15.89625)scale(0.12 -0.12)\">\n     <defs>\n      <path d=\"M 3647 0 \nL 3144 1288 \nL 1138 1288 \nL 631 0 \nL 13 0 \nL 1809 4403 \nL 2488 4403 \nL 4256 0 \nL 3647 0 \nz\nM 2141 3953 \nL 2113 3866 \nQ 2034 3606 1881 3200 \nL 1319 1753 \nL 2966 1753 \nL 2400 3206 \nQ 2313 3422 2225 3694 \nL 2141 3953 \nz\n\" id=\"LiberationSans-41\" transform=\"scale(0.015625)\"/>\n      <path d=\"M 1713 -1328 \nQ 1159 -1328 831 -1111 \nQ 503 -894 409 -494 \nL 975 -413 \nQ 1031 -647 1223 -773 \nQ 1416 -900 1728 -900 \nQ 2569 -900 2569 84 \nL 2569 628 \nL 2563 628 \nQ 2403 303 2125 139 \nQ 1847 -25 1475 -25 \nQ 853 -25 561 387 \nQ 269 800 269 1684 \nQ 269 2581 583 3007 \nQ 897 3434 1538 3434 \nQ 1897 3434 2161 3270 \nQ 2425 3106 2569 2803 \nL 2575 2803 \nQ 2575 2897 2587 3128 \nQ 2600 3359 2613 3381 \nL 3147 3381 \nQ 3128 3213 3128 2681 \nL 3128 97 \nQ 3128 -1328 1713 -1328 \nz\nM 2569 1691 \nQ 2569 2103 2456 2401 \nQ 2344 2700 2139 2858 \nQ 1934 3016 1675 3016 \nQ 1244 3016 1047 2703 \nQ 850 2391 850 1691 \nQ 850 997 1034 694 \nQ 1219 391 1666 391 \nQ 1931 391 2137 547 \nQ 2344 703 2456 995 \nQ 2569 1288 2569 1691 \nz\n\" id=\"LiberationSans-67\" transform=\"scale(0.015625)\"/>\n      <path d=\"M 428 4100 \nL 428 4638 \nL 991 4638 \nL 991 4100 \nL 428 4100 \nz\nM 428 0 \nL 428 3381 \nL 991 3381 \nL 991 0 \nL 428 0 \nz\n\" id=\"LiberationSans-69\" transform=\"scale(0.015625)\"/>\n      <path d=\"M 991 2803 \nQ 1172 3134 1426 3289 \nQ 1681 3444 2072 3444 \nQ 2622 3444 2883 3170 \nQ 3144 2897 3144 2253 \nL 3144 0 \nL 2578 0 \nL 2578 2144 \nQ 2578 2500 2512 2673 \nQ 2447 2847 2297 2928 \nQ 2147 3009 1881 3009 \nQ 1484 3009 1245 2734 \nQ 1006 2459 1006 1994 \nL 1006 0 \nL 444 0 \nL 444 4638 \nL 1006 4638 \nL 1006 3431 \nQ 1006 3241 995 3037 \nQ 984 2834 981 2803 \nL 991 2803 \nz\n\" id=\"LiberationSans-68\" transform=\"scale(0.015625)\"/>\n      <path d=\"M 2400 0 \nL 2400 2144 \nQ 2400 2634 2265 2821 \nQ 2131 3009 1781 3009 \nQ 1422 3009 1212 2734 \nQ 1003 2459 1003 1959 \nL 1003 0 \nL 444 0 \nL 444 2659 \nQ 444 3250 425 3381 \nL 956 3381 \nQ 959 3366 962 3297 \nQ 966 3228 970 3139 \nQ 975 3050 981 2803 \nL 991 2803 \nQ 1172 3163 1406 3303 \nQ 1641 3444 1978 3444 \nQ 2363 3444 2586 3291 \nQ 2809 3138 2897 2803 \nL 2906 2803 \nQ 3081 3144 3329 3294 \nQ 3578 3444 3931 3444 \nQ 4444 3444 4676 3166 \nQ 4909 2888 4909 2253 \nL 4909 0 \nL 4353 0 \nL 4353 2144 \nQ 4353 2634 4218 2821 \nQ 4084 3009 3734 3009 \nQ 3366 3009 3161 2736 \nQ 2956 2463 2956 1959 \nL 2956 0 \nL 2400 0 \nz\n\" id=\"LiberationSans-6d\" transform=\"scale(0.015625)\"/>\n      <path d=\"M 3291 1706 \nQ 3291 -63 2047 -63 \nQ 1266 -63 997 525 \nL 981 525 \nQ 994 500 994 -6 \nL 994 -1328 \nL 431 -1328 \nL 431 2691 \nQ 431 3213 413 3381 \nL 956 3381 \nQ 959 3369 965 3292 \nQ 972 3216 980 3056 \nQ 988 2897 988 2838 \nL 1000 2838 \nQ 1150 3150 1397 3295 \nQ 1644 3441 2047 3441 \nQ 2672 3441 2981 3022 \nQ 3291 2603 3291 1706 \nz\nM 2700 1694 \nQ 2700 2400 2509 2703 \nQ 2319 3006 1903 3006 \nQ 1569 3006 1380 2865 \nQ 1191 2725 1092 2426 \nQ 994 2128 994 1650 \nQ 994 984 1206 668 \nQ 1419 353 1897 353 \nQ 2316 353 2508 661 \nQ 2700 969 2700 1694 \nz\n\" id=\"LiberationSans-70\" transform=\"scale(0.015625)\"/>\n      <path d=\"M 2566 544 \nQ 2409 219 2151 78 \nQ 1894 -63 1513 -63 \nQ 872 -63 570 368 \nQ 269 800 269 1675 \nQ 269 3444 1513 3444 \nQ 1897 3444 2153 3303 \nQ 2409 3163 2566 2856 \nL 2572 2856 \nL 2566 3234 \nL 2566 4638 \nL 3128 4638 \nL 3128 697 \nQ 3128 169 3147 0 \nL 2609 0 \nQ 2600 50 2589 231 \nQ 2578 413 2578 544 \nL 2566 544 \nz\nM 859 1694 \nQ 859 984 1046 678 \nQ 1234 372 1656 372 \nQ 2134 372 2350 703 \nQ 2566 1034 2566 1731 \nQ 2566 2403 2350 2715 \nQ 2134 3028 1663 3028 \nQ 1238 3028 1048 2714 \nQ 859 2400 859 1694 \nz\n\" id=\"LiberationSans-64\" transform=\"scale(0.015625)\"/>\n     </defs>\n     <use xlink:href=\"#LiberationSans-41\"/>\n     <use x=\"66.699219\" xlink:href=\"#LiberationSans-6c\"/>\n     <use x=\"88.916016\" xlink:href=\"#LiberationSans-67\"/>\n     <use x=\"144.53125\" xlink:href=\"#LiberationSans-6f\"/>\n     <use x=\"200.146484\" xlink:href=\"#LiberationSans-72\"/>\n     <use x=\"233.447266\" xlink:href=\"#LiberationSans-69\"/>\n     <use x=\"255.664062\" xlink:href=\"#LiberationSans-74\"/>\n     <use x=\"283.447266\" xlink:href=\"#LiberationSans-68\"/>\n     <use x=\"339.0625\" xlink:href=\"#LiberationSans-6d\"/>\n     <use x=\"422.363281\" xlink:href=\"#LiberationSans-20\"/>\n     <use x=\"450.146484\" xlink:href=\"#LiberationSans-70\"/>\n     <use x=\"505.761719\" xlink:href=\"#LiberationSans-72\"/>\n     <use x=\"539.0625\" xlink:href=\"#LiberationSans-65\"/>\n     <use x=\"594.677734\" xlink:href=\"#LiberationSans-64\"/>\n     <use x=\"650.292969\" xlink:href=\"#LiberationSans-69\"/>\n     <use x=\"672.509766\" xlink:href=\"#LiberationSans-63\"/>\n     <use x=\"722.509766\" xlink:href=\"#LiberationSans-74\"/>\n     <use x=\"750.292969\" xlink:href=\"#LiberationSans-69\"/>\n     <use x=\"772.509766\" xlink:href=\"#LiberationSans-6f\"/>\n     <use x=\"828.125\" xlink:href=\"#LiberationSans-6e\"/>\n     <use x=\"883.740234\" xlink:href=\"#LiberationSans-73\"/>\n    </g>\n   </g>\n  </g>\n </g>\n <defs>\n  <clipPath id=\"p041361fd03\">\n   <rect height=\"271.8\" width=\"228.272727\" x=\"50.697813\" y=\"21.89625\"/>\n  </clipPath>\n  <clipPath id=\"p2bd06f4b62\">\n   <rect height=\"271.8\" width=\"228.272727\" x=\"324.625085\" y=\"21.89625\"/>\n  </clipPath>\n </defs>\n</svg>\n",
      "image/png": "[encoded data removed]"
     },
     "metadata": {}
    }
   ],
   "metadata": {}
  },
  {
   "cell_type": "code",
   "execution_count": 922,
   "source": [
    "from sklearn.metrics import classification_report"
   ],
   "outputs": [],
   "metadata": {}
  },
  {
   "cell_type": "code",
   "execution_count": 923,
   "source": [
    "print(classification_report(y_test, predictions))"
   ],
   "outputs": [
    {
     "output_type": "stream",
     "name": "stdout",
     "text": [
      "              precision    recall  f1-score   support\n",
      "\n",
      "           0       1.00      1.00      1.00      1292\n",
      "           1       0.99      0.99      0.99       208\n",
      "\n",
      "    accuracy                           1.00      1500\n",
      "   macro avg       0.99      0.99      0.99      1500\n",
      "weighted avg       1.00      1.00      1.00      1500\n",
      "\n"
     ]
    }
   ],
   "metadata": {}
  },
  {
   "cell_type": "code",
   "execution_count": 939,
   "source": [
    "import pickle"
   ],
   "outputs": [],
   "metadata": {}
  },
  {
   "cell_type": "code",
   "execution_count": 940,
   "source": [
    "pickle.dump(neural_network, open('neural_network_creditrisk.sav', 'wb'))"
   ],
   "outputs": [],
   "metadata": {}
  }
 ],
 "metadata": {
  "orig_nbformat": 4,
  "language_info": {
   "name": "python",
   "version": "3.7.10",
   "mimetype": "text/x-python",
   "codemirror_mode": {
    "name": "ipython",
    "version": 3
   },
   "pygments_lexer": "ipython3",
   "nbconvert_exporter": "python",
   "file_extension": ".py"
  },
  "kernelspec": {
   "name": "python3",
   "display_name": "Python 3.7.10 64-bit ('myenv': conda)"
  },
  "interpreter": {
   "hash": "e4bcd2e9926cd80420e3779b700be2fbae733c5e77fffab7c56cb402021a050f"
  }
 },
 "nbformat": 4,
 "nbformat_minor": 2
}
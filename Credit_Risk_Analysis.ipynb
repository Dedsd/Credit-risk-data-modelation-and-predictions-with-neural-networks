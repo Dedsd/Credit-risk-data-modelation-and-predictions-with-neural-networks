{
 "cells": [
  {
   "cell_type": "markdown",
   "metadata": {},
   "source": [
    "## Import of libs"
   ]
  },
  {
   "cell_type": "code",
   "execution_count": 1210,
   "metadata": {},
   "outputs": [],
   "source": [
    "import pandas as pd\n",
    "import matplotlib.pyplot as plt\n",
    "import seaborn as sns"
   ]
  },
  {
   "cell_type": "markdown",
   "metadata": {},
   "source": [
    "## Loading data"
   ]
  },
  {
   "cell_type": "code",
   "execution_count": 1211,
   "metadata": {},
   "outputs": [],
   "source": [
    "credit_risk = pd.read_csv('databases/credit_risk_dataset.csv')"
   ]
  },
  {
   "cell_type": "markdown",
   "metadata": {},
   "source": [
    "## Visualizing data"
   ]
  },
  {
   "cell_type": "code",
   "execution_count": 1212,
   "metadata": {
    "scrolled": true
   },
   "outputs": [
    {
     "data": {
      "text/html": [
       "<div>\n",
       "<style scoped>\n",
       "    .dataframe tbody tr th:only-of-type {\n",
       "        vertical-align: middle;\n",
       "    }\n",
       "\n",
       "    .dataframe tbody tr th {\n",
       "        vertical-align: top;\n",
       "    }\n",
       "\n",
       "    .dataframe thead th {\n",
       "        text-align: right;\n",
       "    }\n",
       "</style>\n",
       "<table border=\"1\" class=\"dataframe\">\n",
       "  <thead>\n",
       "    <tr style=\"text-align: right;\">\n",
       "      <th></th>\n",
       "      <th>clientid</th>\n",
       "      <th>income</th>\n",
       "      <th>age</th>\n",
       "      <th>loan</th>\n",
       "      <th>default</th>\n",
       "    </tr>\n",
       "  </thead>\n",
       "  <tbody>\n",
       "    <tr>\n",
       "      <th>0</th>\n",
       "      <td>1</td>\n",
       "      <td>66155.925095</td>\n",
       "      <td>59.017015</td>\n",
       "      <td>8106.532131</td>\n",
       "      <td>0</td>\n",
       "    </tr>\n",
       "    <tr>\n",
       "      <th>1</th>\n",
       "      <td>2</td>\n",
       "      <td>34415.153966</td>\n",
       "      <td>48.117153</td>\n",
       "      <td>6564.745018</td>\n",
       "      <td>0</td>\n",
       "    </tr>\n",
       "    <tr>\n",
       "      <th>2</th>\n",
       "      <td>3</td>\n",
       "      <td>57317.170063</td>\n",
       "      <td>63.108049</td>\n",
       "      <td>8020.953296</td>\n",
       "      <td>0</td>\n",
       "    </tr>\n",
       "    <tr>\n",
       "      <th>3</th>\n",
       "      <td>4</td>\n",
       "      <td>42709.534201</td>\n",
       "      <td>45.751972</td>\n",
       "      <td>6103.642260</td>\n",
       "      <td>0</td>\n",
       "    </tr>\n",
       "    <tr>\n",
       "      <th>4</th>\n",
       "      <td>5</td>\n",
       "      <td>66952.688845</td>\n",
       "      <td>18.584336</td>\n",
       "      <td>8770.099235</td>\n",
       "      <td>1</td>\n",
       "    </tr>\n",
       "    <tr>\n",
       "      <th>...</th>\n",
       "      <td>...</td>\n",
       "      <td>...</td>\n",
       "      <td>...</td>\n",
       "      <td>...</td>\n",
       "      <td>...</td>\n",
       "    </tr>\n",
       "    <tr>\n",
       "      <th>1995</th>\n",
       "      <td>1996</td>\n",
       "      <td>59221.044874</td>\n",
       "      <td>48.518179</td>\n",
       "      <td>1926.729397</td>\n",
       "      <td>0</td>\n",
       "    </tr>\n",
       "    <tr>\n",
       "      <th>1996</th>\n",
       "      <td>1997</td>\n",
       "      <td>69516.127573</td>\n",
       "      <td>23.162104</td>\n",
       "      <td>3503.176156</td>\n",
       "      <td>0</td>\n",
       "    </tr>\n",
       "    <tr>\n",
       "      <th>1997</th>\n",
       "      <td>1998</td>\n",
       "      <td>44311.449262</td>\n",
       "      <td>28.017167</td>\n",
       "      <td>5522.786693</td>\n",
       "      <td>1</td>\n",
       "    </tr>\n",
       "    <tr>\n",
       "      <th>1998</th>\n",
       "      <td>1999</td>\n",
       "      <td>43756.056605</td>\n",
       "      <td>63.971796</td>\n",
       "      <td>1622.722598</td>\n",
       "      <td>0</td>\n",
       "    </tr>\n",
       "    <tr>\n",
       "      <th>1999</th>\n",
       "      <td>2000</td>\n",
       "      <td>69436.579552</td>\n",
       "      <td>56.152617</td>\n",
       "      <td>7378.833599</td>\n",
       "      <td>0</td>\n",
       "    </tr>\n",
       "  </tbody>\n",
       "</table>\n",
       "<p>2000 rows × 5 columns</p>\n",
       "</div>"
      ],
      "text/plain": [
       "      clientid        income        age         loan  default\n",
       "0            1  66155.925095  59.017015  8106.532131        0\n",
       "1            2  34415.153966  48.117153  6564.745018        0\n",
       "2            3  57317.170063  63.108049  8020.953296        0\n",
       "3            4  42709.534201  45.751972  6103.642260        0\n",
       "4            5  66952.688845  18.584336  8770.099235        1\n",
       "...        ...           ...        ...          ...      ...\n",
       "1995      1996  59221.044874  48.518179  1926.729397        0\n",
       "1996      1997  69516.127573  23.162104  3503.176156        0\n",
       "1997      1998  44311.449262  28.017167  5522.786693        1\n",
       "1998      1999  43756.056605  63.971796  1622.722598        0\n",
       "1999      2000  69436.579552  56.152617  7378.833599        0\n",
       "\n",
       "[2000 rows x 5 columns]"
      ]
     },
     "execution_count": 1212,
     "metadata": {},
     "output_type": "execute_result"
    }
   ],
   "source": [
    "credit_risk"
   ]
  },
  {
   "cell_type": "code",
   "execution_count": 1213,
   "metadata": {},
   "outputs": [
    {
     "data": {
      "text/html": [
       "<div>\n",
       "<style scoped>\n",
       "    .dataframe tbody tr th:only-of-type {\n",
       "        vertical-align: middle;\n",
       "    }\n",
       "\n",
       "    .dataframe tbody tr th {\n",
       "        vertical-align: top;\n",
       "    }\n",
       "\n",
       "    .dataframe thead th {\n",
       "        text-align: right;\n",
       "    }\n",
       "</style>\n",
       "<table border=\"1\" class=\"dataframe\">\n",
       "  <thead>\n",
       "    <tr style=\"text-align: right;\">\n",
       "      <th></th>\n",
       "      <th>clientid</th>\n",
       "      <th>income</th>\n",
       "      <th>age</th>\n",
       "      <th>loan</th>\n",
       "      <th>default</th>\n",
       "    </tr>\n",
       "  </thead>\n",
       "  <tbody>\n",
       "    <tr>\n",
       "      <th>count</th>\n",
       "      <td>2000.000000</td>\n",
       "      <td>2000.000000</td>\n",
       "      <td>1997.000000</td>\n",
       "      <td>2000.000000</td>\n",
       "      <td>2000.000000</td>\n",
       "    </tr>\n",
       "    <tr>\n",
       "      <th>mean</th>\n",
       "      <td>1000.500000</td>\n",
       "      <td>45331.600018</td>\n",
       "      <td>40.807559</td>\n",
       "      <td>4444.369695</td>\n",
       "      <td>0.141500</td>\n",
       "    </tr>\n",
       "    <tr>\n",
       "      <th>std</th>\n",
       "      <td>577.494589</td>\n",
       "      <td>14326.327119</td>\n",
       "      <td>13.624469</td>\n",
       "      <td>3045.410024</td>\n",
       "      <td>0.348624</td>\n",
       "    </tr>\n",
       "    <tr>\n",
       "      <th>min</th>\n",
       "      <td>1.000000</td>\n",
       "      <td>20014.489470</td>\n",
       "      <td>-52.423280</td>\n",
       "      <td>1.377630</td>\n",
       "      <td>0.000000</td>\n",
       "    </tr>\n",
       "    <tr>\n",
       "      <th>25%</th>\n",
       "      <td>500.750000</td>\n",
       "      <td>32796.459717</td>\n",
       "      <td>28.990415</td>\n",
       "      <td>1939.708847</td>\n",
       "      <td>0.000000</td>\n",
       "    </tr>\n",
       "    <tr>\n",
       "      <th>50%</th>\n",
       "      <td>1000.500000</td>\n",
       "      <td>45789.117313</td>\n",
       "      <td>41.317159</td>\n",
       "      <td>3974.719419</td>\n",
       "      <td>0.000000</td>\n",
       "    </tr>\n",
       "    <tr>\n",
       "      <th>75%</th>\n",
       "      <td>1500.250000</td>\n",
       "      <td>57791.281668</td>\n",
       "      <td>52.587040</td>\n",
       "      <td>6432.410625</td>\n",
       "      <td>0.000000</td>\n",
       "    </tr>\n",
       "    <tr>\n",
       "      <th>max</th>\n",
       "      <td>2000.000000</td>\n",
       "      <td>69995.685578</td>\n",
       "      <td>63.971796</td>\n",
       "      <td>13766.051239</td>\n",
       "      <td>1.000000</td>\n",
       "    </tr>\n",
       "  </tbody>\n",
       "</table>\n",
       "</div>"
      ],
      "text/plain": [
       "          clientid        income          age          loan      default\n",
       "count  2000.000000   2000.000000  1997.000000   2000.000000  2000.000000\n",
       "mean   1000.500000  45331.600018    40.807559   4444.369695     0.141500\n",
       "std     577.494589  14326.327119    13.624469   3045.410024     0.348624\n",
       "min       1.000000  20014.489470   -52.423280      1.377630     0.000000\n",
       "25%     500.750000  32796.459717    28.990415   1939.708847     0.000000\n",
       "50%    1000.500000  45789.117313    41.317159   3974.719419     0.000000\n",
       "75%    1500.250000  57791.281668    52.587040   6432.410625     0.000000\n",
       "max    2000.000000  69995.685578    63.971796  13766.051239     1.000000"
      ]
     },
     "execution_count": 1213,
     "metadata": {},
     "output_type": "execute_result"
    }
   ],
   "source": [
    "credit_risk.describe()"
   ]
  },
  {
   "cell_type": "code",
   "execution_count": 1214,
   "metadata": {},
   "outputs": [
    {
     "data": {
      "image/png": "[encoded data removed]",
      "text/plain": [
       "<Figure size 432x288 with 1 Axes>"
      ]
     },
     "metadata": {
      "needs_background": "light"
     },
     "output_type": "display_data"
    }
   ],
   "source": [
    "sns.boxplot(x = 'default', y = 'loan', data=credit_risk);"
   ]
  },
  {
   "cell_type": "code",
   "execution_count": 1215,
   "metadata": {},
   "outputs": [
    {
     "data": {
      "image/png": "[encoded data removed]",
      "text/plain": [
       "<Figure size 432x288 with 1 Axes>"
      ]
     },
     "metadata": {
      "needs_background": "light"
     },
     "output_type": "display_data"
    }
   ],
   "source": [
    "sns.boxplot(x = 'default', y = 'age', data=credit_risk);"
   ]
  },
  {
   "cell_type": "code",
   "execution_count": 1216,
   "metadata": {},
   "outputs": [
    {
     "data": {
      "image/png": "[encoded data removed]",
      "text/plain": [
       "<Figure size 360x360 with 1 Axes>"
      ]
     },
     "metadata": {
      "needs_background": "light"
     },
     "output_type": "display_data"
    }
   ],
   "source": [
    "fig, ax = plt.subplots(figsize=(5, 5))\n",
    "ax.hist(x = 'loan', data=credit_risk)\n",
    "ax.set_xlabel('Quantity of the loan', fontweight='bold')\n",
    "ax.set_ylabel('Quantity of customers', fontweight='bold')\n",
    "plt.show()"
   ]
  },
  {
   "cell_type": "code",
   "execution_count": 1217,
   "metadata": {},
   "outputs": [
    {
     "data": {
      "image/png": "[encoded data removed]",
      "text/plain": [
       "<Figure size 432x288 with 1 Axes>"
      ]
     },
     "metadata": {
      "needs_background": "light"
     },
     "output_type": "display_data"
    }
   ],
   "source": [
    "sns.countplot(x = 'default', data = credit_risk);"
   ]
  },
  {
   "cell_type": "markdown",
   "metadata": {},
   "source": [
    "## Changing wrong or non-existent values"
   ]
  },
  {
   "cell_type": "code",
   "execution_count": 1218,
   "metadata": {},
   "outputs": [
    {
     "data": {
      "text/html": [
       "<div>\n",
       "<style scoped>\n",
       "    .dataframe tbody tr th:only-of-type {\n",
       "        vertical-align: middle;\n",
       "    }\n",
       "\n",
       "    .dataframe tbody tr th {\n",
       "        vertical-align: top;\n",
       "    }\n",
       "\n",
       "    .dataframe thead th {\n",
       "        text-align: right;\n",
       "    }\n",
       "</style>\n",
       "<table border=\"1\" class=\"dataframe\">\n",
       "  <thead>\n",
       "    <tr style=\"text-align: right;\">\n",
       "      <th></th>\n",
       "      <th>clientid</th>\n",
       "      <th>income</th>\n",
       "      <th>age</th>\n",
       "      <th>loan</th>\n",
       "      <th>default</th>\n",
       "    </tr>\n",
       "  </thead>\n",
       "  <tbody>\n",
       "    <tr>\n",
       "      <th>15</th>\n",
       "      <td>16</td>\n",
       "      <td>50501.726689</td>\n",
       "      <td>-28.218361</td>\n",
       "      <td>3977.287432</td>\n",
       "      <td>0</td>\n",
       "    </tr>\n",
       "    <tr>\n",
       "      <th>21</th>\n",
       "      <td>22</td>\n",
       "      <td>32197.620701</td>\n",
       "      <td>-52.423280</td>\n",
       "      <td>4244.057136</td>\n",
       "      <td>0</td>\n",
       "    </tr>\n",
       "    <tr>\n",
       "      <th>26</th>\n",
       "      <td>27</td>\n",
       "      <td>63287.038908</td>\n",
       "      <td>-36.496976</td>\n",
       "      <td>9595.286289</td>\n",
       "      <td>0</td>\n",
       "    </tr>\n",
       "  </tbody>\n",
       "</table>\n",
       "</div>"
      ],
      "text/plain": [
       "    clientid        income        age         loan  default\n",
       "15        16  50501.726689 -28.218361  3977.287432        0\n",
       "21        22  32197.620701 -52.423280  4244.057136        0\n",
       "26        27  63287.038908 -36.496976  9595.286289        0"
      ]
     },
     "execution_count": 1218,
     "metadata": {},
     "output_type": "execute_result"
    }
   ],
   "source": [
    "credit_risk.loc[credit_risk['age'] < 0]"
   ]
  },
  {
   "cell_type": "code",
   "execution_count": 1219,
   "metadata": {},
   "outputs": [
    {
     "data": {
      "text/plain": [
       "clientid     1000.500000\n",
       "income      45331.600018\n",
       "age            40.807559\n",
       "loan         4444.369695\n",
       "default         0.141500\n",
       "dtype: float64"
      ]
     },
     "execution_count": 1219,
     "metadata": {},
     "output_type": "execute_result"
    }
   ],
   "source": [
    "credit_risk.mean()"
   ]
  },
  {
   "cell_type": "code",
   "execution_count": 1220,
   "metadata": {},
   "outputs": [],
   "source": [
    "credit_risk.loc[credit_risk['age'] < 0, 'age'] = 40.807559"
   ]
  },
  {
   "cell_type": "code",
   "execution_count": 1221,
   "metadata": {},
   "outputs": [
    {
     "data": {
      "text/html": [
       "<div>\n",
       "<style scoped>\n",
       "    .dataframe tbody tr th:only-of-type {\n",
       "        vertical-align: middle;\n",
       "    }\n",
       "\n",
       "    .dataframe tbody tr th {\n",
       "        vertical-align: top;\n",
       "    }\n",
       "\n",
       "    .dataframe thead th {\n",
       "        text-align: right;\n",
       "    }\n",
       "</style>\n",
       "<table border=\"1\" class=\"dataframe\">\n",
       "  <thead>\n",
       "    <tr style=\"text-align: right;\">\n",
       "      <th></th>\n",
       "      <th>clientid</th>\n",
       "      <th>income</th>\n",
       "      <th>age</th>\n",
       "      <th>loan</th>\n",
       "      <th>default</th>\n",
       "    </tr>\n",
       "  </thead>\n",
       "  <tbody>\n",
       "  </tbody>\n",
       "</table>\n",
       "</div>"
      ],
      "text/plain": [
       "Empty DataFrame\n",
       "Columns: [clientid, income, age, loan, default]\n",
       "Index: []"
      ]
     },
     "execution_count": 1221,
     "metadata": {},
     "output_type": "execute_result"
    }
   ],
   "source": [
    "credit_risk.loc[credit_risk['age'] < 0]"
   ]
  },
  {
   "cell_type": "code",
   "execution_count": 1222,
   "metadata": {},
   "outputs": [
    {
     "data": {
      "text/plain": [
       "clientid    0\n",
       "income      0\n",
       "age         3\n",
       "loan        0\n",
       "default     0\n",
       "dtype: int64"
      ]
     },
     "execution_count": 1222,
     "metadata": {},
     "output_type": "execute_result"
    }
   ],
   "source": [
    "credit_risk.isnull().sum()"
   ]
  },
  {
   "cell_type": "code",
   "execution_count": 1223,
   "metadata": {},
   "outputs": [
    {
     "data": {
      "text/plain": [
       "28   NaN\n",
       "30   NaN\n",
       "31   NaN\n",
       "Name: age, dtype: float64"
      ]
     },
     "execution_count": 1223,
     "metadata": {},
     "output_type": "execute_result"
    }
   ],
   "source": [
    "credit_risk['age'].loc[pd.isnull]"
   ]
  },
  {
   "cell_type": "code",
   "execution_count": 1224,
   "metadata": {},
   "outputs": [
    {
     "name": "stderr",
     "output_type": "stream",
     "text": [
      "/tmp/ipykernel_14769/3313015594.py:1: SettingWithCopyWarning: \n",
      "A value is trying to be set on a copy of a slice from a DataFrame\n",
      "\n",
      "See the caveats in the documentation: https://pandas.pydata.org/pandas-docs/stable/user_guide/indexing.html#returning-a-view-versus-a-copy\n",
      "  credit_risk['age'].loc[pd.isnull] = 40.807559\n"
     ]
    }
   ],
   "source": [
    "credit_risk['age'].loc[pd.isnull] = 40.807559"
   ]
  },
  {
   "cell_type": "code",
   "execution_count": 1225,
   "metadata": {},
   "outputs": [
    {
     "data": {
      "text/plain": [
       "clientid    0\n",
       "income      0\n",
       "age         0\n",
       "loan        0\n",
       "default     0\n",
       "dtype: int64"
      ]
     },
     "execution_count": 1225,
     "metadata": {},
     "output_type": "execute_result"
    }
   ],
   "source": [
    "credit_risk.isnull().sum()"
   ]
  },
  {
   "cell_type": "code",
   "execution_count": 1226,
   "metadata": {},
   "outputs": [
    {
     "data": {
      "text/html": [
       "<div>\n",
       "<style scoped>\n",
       "    .dataframe tbody tr th:only-of-type {\n",
       "        vertical-align: middle;\n",
       "    }\n",
       "\n",
       "    .dataframe tbody tr th {\n",
       "        vertical-align: top;\n",
       "    }\n",
       "\n",
       "    .dataframe thead th {\n",
       "        text-align: right;\n",
       "    }\n",
       "</style>\n",
       "<table border=\"1\" class=\"dataframe\">\n",
       "  <thead>\n",
       "    <tr style=\"text-align: right;\">\n",
       "      <th></th>\n",
       "      <th>clientid</th>\n",
       "      <th>income</th>\n",
       "      <th>age</th>\n",
       "      <th>loan</th>\n",
       "      <th>default</th>\n",
       "    </tr>\n",
       "  </thead>\n",
       "  <tbody>\n",
       "    <tr>\n",
       "      <th>0</th>\n",
       "      <td>1</td>\n",
       "      <td>66155.925095</td>\n",
       "      <td>59.017015</td>\n",
       "      <td>8106.532131</td>\n",
       "      <td>0</td>\n",
       "    </tr>\n",
       "    <tr>\n",
       "      <th>1</th>\n",
       "      <td>2</td>\n",
       "      <td>34415.153966</td>\n",
       "      <td>48.117153</td>\n",
       "      <td>6564.745018</td>\n",
       "      <td>0</td>\n",
       "    </tr>\n",
       "    <tr>\n",
       "      <th>2</th>\n",
       "      <td>3</td>\n",
       "      <td>57317.170063</td>\n",
       "      <td>63.108049</td>\n",
       "      <td>8020.953296</td>\n",
       "      <td>0</td>\n",
       "    </tr>\n",
       "    <tr>\n",
       "      <th>3</th>\n",
       "      <td>4</td>\n",
       "      <td>42709.534201</td>\n",
       "      <td>45.751972</td>\n",
       "      <td>6103.642260</td>\n",
       "      <td>0</td>\n",
       "    </tr>\n",
       "    <tr>\n",
       "      <th>4</th>\n",
       "      <td>5</td>\n",
       "      <td>66952.688845</td>\n",
       "      <td>18.584336</td>\n",
       "      <td>8770.099235</td>\n",
       "      <td>1</td>\n",
       "    </tr>\n",
       "    <tr>\n",
       "      <th>5</th>\n",
       "      <td>6</td>\n",
       "      <td>24904.064140</td>\n",
       "      <td>57.471607</td>\n",
       "      <td>15.498598</td>\n",
       "      <td>0</td>\n",
       "    </tr>\n",
       "    <tr>\n",
       "      <th>6</th>\n",
       "      <td>7</td>\n",
       "      <td>48430.359613</td>\n",
       "      <td>26.809132</td>\n",
       "      <td>5722.581981</td>\n",
       "      <td>0</td>\n",
       "    </tr>\n",
       "    <tr>\n",
       "      <th>7</th>\n",
       "      <td>8</td>\n",
       "      <td>24500.141984</td>\n",
       "      <td>32.897548</td>\n",
       "      <td>2971.003310</td>\n",
       "      <td>1</td>\n",
       "    </tr>\n",
       "    <tr>\n",
       "      <th>8</th>\n",
       "      <td>9</td>\n",
       "      <td>40654.892537</td>\n",
       "      <td>55.496853</td>\n",
       "      <td>4755.825280</td>\n",
       "      <td>0</td>\n",
       "    </tr>\n",
       "    <tr>\n",
       "      <th>9</th>\n",
       "      <td>10</td>\n",
       "      <td>25075.872771</td>\n",
       "      <td>39.776378</td>\n",
       "      <td>1409.230371</td>\n",
       "      <td>0</td>\n",
       "    </tr>\n",
       "    <tr>\n",
       "      <th>10</th>\n",
       "      <td>11</td>\n",
       "      <td>64131.415372</td>\n",
       "      <td>25.679575</td>\n",
       "      <td>4351.028971</td>\n",
       "      <td>0</td>\n",
       "    </tr>\n",
       "    <tr>\n",
       "      <th>11</th>\n",
       "      <td>12</td>\n",
       "      <td>59436.847123</td>\n",
       "      <td>60.471936</td>\n",
       "      <td>9254.244538</td>\n",
       "      <td>0</td>\n",
       "    </tr>\n",
       "    <tr>\n",
       "      <th>12</th>\n",
       "      <td>13</td>\n",
       "      <td>61050.346079</td>\n",
       "      <td>26.355044</td>\n",
       "      <td>5893.264659</td>\n",
       "      <td>0</td>\n",
       "    </tr>\n",
       "    <tr>\n",
       "      <th>13</th>\n",
       "      <td>14</td>\n",
       "      <td>27267.995458</td>\n",
       "      <td>61.576776</td>\n",
       "      <td>4759.787581</td>\n",
       "      <td>0</td>\n",
       "    </tr>\n",
       "    <tr>\n",
       "      <th>14</th>\n",
       "      <td>15</td>\n",
       "      <td>63061.960174</td>\n",
       "      <td>39.201553</td>\n",
       "      <td>1850.369377</td>\n",
       "      <td>0</td>\n",
       "    </tr>\n",
       "    <tr>\n",
       "      <th>15</th>\n",
       "      <td>16</td>\n",
       "      <td>50501.726689</td>\n",
       "      <td>40.807559</td>\n",
       "      <td>3977.287432</td>\n",
       "      <td>0</td>\n",
       "    </tr>\n",
       "    <tr>\n",
       "      <th>16</th>\n",
       "      <td>17</td>\n",
       "      <td>43548.654711</td>\n",
       "      <td>39.574530</td>\n",
       "      <td>3935.544453</td>\n",
       "      <td>0</td>\n",
       "    </tr>\n",
       "    <tr>\n",
       "      <th>17</th>\n",
       "      <td>18</td>\n",
       "      <td>43378.175194</td>\n",
       "      <td>60.848318</td>\n",
       "      <td>3277.737553</td>\n",
       "      <td>0</td>\n",
       "    </tr>\n",
       "    <tr>\n",
       "      <th>18</th>\n",
       "      <td>19</td>\n",
       "      <td>20542.365073</td>\n",
       "      <td>61.690571</td>\n",
       "      <td>3157.442290</td>\n",
       "      <td>0</td>\n",
       "    </tr>\n",
       "    <tr>\n",
       "      <th>19</th>\n",
       "      <td>20</td>\n",
       "      <td>58887.357549</td>\n",
       "      <td>26.076093</td>\n",
       "      <td>4965.516066</td>\n",
       "      <td>0</td>\n",
       "    </tr>\n",
       "    <tr>\n",
       "      <th>20</th>\n",
       "      <td>21</td>\n",
       "      <td>23000.784002</td>\n",
       "      <td>31.761354</td>\n",
       "      <td>1148.118057</td>\n",
       "      <td>0</td>\n",
       "    </tr>\n",
       "    <tr>\n",
       "      <th>21</th>\n",
       "      <td>22</td>\n",
       "      <td>32197.620701</td>\n",
       "      <td>40.807559</td>\n",
       "      <td>4244.057136</td>\n",
       "      <td>0</td>\n",
       "    </tr>\n",
       "    <tr>\n",
       "      <th>22</th>\n",
       "      <td>23</td>\n",
       "      <td>23329.319414</td>\n",
       "      <td>48.576975</td>\n",
       "      <td>222.622299</td>\n",
       "      <td>0</td>\n",
       "    </tr>\n",
       "    <tr>\n",
       "      <th>23</th>\n",
       "      <td>24</td>\n",
       "      <td>27845.800894</td>\n",
       "      <td>51.970624</td>\n",
       "      <td>4959.921226</td>\n",
       "      <td>0</td>\n",
       "    </tr>\n",
       "    <tr>\n",
       "      <th>24</th>\n",
       "      <td>25</td>\n",
       "      <td>65301.984029</td>\n",
       "      <td>48.840922</td>\n",
       "      <td>5465.267886</td>\n",
       "      <td>0</td>\n",
       "    </tr>\n",
       "    <tr>\n",
       "      <th>25</th>\n",
       "      <td>26</td>\n",
       "      <td>47451.630123</td>\n",
       "      <td>27.031741</td>\n",
       "      <td>5361.282716</td>\n",
       "      <td>0</td>\n",
       "    </tr>\n",
       "    <tr>\n",
       "      <th>26</th>\n",
       "      <td>27</td>\n",
       "      <td>63287.038908</td>\n",
       "      <td>40.807559</td>\n",
       "      <td>9595.286289</td>\n",
       "      <td>0</td>\n",
       "    </tr>\n",
       "    <tr>\n",
       "      <th>27</th>\n",
       "      <td>28</td>\n",
       "      <td>45727.459870</td>\n",
       "      <td>55.839922</td>\n",
       "      <td>6376.822949</td>\n",
       "      <td>0</td>\n",
       "    </tr>\n",
       "    <tr>\n",
       "      <th>28</th>\n",
       "      <td>29</td>\n",
       "      <td>59417.805406</td>\n",
       "      <td>40.807559</td>\n",
       "      <td>2082.625938</td>\n",
       "      <td>0</td>\n",
       "    </tr>\n",
       "    <tr>\n",
       "      <th>29</th>\n",
       "      <td>30</td>\n",
       "      <td>58842.891308</td>\n",
       "      <td>54.510948</td>\n",
       "      <td>10871.186790</td>\n",
       "      <td>0</td>\n",
       "    </tr>\n",
       "    <tr>\n",
       "      <th>30</th>\n",
       "      <td>31</td>\n",
       "      <td>48528.852796</td>\n",
       "      <td>40.807559</td>\n",
       "      <td>6155.784670</td>\n",
       "      <td>0</td>\n",
       "    </tr>\n",
       "    <tr>\n",
       "      <th>31</th>\n",
       "      <td>32</td>\n",
       "      <td>23526.302555</td>\n",
       "      <td>40.807559</td>\n",
       "      <td>2862.010139</td>\n",
       "      <td>0</td>\n",
       "    </tr>\n",
       "  </tbody>\n",
       "</table>\n",
       "</div>"
      ],
      "text/plain": [
       "    clientid        income        age          loan  default\n",
       "0          1  66155.925095  59.017015   8106.532131        0\n",
       "1          2  34415.153966  48.117153   6564.745018        0\n",
       "2          3  57317.170063  63.108049   8020.953296        0\n",
       "3          4  42709.534201  45.751972   6103.642260        0\n",
       "4          5  66952.688845  18.584336   8770.099235        1\n",
       "5          6  24904.064140  57.471607     15.498598        0\n",
       "6          7  48430.359613  26.809132   5722.581981        0\n",
       "7          8  24500.141984  32.897548   2971.003310        1\n",
       "8          9  40654.892537  55.496853   4755.825280        0\n",
       "9         10  25075.872771  39.776378   1409.230371        0\n",
       "10        11  64131.415372  25.679575   4351.028971        0\n",
       "11        12  59436.847123  60.471936   9254.244538        0\n",
       "12        13  61050.346079  26.355044   5893.264659        0\n",
       "13        14  27267.995458  61.576776   4759.787581        0\n",
       "14        15  63061.960174  39.201553   1850.369377        0\n",
       "15        16  50501.726689  40.807559   3977.287432        0\n",
       "16        17  43548.654711  39.574530   3935.544453        0\n",
       "17        18  43378.175194  60.848318   3277.737553        0\n",
       "18        19  20542.365073  61.690571   3157.442290        0\n",
       "19        20  58887.357549  26.076093   4965.516066        0\n",
       "20        21  23000.784002  31.761354   1148.118057        0\n",
       "21        22  32197.620701  40.807559   4244.057136        0\n",
       "22        23  23329.319414  48.576975    222.622299        0\n",
       "23        24  27845.800894  51.970624   4959.921226        0\n",
       "24        25  65301.984029  48.840922   5465.267886        0\n",
       "25        26  47451.630123  27.031741   5361.282716        0\n",
       "26        27  63287.038908  40.807559   9595.286289        0\n",
       "27        28  45727.459870  55.839922   6376.822949        0\n",
       "28        29  59417.805406  40.807559   2082.625938        0\n",
       "29        30  58842.891308  54.510948  10871.186790        0\n",
       "30        31  48528.852796  40.807559   6155.784670        0\n",
       "31        32  23526.302555  40.807559   2862.010139        0"
      ]
     },
     "execution_count": 1226,
     "metadata": {},
     "output_type": "execute_result"
    }
   ],
   "source": [
    "credit_risk.head(32)"
   ]
  },
  {
   "cell_type": "markdown",
   "metadata": {},
   "source": [
    "## Dividing predictors and class"
   ]
  },
  {
   "cell_type": "code",
   "execution_count": 1227,
   "metadata": {},
   "outputs": [
    {
     "data": {
      "text/plain": [
       "array([[6.61559251e+04, 5.90170151e+01, 8.10653213e+03],\n",
       "       [3.44151540e+04, 4.81171531e+01, 6.56474502e+03],\n",
       "       [5.73171701e+04, 6.31080495e+01, 8.02095330e+03],\n",
       "       ...,\n",
       "       [4.43114493e+04, 2.80171669e+01, 5.52278669e+03],\n",
       "       [4.37560566e+04, 6.39717958e+01, 1.62272260e+03],\n",
       "       [6.94365796e+04, 5.61526170e+01, 7.37883360e+03]])"
      ]
     },
     "execution_count": 1227,
     "metadata": {},
     "output_type": "execute_result"
    }
   ],
   "source": [
    "x = credit_risk.iloc[:, 1:4].values\n",
    "x"
   ]
  },
  {
   "cell_type": "code",
   "execution_count": 1228,
   "metadata": {},
   "outputs": [
    {
     "data": {
      "text/plain": [
       "array([0, 0, 0, ..., 1, 0, 0])"
      ]
     },
     "execution_count": 1228,
     "metadata": {},
     "output_type": "execute_result"
    }
   ],
   "source": [
    "y = credit_risk.iloc[:, 4].values\n",
    "y"
   ]
  },
  {
   "cell_type": "markdown",
   "metadata": {},
   "source": [
    "## Tranforming the values with standard scaler"
   ]
  },
  {
   "cell_type": "code",
   "execution_count": 1229,
   "metadata": {},
   "outputs": [],
   "source": [
    "from sklearn.preprocessing import StandardScaler"
   ]
  },
  {
   "cell_type": "code",
   "execution_count": 1230,
   "metadata": {},
   "outputs": [],
   "source": [
    "standard_scaler = StandardScaler()\n",
    "\n",
    "x = standard_scaler.fit_transform(x)"
   ]
  },
  {
   "cell_type": "code",
   "execution_count": 1231,
   "metadata": {},
   "outputs": [
    {
     "data": {
      "text/plain": [
       "array([[ 1.45393393,  1.36540709,  1.20281942],\n",
       "       [-0.76217555,  0.54268646,  0.69642695],\n",
       "       [ 0.83682073,  1.67419801,  1.17471147],\n",
       "       ...,\n",
       "       [-0.07122592, -0.97445874,  0.35420081],\n",
       "       [-0.11000289,  1.73939351, -0.92675625],\n",
       "       [ 1.682986  ,  1.14920258,  0.96381038]])"
      ]
     },
     "execution_count": 1231,
     "metadata": {},
     "output_type": "execute_result"
    }
   ],
   "source": [
    "x"
   ]
  },
  {
   "cell_type": "markdown",
   "metadata": {},
   "source": [
    "## Dividing the base between train and test"
   ]
  },
  {
   "cell_type": "code",
   "execution_count": 1232,
   "metadata": {},
   "outputs": [],
   "source": [
    "from sklearn.model_selection import train_test_split"
   ]
  },
  {
   "cell_type": "code",
   "execution_count": 1233,
   "metadata": {},
   "outputs": [],
   "source": [
    "x_train, x_test, y_train, y_test = train_test_split(x, y, train_size=0.25, random_state = 0)"
   ]
  },
  {
   "cell_type": "code",
   "execution_count": 1234,
   "metadata": {},
   "outputs": [
    {
     "data": {
      "text/plain": [
       "array([[ 1.15633445, -1.64149438,  0.52347354],\n",
       "       [ 1.33607095,  1.69627888, -1.28842259],\n",
       "       [-1.33869748, -1.36621678, -0.70568343],\n",
       "       ...,\n",
       "       [ 0.21738243, -0.14701769,  1.40872498],\n",
       "       [ 0.58716195,  0.66438118,  0.67948086],\n",
       "       [ 0.68315357,  0.04087579,  1.91819744]])"
      ]
     },
     "execution_count": 1234,
     "metadata": {},
     "output_type": "execute_result"
    }
   ],
   "source": [
    "x_train"
   ]
  },
  {
   "cell_type": "code",
   "execution_count": 1235,
   "metadata": {},
   "outputs": [
    {
     "data": {
      "text/plain": [
       "array([[ 1.59301567, -1.35433196,  2.58262733],\n",
       "       [ 0.99769755,  0.99809193,  0.84418709],\n",
       "       [-0.42485257,  0.55815249, -1.15785286],\n",
       "       ...,\n",
       "       [ 1.63591661, -1.50477483, -0.54115191],\n",
       "       [-1.63024494, -0.45377193, -0.05885605],\n",
       "       [-0.41442961, -0.34395206,  1.02261511]])"
      ]
     },
     "execution_count": 1235,
     "metadata": {},
     "output_type": "execute_result"
    }
   ],
   "source": [
    "x_test"
   ]
  },
  {
   "cell_type": "markdown",
   "metadata": {},
   "source": [
    "## Using neural networks to predict if the customer will or not pay the loan"
   ]
  },
  {
   "cell_type": "code",
   "execution_count": 1236,
   "metadata": {},
   "outputs": [],
   "source": [
    "from sklearn.neural_network import MLPClassifier"
   ]
  },
  {
   "cell_type": "code",
   "execution_count": 1237,
   "metadata": {},
   "outputs": [
    {
     "data": {
      "text/plain": [
       "array([[ 1.15633445, -1.64149438,  0.52347354],\n",
       "       [ 1.33607095,  1.69627888, -1.28842259],\n",
       "       [-1.33869748, -1.36621678, -0.70568343],\n",
       "       ...,\n",
       "       [ 0.21738243, -0.14701769,  1.40872498],\n",
       "       [ 0.58716195,  0.66438118,  0.67948086],\n",
       "       [ 0.68315357,  0.04087579,  1.91819744]])"
      ]
     },
     "execution_count": 1237,
     "metadata": {},
     "output_type": "execute_result"
    }
   ],
   "source": [
    "x_train"
   ]
  },
  {
   "cell_type": "code",
   "execution_count": 1238,
   "metadata": {},
   "outputs": [
    {
     "data": {
      "text/plain": [
       "array([0, 0, 0, 0, 0, 0, 0, 0, 0, 0, 1, 0, 0, 1, 0, 0, 1, 0, 0, 0, 0, 0,\n",
       "       0, 0, 0, 0, 0, 0, 1, 0, 0, 0, 0, 1, 0, 0, 0, 0, 0, 0, 0, 0, 1, 0,\n",
       "       0, 0, 0, 0, 1, 0, 0, 0, 0, 0, 0, 1, 1, 0, 1, 0, 0, 0, 1, 0, 0, 0,\n",
       "       0, 0, 0, 1, 0, 1, 0, 0, 0, 0, 0, 0, 0, 0, 0, 0, 0, 0, 1, 0, 0, 0,\n",
       "       1, 0, 0, 0, 0, 0, 0, 0, 0, 0, 0, 0, 0, 0, 0, 0, 0, 0, 0, 1, 0, 0,\n",
       "       0, 0, 0, 0, 0, 0, 1, 0, 0, 0, 0, 0, 0, 0, 0, 0, 0, 1, 1, 1, 0, 0,\n",
       "       0, 0, 0, 1, 0, 0, 1, 0, 0, 0, 1, 0, 1, 1, 0, 1, 0, 0, 0, 0, 1, 0,\n",
       "       0, 0, 0, 0, 0, 0, 0, 0, 0, 0, 0, 0, 0, 0, 0, 0, 0, 0, 0, 0, 0, 0,\n",
       "       0, 0, 0, 0, 0, 0, 1, 0, 0, 0, 0, 0, 0, 0, 0, 0, 0, 0, 0, 0, 0, 0,\n",
       "       0, 0, 1, 0, 0, 0, 0, 0, 1, 0, 0, 0, 0, 0, 0, 0, 0, 0, 0, 0, 0, 0,\n",
       "       0, 0, 0, 0, 0, 0, 0, 0, 0, 1, 0, 0, 0, 0, 0, 0, 0, 1, 0, 0, 1, 0,\n",
       "       1, 1, 0, 0, 0, 0, 1, 0, 1, 0, 0, 0, 0, 1, 0, 0, 0, 1, 1, 0, 0, 0,\n",
       "       0, 0, 0, 0, 1, 0, 0, 0, 0, 1, 0, 0, 0, 0, 0, 0, 0, 0, 0, 0, 0, 0,\n",
       "       0, 0, 0, 0, 0, 0, 0, 0, 1, 0, 0, 1, 1, 1, 0, 1, 0, 1, 0, 0, 0, 0,\n",
       "       1, 0, 0, 0, 0, 0, 0, 0, 0, 0, 0, 0, 1, 0, 0, 0, 0, 0, 1, 0, 0, 0,\n",
       "       0, 0, 0, 0, 0, 0, 0, 1, 0, 0, 0, 0, 1, 0, 1, 0, 0, 0, 0, 0, 0, 0,\n",
       "       0, 0, 1, 0, 0, 0, 0, 0, 0, 0, 0, 0, 0, 1, 1, 0, 0, 0, 0, 0, 0, 1,\n",
       "       0, 0, 1, 0, 0, 0, 0, 0, 0, 0, 0, 0, 0, 0, 0, 0, 1, 0, 0, 0, 0, 0,\n",
       "       0, 0, 0, 0, 0, 0, 0, 0, 0, 1, 0, 0, 0, 0, 0, 0, 0, 0, 0, 0, 0, 0,\n",
       "       0, 0, 0, 0, 0, 0, 0, 0, 0, 0, 1, 0, 1, 1, 0, 0, 0, 0, 0, 0, 0, 0,\n",
       "       0, 0, 0, 0, 1, 1, 0, 1, 0, 1, 0, 0, 0, 1, 0, 0, 0, 0, 0, 1, 0, 0,\n",
       "       0, 0, 0, 0, 0, 0, 1, 0, 1, 0, 0, 0, 0, 0, 0, 0, 0, 0, 0, 0, 0, 0,\n",
       "       0, 0, 0, 0, 0, 1, 0, 0, 0, 1, 1, 0, 0, 0, 0, 0])"
      ]
     },
     "execution_count": 1238,
     "metadata": {},
     "output_type": "execute_result"
    }
   ],
   "source": [
    "y_train"
   ]
  },
  {
   "cell_type": "code",
   "execution_count": 1239,
   "metadata": {},
   "outputs": [
    {
     "name": "stdout",
     "output_type": "stream",
     "text": [
      "Iteration 1, loss = 0.51784070\n",
      "Iteration 2, loss = 0.48362561\n",
      "Iteration 3, loss = 0.45265626\n",
      "Iteration 4, loss = 0.42515854\n",
      "Iteration 5, loss = 0.40112468\n",
      "Iteration 6, loss = 0.38000828\n",
      "Iteration 7, loss = 0.36087602\n",
      "Iteration 8, loss = 0.34393505\n",
      "Iteration 9, loss = 0.32860325\n",
      "Iteration 10, loss = 0.31483679\n",
      "Iteration 11, loss = 0.30249146\n",
      "Iteration 12, loss = 0.29086788\n",
      "Iteration 13, loss = 0.28021271\n",
      "Iteration 14, loss = 0.27045761\n",
      "Iteration 15, loss = 0.26117584\n",
      "Iteration 16, loss = 0.25266545\n",
      "Iteration 17, loss = 0.24483817\n",
      "Iteration 18, loss = 0.23708130\n",
      "Iteration 19, loss = 0.23002980\n",
      "Iteration 20, loss = 0.22372465\n",
      "Iteration 21, loss = 0.21731498\n",
      "Iteration 22, loss = 0.21159742\n",
      "Iteration 23, loss = 0.20613568\n",
      "Iteration 24, loss = 0.20110456\n",
      "Iteration 25, loss = 0.19608481\n",
      "Iteration 26, loss = 0.19146491\n",
      "Iteration 27, loss = 0.18721394\n",
      "Iteration 28, loss = 0.18290497\n",
      "Iteration 29, loss = 0.17921379\n",
      "Iteration 30, loss = 0.17513875\n",
      "Iteration 31, loss = 0.17154910\n",
      "Iteration 32, loss = 0.16829839\n",
      "Iteration 33, loss = 0.16499392\n",
      "Iteration 34, loss = 0.16190279\n",
      "Iteration 35, loss = 0.15897546\n",
      "Iteration 36, loss = 0.15615103\n",
      "Iteration 37, loss = 0.15364310\n",
      "Iteration 38, loss = 0.15093134\n",
      "Iteration 39, loss = 0.14859805\n",
      "Iteration 40, loss = 0.14618642\n",
      "Iteration 41, loss = 0.14404935\n",
      "Iteration 42, loss = 0.14197028\n",
      "Iteration 43, loss = 0.13999607\n",
      "Iteration 44, loss = 0.13804038\n",
      "Iteration 45, loss = 0.13629822\n",
      "Iteration 46, loss = 0.13467969\n",
      "Iteration 47, loss = 0.13299387\n",
      "Iteration 48, loss = 0.13134323\n",
      "Iteration 49, loss = 0.12988187\n",
      "Iteration 50, loss = 0.12844160\n",
      "Iteration 51, loss = 0.12696440\n",
      "Iteration 52, loss = 0.12567333\n",
      "Iteration 53, loss = 0.12439621\n",
      "Iteration 54, loss = 0.12326595\n",
      "Iteration 55, loss = 0.12201269\n",
      "Iteration 56, loss = 0.12086633\n",
      "Iteration 57, loss = 0.11980063\n",
      "Iteration 58, loss = 0.11874537\n",
      "Iteration 59, loss = 0.11772911\n",
      "Iteration 60, loss = 0.11668910\n",
      "Iteration 61, loss = 0.11583794\n",
      "Iteration 62, loss = 0.11487803\n",
      "Iteration 63, loss = 0.11399104\n",
      "Iteration 64, loss = 0.11317239\n",
      "Iteration 65, loss = 0.11233770\n",
      "Iteration 66, loss = 0.11147655\n",
      "Iteration 67, loss = 0.11072724\n",
      "Iteration 68, loss = 0.11003439\n",
      "Iteration 69, loss = 0.10937402\n",
      "Iteration 70, loss = 0.10872218\n",
      "Iteration 71, loss = 0.10796635\n",
      "Iteration 72, loss = 0.10748319\n",
      "Iteration 73, loss = 0.10675748\n",
      "Iteration 74, loss = 0.10620312\n",
      "Iteration 75, loss = 0.10545992\n",
      "Iteration 76, loss = 0.10491361\n",
      "Iteration 77, loss = 0.10441361\n",
      "Iteration 78, loss = 0.10383039\n",
      "Iteration 79, loss = 0.10330679\n",
      "Iteration 80, loss = 0.10266216\n",
      "Iteration 81, loss = 0.10227899\n",
      "Iteration 82, loss = 0.10170279\n",
      "Iteration 83, loss = 0.10121306\n",
      "Iteration 84, loss = 0.10083545\n",
      "Iteration 85, loss = 0.10023913\n",
      "Iteration 86, loss = 0.09979531\n",
      "Iteration 87, loss = 0.09930265\n",
      "Iteration 88, loss = 0.09887450\n",
      "Iteration 89, loss = 0.09848761\n",
      "Iteration 90, loss = 0.09805626\n",
      "Iteration 91, loss = 0.09764609\n",
      "Iteration 92, loss = 0.09720220\n",
      "Iteration 93, loss = 0.09682528\n",
      "Iteration 94, loss = 0.09636345\n",
      "Iteration 95, loss = 0.09595075\n",
      "Iteration 96, loss = 0.09561227\n",
      "Iteration 97, loss = 0.09510313\n",
      "Iteration 98, loss = 0.09471881\n",
      "Iteration 99, loss = 0.09434676\n",
      "Iteration 100, loss = 0.09391533\n",
      "Iteration 101, loss = 0.09370770\n",
      "Iteration 102, loss = 0.09325990\n",
      "Iteration 103, loss = 0.09284273\n",
      "Iteration 104, loss = 0.09249964\n",
      "Iteration 105, loss = 0.09213996\n",
      "Iteration 106, loss = 0.09192953\n",
      "Iteration 107, loss = 0.09143561\n",
      "Iteration 108, loss = 0.09110386\n",
      "Iteration 109, loss = 0.09083106\n",
      "Iteration 110, loss = 0.09060812\n",
      "Iteration 111, loss = 0.09008697\n",
      "Iteration 112, loss = 0.08977910\n",
      "Iteration 113, loss = 0.08945784\n",
      "Iteration 114, loss = 0.08916962\n",
      "Iteration 115, loss = 0.08911772\n",
      "Iteration 116, loss = 0.08856438\n",
      "Iteration 117, loss = 0.08817403\n",
      "Iteration 118, loss = 0.08776452\n",
      "Iteration 119, loss = 0.08751835\n",
      "Iteration 120, loss = 0.08729244\n",
      "Iteration 121, loss = 0.08695066\n",
      "Iteration 122, loss = 0.08660953\n",
      "Iteration 123, loss = 0.08621268\n",
      "Iteration 124, loss = 0.08588672\n",
      "Iteration 125, loss = 0.08576720\n",
      "Iteration 126, loss = 0.08546387\n",
      "Iteration 127, loss = 0.08516074\n",
      "Iteration 128, loss = 0.08487196\n",
      "Iteration 129, loss = 0.08459473\n",
      "Iteration 130, loss = 0.08413496\n",
      "Iteration 131, loss = 0.08381517\n",
      "Iteration 132, loss = 0.08350404\n",
      "Iteration 133, loss = 0.08318011\n",
      "Iteration 134, loss = 0.08307789\n",
      "Iteration 135, loss = 0.08272424\n",
      "Iteration 136, loss = 0.08234479\n",
      "Iteration 137, loss = 0.08214571\n",
      "Iteration 138, loss = 0.08184298\n",
      "Iteration 139, loss = 0.08157030\n",
      "Iteration 140, loss = 0.08112998\n",
      "Iteration 141, loss = 0.08087868\n",
      "Iteration 142, loss = 0.08073225\n",
      "Iteration 143, loss = 0.08025773\n",
      "Iteration 144, loss = 0.08005281\n",
      "Iteration 145, loss = 0.07980894\n",
      "Iteration 146, loss = 0.07957817\n",
      "Iteration 147, loss = 0.07923254\n",
      "Iteration 148, loss = 0.07890802\n",
      "Iteration 149, loss = 0.07859841\n",
      "Iteration 150, loss = 0.07826225\n",
      "Iteration 151, loss = 0.07807911\n",
      "Iteration 152, loss = 0.07782454\n",
      "Iteration 153, loss = 0.07746572\n",
      "Iteration 154, loss = 0.07714352\n",
      "Iteration 155, loss = 0.07694095\n",
      "Iteration 156, loss = 0.07663308\n",
      "Iteration 157, loss = 0.07635516\n",
      "Iteration 158, loss = 0.07607275\n",
      "Iteration 159, loss = 0.07593838\n",
      "Iteration 160, loss = 0.07553174\n",
      "Iteration 161, loss = 0.07524823\n",
      "Iteration 162, loss = 0.07503514\n",
      "Iteration 163, loss = 0.07472802\n",
      "Iteration 164, loss = 0.07445179\n",
      "Iteration 165, loss = 0.07432178\n",
      "Iteration 166, loss = 0.07387351\n",
      "Iteration 167, loss = 0.07369544\n",
      "Iteration 168, loss = 0.07334091\n",
      "Iteration 169, loss = 0.07302440\n",
      "Iteration 170, loss = 0.07273020\n",
      "Iteration 171, loss = 0.07242726\n",
      "Iteration 172, loss = 0.07224275\n",
      "Iteration 173, loss = 0.07192050\n",
      "Iteration 174, loss = 0.07169069\n",
      "Iteration 175, loss = 0.07139679\n",
      "Iteration 176, loss = 0.07124464\n",
      "Iteration 177, loss = 0.07107691\n",
      "Iteration 178, loss = 0.07074892\n",
      "Iteration 179, loss = 0.07035220\n",
      "Iteration 180, loss = 0.06998809\n",
      "Iteration 181, loss = 0.06977583\n",
      "Iteration 182, loss = 0.06948573\n",
      "Iteration 183, loss = 0.06926803\n",
      "Iteration 184, loss = 0.06900510\n",
      "Iteration 185, loss = 0.06894891\n",
      "Iteration 186, loss = 0.06861597\n",
      "Iteration 187, loss = 0.06839733\n",
      "Iteration 188, loss = 0.06812020\n",
      "Iteration 189, loss = 0.06765791\n",
      "Iteration 190, loss = 0.06752086\n",
      "Iteration 191, loss = 0.06721196\n",
      "Iteration 192, loss = 0.06688433\n",
      "Iteration 193, loss = 0.06658245\n",
      "Iteration 194, loss = 0.06636115\n",
      "Iteration 195, loss = 0.06607955\n",
      "Iteration 196, loss = 0.06588831\n",
      "Iteration 197, loss = 0.06561306\n",
      "Iteration 198, loss = 0.06552290\n",
      "Iteration 199, loss = 0.06519729\n",
      "Iteration 200, loss = 0.06478091\n",
      "Iteration 201, loss = 0.06452311\n",
      "Iteration 202, loss = 0.06426762\n",
      "Iteration 203, loss = 0.06425425\n",
      "Iteration 204, loss = 0.06376605\n",
      "Iteration 205, loss = 0.06348997\n",
      "Iteration 206, loss = 0.06316071\n",
      "Iteration 207, loss = 0.06295420\n",
      "Iteration 208, loss = 0.06271392\n",
      "Iteration 209, loss = 0.06240774\n",
      "Iteration 210, loss = 0.06220391\n",
      "Iteration 211, loss = 0.06193925\n",
      "Iteration 212, loss = 0.06178239\n",
      "Iteration 213, loss = 0.06152127\n",
      "Iteration 214, loss = 0.06128175\n",
      "Iteration 215, loss = 0.06100943\n",
      "Iteration 216, loss = 0.06067066\n",
      "Iteration 217, loss = 0.06046598\n",
      "Iteration 218, loss = 0.06020114\n",
      "Iteration 219, loss = 0.06001367\n",
      "Iteration 220, loss = 0.05972192\n",
      "Iteration 221, loss = 0.05958511\n",
      "Iteration 222, loss = 0.05922078\n",
      "Iteration 223, loss = 0.05904595\n",
      "Iteration 224, loss = 0.05871396\n",
      "Iteration 225, loss = 0.05846065\n",
      "Iteration 226, loss = 0.05825429\n",
      "Iteration 227, loss = 0.05805149\n",
      "Iteration 228, loss = 0.05771496\n",
      "Iteration 229, loss = 0.05744001\n",
      "Iteration 230, loss = 0.05706922\n",
      "Iteration 231, loss = 0.05737650\n",
      "Iteration 232, loss = 0.05675912\n",
      "Iteration 233, loss = 0.05650619\n",
      "Iteration 234, loss = 0.05616634\n",
      "Iteration 235, loss = 0.05591549\n",
      "Iteration 236, loss = 0.05571002\n",
      "Iteration 237, loss = 0.05546290\n",
      "Iteration 238, loss = 0.05527751\n",
      "Iteration 239, loss = 0.05489843\n",
      "Iteration 240, loss = 0.05468243\n",
      "Iteration 241, loss = 0.05448961\n",
      "Iteration 242, loss = 0.05429545\n",
      "Iteration 243, loss = 0.05406911\n",
      "Iteration 244, loss = 0.05377373\n",
      "Iteration 245, loss = 0.05354634\n",
      "Iteration 246, loss = 0.05327861\n",
      "Iteration 247, loss = 0.05305591\n",
      "Iteration 248, loss = 0.05288394\n",
      "Iteration 249, loss = 0.05266413\n",
      "Iteration 250, loss = 0.05250613\n",
      "Iteration 251, loss = 0.05219710\n",
      "Iteration 252, loss = 0.05191098\n",
      "Iteration 253, loss = 0.05171957\n",
      "Iteration 254, loss = 0.05148571\n",
      "Iteration 255, loss = 0.05170884\n",
      "Iteration 256, loss = 0.05139101\n",
      "Iteration 257, loss = 0.05109146\n",
      "Iteration 258, loss = 0.05085055\n",
      "Iteration 259, loss = 0.05039120\n",
      "Iteration 260, loss = 0.05007577\n",
      "Iteration 261, loss = 0.04998963\n",
      "Iteration 262, loss = 0.04960771\n",
      "Iteration 263, loss = 0.04937736\n",
      "Iteration 264, loss = 0.04917998\n",
      "Iteration 265, loss = 0.04897159\n",
      "Iteration 266, loss = 0.04869426\n",
      "Iteration 267, loss = 0.04850631\n",
      "Iteration 268, loss = 0.04834469\n",
      "Iteration 269, loss = 0.04811959\n",
      "Iteration 270, loss = 0.04793028\n",
      "Iteration 271, loss = 0.04766799\n",
      "Iteration 272, loss = 0.04742346\n",
      "Iteration 273, loss = 0.04719801\n",
      "Iteration 274, loss = 0.04717866\n",
      "Iteration 275, loss = 0.04685814\n",
      "Iteration 276, loss = 0.04663861\n",
      "Iteration 277, loss = 0.04645162\n",
      "Iteration 278, loss = 0.04624596\n",
      "Iteration 279, loss = 0.04604468\n",
      "Iteration 280, loss = 0.04581488\n",
      "Iteration 281, loss = 0.04570237\n",
      "Iteration 282, loss = 0.04536755\n",
      "Iteration 283, loss = 0.04521574\n",
      "Iteration 284, loss = 0.04500100\n",
      "Iteration 285, loss = 0.04481885\n",
      "Iteration 286, loss = 0.04456711\n",
      "Iteration 287, loss = 0.04432094\n",
      "Iteration 288, loss = 0.04413448\n",
      "Iteration 289, loss = 0.04404077\n",
      "Iteration 290, loss = 0.04380208\n",
      "Iteration 291, loss = 0.04360489\n",
      "Iteration 292, loss = 0.04353192\n",
      "Iteration 293, loss = 0.04332637\n",
      "Iteration 294, loss = 0.04308891\n",
      "Iteration 295, loss = 0.04276239\n",
      "Iteration 296, loss = 0.04272728\n",
      "Iteration 297, loss = 0.04254426\n",
      "Iteration 298, loss = 0.04247364\n",
      "Iteration 299, loss = 0.04213509\n",
      "Iteration 300, loss = 0.04190904\n",
      "Iteration 301, loss = 0.04162290\n",
      "Iteration 302, loss = 0.04157639\n",
      "Iteration 303, loss = 0.04147611\n",
      "Iteration 304, loss = 0.04138322\n",
      "Iteration 305, loss = 0.04106788\n",
      "Iteration 306, loss = 0.04083807\n",
      "Iteration 307, loss = 0.04067559\n",
      "Iteration 308, loss = 0.04056516\n",
      "Iteration 309, loss = 0.04040267\n",
      "Iteration 310, loss = 0.04027573\n",
      "Iteration 311, loss = 0.04006594\n",
      "Iteration 312, loss = 0.03995208\n",
      "Iteration 313, loss = 0.03968276\n",
      "Iteration 314, loss = 0.03939507\n",
      "Iteration 315, loss = 0.03919046\n",
      "Iteration 316, loss = 0.03912650\n",
      "Iteration 317, loss = 0.03904036\n",
      "Iteration 318, loss = 0.03892783\n",
      "Iteration 319, loss = 0.03885754\n",
      "Iteration 320, loss = 0.03856928\n",
      "Iteration 321, loss = 0.03833663\n",
      "Iteration 322, loss = 0.03823434\n",
      "Iteration 323, loss = 0.03794502\n",
      "Iteration 324, loss = 0.03782676\n",
      "Iteration 325, loss = 0.03775114\n",
      "Iteration 326, loss = 0.03755085\n",
      "Iteration 327, loss = 0.03752825\n",
      "Iteration 328, loss = 0.03729615\n",
      "Iteration 329, loss = 0.03712918\n",
      "Iteration 330, loss = 0.03692661\n",
      "Iteration 331, loss = 0.03680025\n",
      "Iteration 332, loss = 0.03667070\n",
      "Iteration 333, loss = 0.03654275\n",
      "Iteration 334, loss = 0.03650834\n",
      "Iteration 335, loss = 0.03638407\n",
      "Iteration 336, loss = 0.03606657\n",
      "Iteration 337, loss = 0.03592809\n",
      "Iteration 338, loss = 0.03572427\n",
      "Iteration 339, loss = 0.03561263\n",
      "Iteration 340, loss = 0.03540741\n",
      "Iteration 341, loss = 0.03534191\n",
      "Iteration 342, loss = 0.03509199\n",
      "Iteration 343, loss = 0.03504390\n",
      "Iteration 344, loss = 0.03491973\n",
      "Iteration 345, loss = 0.03481563\n",
      "Iteration 346, loss = 0.03455562\n",
      "Iteration 347, loss = 0.03443841\n",
      "Iteration 348, loss = 0.03428977\n",
      "Iteration 349, loss = 0.03411978\n",
      "Iteration 350, loss = 0.03410520\n",
      "Iteration 351, loss = 0.03395347\n",
      "Iteration 352, loss = 0.03378448\n",
      "Iteration 353, loss = 0.03369715\n",
      "Iteration 354, loss = 0.03355492\n",
      "Iteration 355, loss = 0.03352825\n",
      "Iteration 356, loss = 0.03340556\n",
      "Iteration 357, loss = 0.03320379\n",
      "Iteration 358, loss = 0.03304870\n",
      "Iteration 359, loss = 0.03298430\n",
      "Iteration 360, loss = 0.03277717\n",
      "Iteration 361, loss = 0.03264647\n",
      "Iteration 362, loss = 0.03257608\n",
      "Iteration 363, loss = 0.03246986\n",
      "Iteration 364, loss = 0.03226661\n",
      "Iteration 365, loss = 0.03248242\n",
      "Iteration 366, loss = 0.03220765\n",
      "Iteration 367, loss = 0.03191921\n",
      "Iteration 368, loss = 0.03184984\n",
      "Iteration 369, loss = 0.03174108\n",
      "Iteration 370, loss = 0.03164173\n",
      "Iteration 371, loss = 0.03155725\n",
      "Iteration 372, loss = 0.03148100\n",
      "Iteration 373, loss = 0.03131785\n",
      "Iteration 374, loss = 0.03114737\n",
      "Iteration 375, loss = 0.03108592\n",
      "Iteration 376, loss = 0.03091584\n",
      "Iteration 377, loss = 0.03082788\n",
      "Iteration 378, loss = 0.03069888\n",
      "Iteration 379, loss = 0.03055595\n",
      "Iteration 380, loss = 0.03054456\n",
      "Iteration 381, loss = 0.03048377\n",
      "Iteration 382, loss = 0.03053555\n",
      "Iteration 383, loss = 0.03028127\n",
      "Iteration 384, loss = 0.03008161\n",
      "Iteration 385, loss = 0.03006747\n",
      "Iteration 386, loss = 0.02994160\n",
      "Iteration 387, loss = 0.02984192\n",
      "Iteration 388, loss = 0.02966832\n",
      "Iteration 389, loss = 0.02957767\n",
      "Iteration 390, loss = 0.02948513\n",
      "Iteration 391, loss = 0.02933702\n",
      "Iteration 392, loss = 0.02918766\n",
      "Iteration 393, loss = 0.02909312\n",
      "Iteration 394, loss = 0.02905279\n",
      "Iteration 395, loss = 0.02891053\n",
      "Iteration 396, loss = 0.02883971\n",
      "Iteration 397, loss = 0.02878485\n",
      "Iteration 398, loss = 0.02864884\n",
      "Iteration 399, loss = 0.02850835\n",
      "Iteration 400, loss = 0.02842214\n",
      "Iteration 401, loss = 0.02853106\n",
      "Iteration 402, loss = 0.02830807\n",
      "Iteration 403, loss = 0.02816646\n",
      "Iteration 404, loss = 0.02817296\n",
      "Iteration 405, loss = 0.02797924\n",
      "Iteration 406, loss = 0.02790416\n",
      "Iteration 407, loss = 0.02793646\n",
      "Iteration 408, loss = 0.02769130\n",
      "Iteration 409, loss = 0.02754529\n",
      "Iteration 410, loss = 0.02759542\n",
      "Iteration 411, loss = 0.02755265\n",
      "Iteration 412, loss = 0.02746724\n",
      "Iteration 413, loss = 0.02730905\n",
      "Iteration 414, loss = 0.02716979\n",
      "Iteration 415, loss = 0.02709213\n",
      "Iteration 416, loss = 0.02695785\n",
      "Iteration 417, loss = 0.02687922\n",
      "Iteration 418, loss = 0.02678456\n",
      "Iteration 419, loss = 0.02673457\n",
      "Iteration 420, loss = 0.02666378\n",
      "Iteration 421, loss = 0.02659177\n",
      "Iteration 422, loss = 0.02647970\n",
      "Iteration 423, loss = 0.02646931\n",
      "Iteration 424, loss = 0.02629186\n",
      "Iteration 425, loss = 0.02625081\n",
      "Iteration 426, loss = 0.02611551\n",
      "Iteration 427, loss = 0.02605024\n",
      "Iteration 428, loss = 0.02595704\n",
      "Iteration 429, loss = 0.02602758\n",
      "Iteration 430, loss = 0.02584112\n",
      "Iteration 431, loss = 0.02572982\n",
      "Iteration 432, loss = 0.02565895\n",
      "Iteration 433, loss = 0.02557239\n",
      "Iteration 434, loss = 0.02550366\n",
      "Iteration 435, loss = 0.02542046\n",
      "Iteration 436, loss = 0.02532328\n",
      "Iteration 437, loss = 0.02525406\n",
      "Iteration 438, loss = 0.02519920\n",
      "Iteration 439, loss = 0.02516334\n",
      "Iteration 440, loss = 0.02502925\n",
      "Iteration 441, loss = 0.02493351\n",
      "Iteration 442, loss = 0.02489112\n",
      "Iteration 443, loss = 0.02485379\n",
      "Iteration 444, loss = 0.02482298\n",
      "Iteration 445, loss = 0.02471625\n",
      "Iteration 446, loss = 0.02456335\n",
      "Iteration 447, loss = 0.02452826\n",
      "Iteration 448, loss = 0.02438914\n",
      "Iteration 449, loss = 0.02434721\n",
      "Iteration 450, loss = 0.02429582\n",
      "Iteration 451, loss = 0.02421383\n",
      "Iteration 452, loss = 0.02414034\n",
      "Iteration 453, loss = 0.02414568\n",
      "Iteration 454, loss = 0.02403435\n",
      "Iteration 455, loss = 0.02392958\n",
      "Iteration 456, loss = 0.02386386\n",
      "Iteration 457, loss = 0.02383316\n",
      "Iteration 458, loss = 0.02370813\n",
      "Iteration 459, loss = 0.02377062\n",
      "Iteration 460, loss = 0.02367475\n",
      "Iteration 461, loss = 0.02351443\n",
      "Iteration 462, loss = 0.02346262\n",
      "Iteration 463, loss = 0.02343650\n",
      "Iteration 464, loss = 0.02337029\n",
      "Iteration 465, loss = 0.02331477\n",
      "Iteration 466, loss = 0.02319586\n",
      "Iteration 467, loss = 0.02318652\n",
      "Iteration 468, loss = 0.02305757\n",
      "Iteration 469, loss = 0.02296791\n",
      "Iteration 470, loss = 0.02288773\n",
      "Iteration 471, loss = 0.02286007\n",
      "Iteration 472, loss = 0.02281212\n",
      "Iteration 473, loss = 0.02273370\n",
      "Iteration 474, loss = 0.02264273\n",
      "Iteration 475, loss = 0.02263436\n",
      "Iteration 476, loss = 0.02253423\n",
      "Iteration 477, loss = 0.02249833\n",
      "Iteration 478, loss = 0.02248781\n",
      "Iteration 479, loss = 0.02242346\n",
      "Iteration 480, loss = 0.02237063\n",
      "Iteration 481, loss = 0.02235316\n",
      "Iteration 482, loss = 0.02217059\n",
      "Iteration 483, loss = 0.02217114\n",
      "Iteration 484, loss = 0.02209220\n",
      "Iteration 485, loss = 0.02194397\n",
      "Iteration 486, loss = 0.02198705\n",
      "Iteration 487, loss = 0.02205941\n",
      "Iteration 488, loss = 0.02203078\n",
      "Iteration 489, loss = 0.02188516\n",
      "Iteration 490, loss = 0.02171687\n",
      "Iteration 491, loss = 0.02156593\n",
      "Iteration 492, loss = 0.02161381\n",
      "Iteration 493, loss = 0.02175619\n",
      "Iteration 494, loss = 0.02173584\n",
      "Iteration 495, loss = 0.02152494\n",
      "Iteration 496, loss = 0.02128568\n",
      "Iteration 497, loss = 0.02128816\n",
      "Iteration 498, loss = 0.02114554\n",
      "Iteration 499, loss = 0.02126306\n",
      "Iteration 500, loss = 0.02113284\n",
      "Iteration 501, loss = 0.02107059\n",
      "Iteration 502, loss = 0.02089499\n",
      "Iteration 503, loss = 0.02095329\n",
      "Iteration 504, loss = 0.02083233\n",
      "Iteration 505, loss = 0.02081151\n",
      "Iteration 506, loss = 0.02068635\n",
      "Iteration 507, loss = 0.02068177\n",
      "Iteration 508, loss = 0.02058993\n",
      "Iteration 509, loss = 0.02056775\n",
      "Iteration 510, loss = 0.02048777\n",
      "Iteration 511, loss = 0.02042739\n",
      "Iteration 512, loss = 0.02032364\n",
      "Iteration 513, loss = 0.02028154\n",
      "Iteration 514, loss = 0.02030558\n",
      "Iteration 515, loss = 0.02032960\n",
      "Iteration 516, loss = 0.02023361\n",
      "Iteration 517, loss = 0.02010597\n",
      "Iteration 518, loss = 0.02008698\n",
      "Iteration 519, loss = 0.02013037\n",
      "Iteration 520, loss = 0.02000412\n",
      "Iteration 521, loss = 0.01989674\n",
      "Iteration 522, loss = 0.01984883\n",
      "Iteration 523, loss = 0.01987422\n",
      "Iteration 524, loss = 0.01978470\n",
      "Iteration 525, loss = 0.01976288\n",
      "Iteration 526, loss = 0.01982403\n",
      "Iteration 527, loss = 0.01957537\n",
      "Iteration 528, loss = 0.01956605\n",
      "Iteration 529, loss = 0.01947017\n",
      "Iteration 530, loss = 0.01950330\n",
      "Iteration 531, loss = 0.01952541\n",
      "Iteration 532, loss = 0.01940681\n",
      "Iteration 533, loss = 0.01938652\n",
      "Iteration 534, loss = 0.01926675\n",
      "Iteration 535, loss = 0.01923977\n",
      "Iteration 536, loss = 0.01916281\n",
      "Iteration 537, loss = 0.01911506\n",
      "Iteration 538, loss = 0.01900679\n",
      "Iteration 539, loss = 0.01896601\n",
      "Iteration 540, loss = 0.01893535\n",
      "Iteration 541, loss = 0.01895258\n",
      "Iteration 542, loss = 0.01883672\n",
      "Iteration 543, loss = 0.01883323\n",
      "Iteration 544, loss = 0.01884425\n",
      "Iteration 545, loss = 0.01865096\n",
      "Iteration 546, loss = 0.01857523\n",
      "Iteration 547, loss = 0.01855984\n",
      "Iteration 548, loss = 0.01859646\n",
      "Iteration 549, loss = 0.01860082\n",
      "Iteration 550, loss = 0.01850313\n",
      "Iteration 551, loss = 0.01842121\n",
      "Iteration 552, loss = 0.01845447\n",
      "Iteration 553, loss = 0.01835034\n",
      "Iteration 554, loss = 0.01830503\n",
      "Iteration 555, loss = 0.01827116\n",
      "Iteration 556, loss = 0.01814210\n",
      "Iteration 557, loss = 0.01807354\n",
      "Iteration 558, loss = 0.01804600\n",
      "Iteration 559, loss = 0.01805315\n",
      "Iteration 560, loss = 0.01798898\n",
      "Iteration 561, loss = 0.01793046\n",
      "Iteration 562, loss = 0.01792332\n",
      "Iteration 563, loss = 0.01785081\n",
      "Iteration 564, loss = 0.01778711\n",
      "Iteration 565, loss = 0.01778001\n",
      "Iteration 566, loss = 0.01774693\n",
      "Iteration 567, loss = 0.01770992\n",
      "Training loss did not improve more than tol=0.000100 for 10 consecutive epochs. Stopping.\n"
     ]
    },
    {
     "data": {
      "text/plain": [
       "MLPClassifier(activation='tanh', hidden_layer_sizes=(25, 25), max_iter=1750,\n",
       "              verbose=True)"
      ]
     },
     "execution_count": 1239,
     "metadata": {},
     "output_type": "execute_result"
    }
   ],
   "source": [
    "neural_network = MLPClassifier(max_iter=1750, verbose=True, solver= 'adam', activation='tanh', hidden_layer_sizes=(25, 25))\n",
    "neural_network.fit(x_train, y_train)"
   ]
  },
  {
   "cell_type": "code",
   "execution_count": 1240,
   "metadata": {},
   "outputs": [],
   "source": [
    "predictions = neural_network.predict(x_test)"
   ]
  },
  {
   "cell_type": "code",
   "execution_count": 1241,
   "metadata": {},
   "outputs": [
    {
     "data": {
      "text/plain": [
       "array([1, 0, 0, ..., 0, 0, 0])"
      ]
     },
     "execution_count": 1241,
     "metadata": {},
     "output_type": "execute_result"
    }
   ],
   "source": [
    "predictions"
   ]
  },
  {
   "cell_type": "code",
   "execution_count": 1242,
   "metadata": {},
   "outputs": [],
   "source": [
    "from sklearn.metrics import accuracy_score"
   ]
  },
  {
   "cell_type": "code",
   "execution_count": 1243,
   "metadata": {},
   "outputs": [
    {
     "data": {
      "text/plain": [
       "99.67"
      ]
     },
     "execution_count": 1243,
     "metadata": {},
     "output_type": "execute_result"
    }
   ],
   "source": [
    "float(\"{:.2f}\".format(accuracy_score(y_test, predictions) * 100))"
   ]
  },
  {
   "cell_type": "code",
   "execution_count": 1244,
   "metadata": {},
   "outputs": [
    {
     "data": {
      "image/png": "[encoded data removed]",
      "text/plain": [
       "<Figure size 648x360 with 2 Axes>"
      ]
     },
     "metadata": {
      "needs_background": "light"
     },
     "output_type": "display_data"
    }
   ],
   "source": [
    "fig, ax = plt.subplots(1,2, figsize=(9,5));\n",
    "sns.countplot(x = y_test, ax=ax[0]).set_title('Real results');\n",
    "sns.countplot(x = predictions, ax=ax[1]).set_title('Algorithm predictions');\n",
    "plt.ylabel(' ');"
   ]
  },
  {
   "cell_type": "code",
   "execution_count": 1245,
   "metadata": {},
   "outputs": [],
   "source": [
    "from sklearn.metrics import classification_report"
   ]
  },
  {
   "cell_type": "code",
   "execution_count": 1246,
   "metadata": {},
   "outputs": [
    {
     "name": "stdout",
     "output_type": "stream",
     "text": [
      "              precision    recall  f1-score   support\n",
      "\n",
      "           0       1.00      1.00      1.00      1292\n",
      "           1       0.99      0.99      0.99       208\n",
      "\n",
      "    accuracy                           1.00      1500\n",
      "   macro avg       0.99      0.99      0.99      1500\n",
      "weighted avg       1.00      1.00      1.00      1500\n",
      "\n"
     ]
    }
   ],
   "source": [
    "print(classification_report(y_test, predictions))"
   ]
  },
  {
   "cell_type": "code",
   "execution_count": 1247,
   "metadata": {},
   "outputs": [],
   "source": [
    "import pickle"
   ]
  },
  {
   "cell_type": "code",
   "execution_count": 1248,
   "metadata": {},
   "outputs": [],
   "source": [
    "pickle.dump(neural_network, open('neural_network_creditrisk.sav', 'wb'))"
   ]
  }
 ],
 "metadata": {
  "interpreter": {
   "hash": "916dbcbb3f70747c44a77c7bcd40155683ae19c65e1c03b4aa3499c5328201f1"
  },
  "kernelspec": {
   "display_name": "Python 3 (ipykernel)",
   "language": "python",
   "name": "python3"
  },
  "language_info": {
   "codemirror_mode": {
    "name": "ipython",
    "version": 3
   },
   "file_extension": ".py",
   "mimetype": "text/x-python",
   "name": "python",
   "nbconvert_exporter": "python",
   "pygments_lexer": "ipython3",
   "version": "3.10.2"
  }
 },
 "nbformat": 4,
 "nbformat_minor": 2
}
